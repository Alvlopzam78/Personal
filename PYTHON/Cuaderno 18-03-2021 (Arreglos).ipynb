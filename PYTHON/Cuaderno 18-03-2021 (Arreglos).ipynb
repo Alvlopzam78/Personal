{
 "cells": [
  {
   "cell_type": "code",
   "execution_count": 1,
   "metadata": {},
   "outputs": [
    {
     "name": "stdout",
     "output_type": "stream",
     "text": [
      "Using matplotlib backend: MacOSX\n",
      "Populating the interactive namespace from numpy and matplotlib\n"
     ]
    }
   ],
   "source": [
    "import numpy as np\n",
    "import scipy as sp\n",
    "from numpy import math\n",
    "%pylab\n",
    "%matplotlib inline"
   ]
  },
  {
   "cell_type": "markdown",
   "metadata": {},
   "source": [
    "# Repaso de Archivos"
   ]
  },
  {
   "cell_type": "code",
   "execution_count": 2,
   "metadata": {},
   "outputs": [],
   "source": [
    "#Archivo de escritura\n",
    "arch=open(\"datos.txt\",\"w\")\n",
    "arch.write(\"Creado por Álvaro López Zamora \\n\")\n",
    "arch.close()"
   ]
  },
  {
   "cell_type": "code",
   "execution_count": 3,
   "metadata": {},
   "outputs": [],
   "source": [
    "#Archivo con append (agregar información a un archivo existente)\n",
    "arch2=open(\"datos.txt\",\"a\")\n",
    "arch2.write(\"Margarita Olmedo de la Peña \\n\")\n",
    "arch2.close()"
   ]
  },
  {
   "cell_type": "markdown",
   "metadata": {},
   "source": [
    "# Arreglos"
   ]
  },
  {
   "cell_type": "code",
   "execution_count": 10,
   "metadata": {},
   "outputs": [
    {
     "data": {
      "text/plain": [
       "66"
      ]
     },
     "execution_count": 10,
     "metadata": {},
     "output_type": "execute_result"
    }
   ],
   "source": [
    "np.random.randint(10,99) #Genera numeros enteros aleatorioes entre los limites que nosotros pongamos"
   ]
  },
  {
   "cell_type": "code",
   "execution_count": 11,
   "metadata": {},
   "outputs": [
    {
     "data": {
      "text/plain": [
       "array([[93, 25, 21, 56, 95, 48, 37],\n",
       "       [47, 95, 63, 52, 83, 76, 96],\n",
       "       [44, 94, 52, 65, 73, 63, 30],\n",
       "       [50, 88, 34, 12, 40, 72, 59],\n",
       "       [55, 90, 53, 46, 76, 53, 74]])"
      ]
     },
     "execution_count": 11,
     "metadata": {},
     "output_type": "execute_result"
    }
   ],
   "source": [
    "arrA=np.random.randint(10,99,(5,7)) #Los últiimos números especifican la cantidad de renglones y columnas\n",
    "arrA"
   ]
  },
  {
   "cell_type": "code",
   "execution_count": 9,
   "metadata": {},
   "outputs": [
    {
     "data": {
      "text/plain": [
       "2"
      ]
     },
     "execution_count": 9,
     "metadata": {},
     "output_type": "execute_result"
    }
   ],
   "source": [
    "arrA.ndim"
   ]
  },
  {
   "cell_type": "code",
   "execution_count": 44,
   "metadata": {},
   "outputs": [
    {
     "data": {
      "text/plain": [
       "35"
      ]
     },
     "execution_count": 44,
     "metadata": {},
     "output_type": "execute_result"
    }
   ],
   "source": [
    "arrA.size"
   ]
  },
  {
   "cell_type": "code",
   "execution_count": 45,
   "metadata": {},
   "outputs": [
    {
     "data": {
      "text/plain": [
       "(5, 7)"
      ]
     },
     "execution_count": 45,
     "metadata": {},
     "output_type": "execute_result"
    }
   ],
   "source": [
    "arrA.shape"
   ]
  },
  {
   "cell_type": "code",
   "execution_count": 51,
   "metadata": {},
   "outputs": [
    {
     "data": {
      "text/plain": [
       "array([[[72, 21, 85, 51, 75, 21, 58],\n",
       "        [57, 76, 54, 19, 41, 57, 21],\n",
       "        [33, 40, 48, 47, 54, 40, 82],\n",
       "        [41, 41, 40, 16, 10, 14, 91],\n",
       "        [21, 80, 90, 15, 64, 52, 15]],\n",
       "\n",
       "       [[18, 67, 58, 79, 74, 72, 90],\n",
       "        [19, 59, 55, 73, 90, 60, 21],\n",
       "        [23, 70, 55, 68, 44, 86, 86],\n",
       "        [20, 30, 17, 69, 58, 53, 20],\n",
       "        [51, 39, 18, 15, 51, 42, 71]],\n",
       "\n",
       "       [[40, 81, 11, 46, 50, 91, 34],\n",
       "        [46, 62, 20, 80, 64, 40, 43],\n",
       "        [49, 27, 10, 73, 73, 48, 97],\n",
       "        [61, 70, 20, 39, 89, 56, 67],\n",
       "        [22, 81, 44, 54, 54, 14, 63]],\n",
       "\n",
       "       [[25, 46, 61, 37, 78, 38, 83],\n",
       "        [95, 57, 88, 93, 29, 88, 91],\n",
       "        [86, 61, 82, 16, 90, 41, 23],\n",
       "        [63, 40, 18, 18, 54, 77, 91],\n",
       "        [91, 14, 29, 44, 92, 85, 40]]])"
      ]
     },
     "execution_count": 51,
     "metadata": {},
     "output_type": "execute_result"
    }
   ],
   "source": [
    "arrB=np.random.randint(10,99,(4,5,7))\n",
    "arrB"
   ]
  },
  {
   "cell_type": "code",
   "execution_count": 52,
   "metadata": {},
   "outputs": [
    {
     "data": {
      "text/plain": [
       "3"
      ]
     },
     "execution_count": 52,
     "metadata": {},
     "output_type": "execute_result"
    }
   ],
   "source": [
    "arrB.ndim"
   ]
  },
  {
   "cell_type": "code",
   "execution_count": 15,
   "metadata": {},
   "outputs": [
    {
     "data": {
      "text/plain": [
       "53"
      ]
     },
     "execution_count": 15,
     "metadata": {},
     "output_type": "execute_result"
    }
   ],
   "source": [
    "\n",
    "arrA[4,5] #especificamos las coordenadas (índice) "
   ]
  },
  {
   "cell_type": "code",
   "execution_count": 27,
   "metadata": {},
   "outputs": [
    {
     "data": {
      "text/plain": [
       "array([[93, 25, 21, 56, 95, 48, 37],\n",
       "       [47, 95, 63, 52, 83, 76, 96]])"
      ]
     },
     "execution_count": 27,
     "metadata": {},
     "output_type": "execute_result"
    }
   ],
   "source": [
    "arrA[:2] #Dame todo el primer renglon"
   ]
  },
  {
   "cell_type": "code",
   "execution_count": 29,
   "metadata": {},
   "outputs": [
    {
     "data": {
      "text/plain": [
       "array([[52, 83, 76],\n",
       "       [65, 73, 63]])"
      ]
     },
     "execution_count": 29,
     "metadata": {},
     "output_type": "execute_result"
    }
   ],
   "source": [
    "arreglito=arrA[1:3,3:6] #los primeros 4 elementos de los primeros 3 renglones. Extrae una sección\n",
    "arreglito"
   ]
  },
  {
   "cell_type": "code",
   "execution_count": 31,
   "metadata": {},
   "outputs": [
    {
     "data": {
      "text/plain": [
       "95"
      ]
     },
     "execution_count": 31,
     "metadata": {},
     "output_type": "execute_result"
    }
   ],
   "source": [
    "arrA[0,4]"
   ]
  },
  {
   "cell_type": "code",
   "execution_count": 32,
   "metadata": {},
   "outputs": [
    {
     "data": {
      "text/plain": [
       "matrix([[93, 25, 21, 56, 95, 48, 37],\n",
       "        [47, 95, 63, 52, 83, 76, 96],\n",
       "        [44, 94, 52, 65, 73, 63, 30],\n",
       "        [50, 88, 34, 12, 40, 72, 59],\n",
       "        [55, 90, 53, 46, 76, 53, 74]])"
      ]
     },
     "execution_count": 32,
     "metadata": {},
     "output_type": "execute_result"
    }
   ],
   "source": [
    "#Convertimos un arreglo multidimensional en matriz\n",
    "matA=np.mat(arrA)\n",
    "matA"
   ]
  },
  {
   "cell_type": "code",
   "execution_count": 41,
   "metadata": {},
   "outputs": [],
   "source": [
    "#Problema de los caramelos\n",
    "mC=np.mat(\"5 2;8 3\") #matrix que representa las cajas compradas\n",
    "mP=np.mat(\"68;104\")"
   ]
  },
  {
   "cell_type": "code",
   "execution_count": 42,
   "metadata": {},
   "outputs": [
    {
     "data": {
      "text/plain": [
       "matrix([[5, 2],\n",
       "        [8, 3]])"
      ]
     },
     "execution_count": 42,
     "metadata": {},
     "output_type": "execute_result"
    }
   ],
   "source": [
    "mC"
   ]
  },
  {
   "cell_type": "code",
   "execution_count": 43,
   "metadata": {},
   "outputs": [
    {
     "data": {
      "text/plain": [
       "matrix([[ 68],\n",
       "        [104]])"
      ]
     },
     "execution_count": 43,
     "metadata": {},
     "output_type": "execute_result"
    }
   ],
   "source": [
    "mP"
   ]
  },
  {
   "cell_type": "code",
   "execution_count": 44,
   "metadata": {},
   "outputs": [
    {
     "data": {
      "text/plain": [
       "matrix([[-3.,  2.],\n",
       "        [ 8., -5.]])"
      ]
     },
     "execution_count": 44,
     "metadata": {},
     "output_type": "execute_result"
    }
   ],
   "source": [
    "mC.I  #saca la matriz inversa de la matriz original"
   ]
  },
  {
   "cell_type": "code",
   "execution_count": 71,
   "metadata": {},
   "outputs": [
    {
     "data": {
      "text/plain": [
       "matrix([[ 4.],\n",
       "        [24.]])"
      ]
     },
     "execution_count": 71,
     "metadata": {},
     "output_type": "execute_result"
    }
   ],
   "source": [
    "solucion=(mC.I)*(mP) #El valor de cada caja se obtiene multiplicando la matriz inversa por la matriz de precios\n",
    "solucion"
   ]
  },
  {
   "cell_type": "code",
   "execution_count": 73,
   "metadata": {},
   "outputs": [],
   "source": [
    "# Por lo tanto Pagué 4 pesos por caja de caramelos y 24 por caja de chocolates "
   ]
  },
  {
   "cell_type": "code",
   "execution_count": 76,
   "metadata": {},
   "outputs": [
    {
     "data": {
      "text/plain": [
       "matrix([[1., 0.],\n",
       "        [0., 1.]])"
      ]
     },
     "execution_count": 76,
     "metadata": {},
     "output_type": "execute_result"
    }
   ],
   "source": [
    "matrizIdentidad=(mC.I)*(mC)\n",
    "matrizIdentidad"
   ]
  },
  {
   "cell_type": "markdown",
   "metadata": {},
   "source": [
    "Veamos que podemos resolver el mismo problema utilizando la biblioteca de algebra lineal de numpy"
   ]
  },
  {
   "cell_type": "code",
   "execution_count": 80,
   "metadata": {},
   "outputs": [
    {
     "data": {
      "text/plain": [
       "matrix([[ 4.],\n",
       "        [24.]])"
      ]
     },
     "execution_count": 80,
     "metadata": {},
     "output_type": "execute_result"
    }
   ],
   "source": [
    "np.linalg.solve(mC,mP)"
   ]
  },
  {
   "cell_type": "markdown",
   "metadata": {},
   "source": [
    "## Ejercicios Arreglos y Matrices"
   ]
  },
  {
   "cell_type": "code",
   "execution_count": 45,
   "metadata": {},
   "outputs": [],
   "source": [
    "#Sistema de ecuaciones 2\n",
    "mV=np.mat(\"1 1 1;2 -1 -1;1 -3 2\") #matrix que representa las cajas compradas\n",
    "mS=np.mat(\"6;-3;5\")"
   ]
  },
  {
   "cell_type": "code",
   "execution_count": 46,
   "metadata": {},
   "outputs": [
    {
     "data": {
      "text/plain": [
       "matrix([[1. ],\n",
       "        [1.2],\n",
       "        [3.8]])"
      ]
     },
     "execution_count": 46,
     "metadata": {},
     "output_type": "execute_result"
    }
   ],
   "source": [
    "solucion=np.linalg.solve(mV,mS)\n",
    "solucion"
   ]
  },
  {
   "cell_type": "code",
   "execution_count": null,
   "metadata": {},
   "outputs": [],
   "source": [
    "Integrantes:\n",
    "    Sara Olivares\n",
    "    Armando Hernández\n",
    "    Ricardo Illescas\n",
    "    David Hernández\n",
    "    Sebastian Abascal\n",
    "    Álvaro López"
   ]
  }
 ],
 "metadata": {
  "kernelspec": {
   "display_name": "Python 3",
   "language": "python",
   "name": "python3"
  },
  "language_info": {
   "codemirror_mode": {
    "name": "ipython",
    "version": 3
   },
   "file_extension": ".py",
   "mimetype": "text/x-python",
   "name": "python",
   "nbconvert_exporter": "python",
   "pygments_lexer": "ipython3",
   "version": "3.8.5"
  }
 },
 "nbformat": 4,
 "nbformat_minor": 4
}
