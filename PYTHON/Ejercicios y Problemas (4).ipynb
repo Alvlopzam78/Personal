{
 "cells": [
  {
   "cell_type": "code",
   "execution_count": 7,
   "metadata": {},
   "outputs": [
    {
     "name": "stdout",
     "output_type": "stream",
     "text": [
      "Using matplotlib backend: MacOSX\n",
      "Populating the interactive namespace from numpy and matplotlib\n"
     ]
    }
   ],
   "source": [
    "import numpy as np\n",
    "import scipy as sp\n",
    "import pandas as pd\n",
    "from numpy import math\n",
    "from pandas import DataFrame\n",
    "%pylab\n",
    "%matplotlib inline"
   ]
  },
  {
   "cell_type": "markdown",
   "metadata": {},
   "source": [
    "# Ejercicios y Problemas (4)"
   ]
  },
  {
   "cell_type": "markdown",
   "metadata": {},
   "source": [
    "## Problemas Aritméticos"
   ]
  },
  {
   "cell_type": "markdown",
   "metadata": {},
   "source": [
    "### Problema 1"
   ]
  },
  {
   "cell_type": "markdown",
   "metadata": {},
   "source": [
    "El gobierno de un país hipotético con 1,321,234,567 habitantes (e.g. India) quiere solicitar a un fabricante industrial los plásticos indispensables para emitir una sola credencial o tarjeta por cada uno de sus habitantes para cumplir un programa de identificación personal (e.g. Aadhaar). Si el fabricante industrial únicamente vende cajas completas que se empacan con exactamente 9,151 plásticos por caja.\n",
    "\n",
    "¿Cuántas cajas deben solicitarse al fabricante industrial para tener una sola tarjeta por cada habitante?\n",
    "\n",
    "¿Suponiendo la cantidad de cajas necesarias de la pregunta anterior, cuántos plásticos sobran para reposiciones?"
   ]
  },
  {
   "cell_type": "code",
   "execution_count": 8,
   "metadata": {},
   "outputs": [
    {
     "name": "stdout",
     "output_type": "stream",
     "text": [
      "Se necesitan 144381 cajas completas\n",
      "Sobran 36933436 plásticos\n"
     ]
    }
   ],
   "source": [
    "población=1321234567\n",
    "piezas=9151\n",
    "cajas=población//piezas\n",
    "sobrante=población%piezas\n",
    "print(\"Se necesitan\",cajas, \"cajas completas\")\n",
    "print(\"Sobran\",sobrante*piezas,\"plásticos\")"
   ]
  },
  {
   "cell_type": "markdown",
   "metadata": {},
   "source": [
    "### Problema 2"
   ]
  },
  {
   "cell_type": "markdown",
   "metadata": {},
   "source": [
    "Una tienda virtual acaba de anunciar un descuento de 23.5 % sobre el precio de lista de la laptop MachTec de moda. Si el precio de lista de la laptop MachTec antes de aplicar el impuesto (IVA) es $ 24,836.76 (pesos mexicanos),\n",
    "\n",
    "¿Cuál es el precio que deben pagar los compradores si para calcular el precio final, al precio de lista ya descontado debe aplicarse 16% de IVA?"
   ]
  },
  {
   "cell_type": "code",
   "execution_count": 7,
   "metadata": {},
   "outputs": [
    {
     "name": "stdout",
     "output_type": "stream",
     "text": [
      "Los compradores deben pagar $  22040.14\n"
     ]
    }
   ],
   "source": [
    "descuento=0.235\n",
    "precioLista=24836.76\n",
    "IVA=.16\n",
    "precioDescuento=precioLista*(1-descuento)\n",
    "impuesto=precioDescuento*IVA\n",
    "precioFinal=precioDescuento+impuesto\n",
    "print(\"Los compradores deben pagar $ \", round(precioFinal,2))"
   ]
  },
  {
   "cell_type": "markdown",
   "metadata": {},
   "source": [
    "### Problema 3"
   ]
  },
  {
   "cell_type": "markdown",
   "metadata": {},
   "source": [
    "Un cortador de leña vende un carro de leña por $100,000.00. El costo de producción de ese carro de leña es igual a 4/5 del precio de venta ¿Cuál es la ganancia?"
   ]
  },
  {
   "cell_type": "code",
   "execution_count": 8,
   "metadata": {},
   "outputs": [
    {
     "name": "stdout",
     "output_type": "stream",
     "text": [
      "La ganancia es de $  20000.0\n"
     ]
    }
   ],
   "source": [
    "precioVenta=100000\n",
    "costoProducción=(4/5)*(precioVenta)\n",
    "ganancia=precioVenta-costoProducción\n",
    "print(\"La ganancia es de $ \", ganancia)"
   ]
  },
  {
   "cell_type": "markdown",
   "metadata": {},
   "source": [
    "### Problema 4"
   ]
  },
  {
   "cell_type": "markdown",
   "metadata": {},
   "source": [
    "Si se consideran las alturas sobre el nivel del piso de la Torre Mayor del Paseo de la Reforma (aprox. 226 m.) y el obelisco del ITAM (aprox. 18 m.), situado en el paso del Estacionamiento de Maestros a la Plaza de las Palmeras,\n",
    "¿Cuántas veces cabe el obelisco en la torre? Escriba su respuesta de dos maneras:\n",
    "\n",
    "   i) Con un valor numérico aproximado con decimales\n"
   ]
  },
  {
   "cell_type": "code",
   "execution_count": 9,
   "metadata": {},
   "outputs": [
    {
     "name": "stdout",
     "output_type": "stream",
     "text": [
      "El obelisco del ITAM cabe 12.555555555555555 veces\n"
     ]
    }
   ],
   "source": [
    "torreMayor=226\n",
    "obelisco=18\n",
    "resultado1=torreMayor/obelisco\n",
    "print(\"El obelisco del ITAM cabe\", resultado1, \"veces\")"
   ]
  },
  {
   "cell_type": "markdown",
   "metadata": {},
   "source": [
    "  ii) Con un valor racional exacto, mostrando un valor entero (cantidad de obeliscos enteros)\n",
    "       y un valor racional (una fracción propia del obelisco)."
   ]
  },
  {
   "cell_type": "code",
   "execution_count": 10,
   "metadata": {},
   "outputs": [
    {
     "name": "stdout",
     "output_type": "stream",
     "text": [
      "El obelisco del ITAM cabe 12 veces\n",
      "Sobran 10 m\n"
     ]
    }
   ],
   "source": [
    "resultado2=torreMayor//obelisco\n",
    "sobrante=torreMayor%obelisco\n",
    "print(\"El obelisco del ITAM cabe\", resultado2, \"veces\")\n",
    "print(\"Sobran\", sobrante, \"m\")"
   ]
  },
  {
   "cell_type": "markdown",
   "metadata": {},
   "source": [
    "### Problema 5"
   ]
  },
  {
   "cell_type": "markdown",
   "metadata": {},
   "source": [
    "Para el 30 de junio de 2019, la cantidad total estimada de usuarios de Internet en el mundo era 4,536,248,808 personas. Si suponemos que esta cantidad es resultado de un incremento anual de 7.726% con respecto a la cantidad de usuarios que había el 30 de junio de 2018 (un año antes),\n",
    "\n",
    "¿En promedio, cuántas personas nuevas se agregaron al grupo de usuarios de Internet cada segundo del año, del 30 de junio de 2018 al 30 de junio del 2019? ¿Fue 2019 un año bisiesto?"
   ]
  },
  {
   "cell_type": "code",
   "execution_count": 11,
   "metadata": {},
   "outputs": [
    {
     "name": "stdout",
     "output_type": "stream",
     "text": [
      "Se agregaron en total 10.316311085885019 personas cada segundo.\n",
      "Se agregaron en promedio 10 personas cada segundo.\n"
     ]
    }
   ],
   "source": [
    "usuarios2019=4536248808\n",
    "incremento=.07726\n",
    "usuarios2018=usuarios2019/(1+incremento)\n",
    "diferencia=usuarios2019-usuarios2018\n",
    "segundosAño=60*60*24*365\n",
    "usuariosCadaSegundo=diferencia/segundosAño\n",
    "print(\"Se agregaron en total\",usuariosCadaSegundo, \"personas cada segundo.\")\n",
    "print(\"Se agregaron en promedio\",round(usuariosCadaSegundo), \"personas cada segundo.\")"
   ]
  },
  {
   "cell_type": "code",
   "execution_count": 12,
   "metadata": {},
   "outputs": [
    {
     "name": "stdout",
     "output_type": "stream",
     "text": [
      "¿2019 es un año bisiesto? False\n"
     ]
    }
   ],
   "source": [
    "bisiesto=2019%4\n",
    "print(\"¿2019 es un año bisiesto?\",bisiesto==0)"
   ]
  },
  {
   "cell_type": "markdown",
   "metadata": {},
   "source": [
    "## Problemas de expresiones lógicas con operadores aritméticos, relacionales y lógicos"
   ]
  },
  {
   "cell_type": "markdown",
   "metadata": {},
   "source": [
    "### Problema 1"
   ]
  },
  {
   "cell_type": "markdown",
   "metadata": {},
   "source": [
    "Una aproximación racional de la constante Pi (la razón entre el perímetro de una circunferencia y su diámetro) conocida por matemáticos chinos del siglo V (de nuestra era) es:\n",
    "\n",
    "                            355/113\n",
    "\n",
    "¿Cuál es la diferencia (aproximada) entre el valor real de Pi y la aproximación mencionada? ¿Cuál de los dos valores es el mayor?"
   ]
  },
  {
   "cell_type": "code",
   "execution_count": 11,
   "metadata": {},
   "outputs": [
    {
     "data": {
      "text/plain": [
       "-2.667641894049666e-07"
      ]
     },
     "execution_count": 11,
     "metadata": {},
     "output_type": "execute_result"
    }
   ],
   "source": [
    "dif=math.pi-(355/113)\n",
    "dif"
   ]
  },
  {
   "cell_type": "code",
   "execution_count": 12,
   "metadata": {},
   "outputs": [
    {
     "name": "stdout",
     "output_type": "stream",
     "text": [
      "355/113 es más grande\n"
     ]
    }
   ],
   "source": [
    "if math.pi>(355/113):\n",
    "    print(\"Pi es más grande\")\n",
    "else:\n",
    "    print(\"355/113 es más grande\")"
   ]
  },
  {
   "cell_type": "markdown",
   "metadata": {},
   "source": [
    "### Problema 2"
   ]
  },
  {
   "cell_type": "markdown",
   "metadata": {},
   "source": [
    "¿Cómo sabemos si un número es par o impar?"
   ]
  },
  {
   "cell_type": "markdown",
   "metadata": {},
   "source": [
    "        Si la operación modulo 2 con el número es 0 es par, si no es 0 es impar"
   ]
  },
  {
   "cell_type": "markdown",
   "metadata": {},
   "source": [
    "¿Cuántas fracciones de 15 minutos se tienen en un tiempo de 2:38 horas? ¿Cuántos minutos se cubren de la última fracción de 15 minutos?"
   ]
  },
  {
   "cell_type": "code",
   "execution_count": 13,
   "metadata": {},
   "outputs": [
    {
     "name": "stdout",
     "output_type": "stream",
     "text": [
      "158\n",
      "10\n",
      "8\n"
     ]
    }
   ],
   "source": [
    "minutos=(2*60)+38\n",
    "fracciones=minutos//15\n",
    "ultFrac=minutos%15\n",
    "print(minutos)\n",
    "print(fracciones)\n",
    "print(ultFrac)"
   ]
  },
  {
   "cell_type": "markdown",
   "metadata": {},
   "source": [
    "### Problema 3"
   ]
  },
  {
   "cell_type": "markdown",
   "metadata": {},
   "source": [
    "¿Cómo sabemos si un año es bisiesto (con 366 días) según el calendario Juliano o el Gregoriano? ¿Son o no bisiestos 2015, 2018 y 2100?"
   ]
  },
  {
   "cell_type": "markdown",
   "metadata": {},
   "source": [
    "            Si la operación modulo 4 con el año es 0 entonces es biciesto "
   ]
  },
  {
   "cell_type": "code",
   "execution_count": 9,
   "metadata": {},
   "outputs": [],
   "source": [
    "def biciesto (anio):\n",
    "    res=anio%4\n",
    "    return res"
   ]
  },
  {
   "cell_type": "code",
   "execution_count": 10,
   "metadata": {},
   "outputs": [
    {
     "name": "stdout",
     "output_type": "stream",
     "text": [
      "Escribe el año 2435\n",
      "2435 no es biciesto\n"
     ]
    }
   ],
   "source": [
    "anio1=int(input(\"Escribe el año \"))\n",
    "if biciesto(anio1)==0:\n",
    "    print(anio1, \"es biciesto\")\n",
    "else:\n",
    "    print(anio1, \"no es biciesto\")"
   ]
  },
  {
   "cell_type": "markdown",
   "metadata": {},
   "source": [
    "### Problema 4"
   ]
  },
  {
   "cell_type": "markdown",
   "metadata": {},
   "source": [
    "De acuerdo a la página https://www.worldometers.info/world-population/ [consulta del 25 de noviembre, 2019], la población mundial en el año 2019 fue alrededor de 7.75 mil millones de personas; define tres variables con la cantidad de habitantes del mundo con valores dados por tres métodos:\n",
    "\n",
    "    i) Como un número de tipo float en notación científica: 7.75e9\n",
    "    ii) Como un número de tipo int: 7750000000\n",
    "    iii) Como un texto de tipo str entre apóstrofos: '7750000000'\n",
    "\n",
    "Transforma el valor de las variables creadas con las funciones de conversión, float(), int() y str(), y observa el resultado de la transformación."
   ]
  },
  {
   "cell_type": "code",
   "execution_count": 53,
   "metadata": {},
   "outputs": [
    {
     "name": "stdout",
     "output_type": "stream",
     "text": [
      "7750000000.0\n",
      "7750000000\n",
      "7750000000\n"
     ]
    }
   ],
   "source": [
    "varFloat=7.75*(10**9)\n",
    "varInt= 7750000000\n",
    "varStr= \"7750000000\"\n",
    "print(varFloat)\n",
    "print(varInt)\n",
    "print(varStr)"
   ]
  },
  {
   "cell_type": "markdown",
   "metadata": {},
   "source": [
    "## Problemas de funciones con instrucciones de programación selectivas y cíclicas\n"
   ]
  },
  {
   "cell_type": "markdown",
   "metadata": {},
   "source": [
    "### Ejercicio 1"
   ]
  },
  {
   "cell_type": "markdown",
   "metadata": {},
   "source": [
    "Escriba una función lógica definida con la cláusula def tal que dado un número entero no negativo\n",
    "indique si el número es par o impar con un valor True o False. Note que no es necesario usar la\n",
    "instrucción if."
   ]
  },
  {
   "cell_type": "code",
   "execution_count": 11,
   "metadata": {},
   "outputs": [],
   "source": [
    "def parOimpar(num):\n",
    "    operación=num%2\n",
    "    return(operación)"
   ]
  },
  {
   "cell_type": "code",
   "execution_count": 19,
   "metadata": {},
   "outputs": [
    {
     "name": "stdout",
     "output_type": "stream",
     "text": [
      "Escirbe el número: 12\n",
      "¿El número 12 es par? True\n"
     ]
    }
   ],
   "source": [
    "numero=int(input(\"Escirbe el número: \"))\n",
    "print(\"¿El número\",numero,\"1es par?\",parOimpar(numero)==0)"
   ]
  },
  {
   "cell_type": "markdown",
   "metadata": {},
   "source": [
    "### Ejercicio2"
   ]
  },
  {
   "cell_type": "markdown",
   "metadata": {},
   "source": [
    "Escriba una función lógica tal que, dado un año, como valor entero, indique si el año es bisiesto según\n",
    "el calendario Gregoriano con el valor True o False. Note que no es necesario usar la instrucción if."
   ]
  },
  {
   "cell_type": "code",
   "execution_count": 15,
   "metadata": {},
   "outputs": [],
   "source": [
    "def bisiestoOno (num):\n",
    "    módulo=num%4\n",
    "    return (módulo)"
   ]
  },
  {
   "cell_type": "code",
   "execution_count": 16,
   "metadata": {},
   "outputs": [
    {
     "name": "stdout",
     "output_type": "stream",
     "text": [
      "¿El año 2020 es bisiesto? True\n"
     ]
    }
   ],
   "source": [
    "fecha=2020\n",
    "print(\"¿El año\", fecha, \"es bisiesto?\", bisiestoOno(fecha)==0)"
   ]
  },
  {
   "cell_type": "markdown",
   "metadata": {},
   "source": [
    "### Ejercicio 3"
   ]
  },
  {
   "cell_type": "markdown",
   "metadata": {},
   "source": [
    "Escriba una función lógica tal que, dada una cantidad numérica cualquiera, indique si la cantidad es un\n",
    "número entero o no, con el valor True o False, respectivamente."
   ]
  },
  {
   "cell_type": "code",
   "execution_count": 20,
   "metadata": {},
   "outputs": [],
   "source": [
    "def enteroOno (num):\n",
    "    resta=num-(num//1)\n",
    "    return(resta)"
   ]
  },
  {
   "cell_type": "code",
   "execution_count": 23,
   "metadata": {},
   "outputs": [
    {
     "name": "stdout",
     "output_type": "stream",
     "text": [
      "El número 4 es entero? True\n"
     ]
    }
   ],
   "source": [
    "número=4\n",
    "print(\"El número\",número,\"es entero?\",enteroOno(número)==0)"
   ]
  },
  {
   "cell_type": "markdown",
   "metadata": {},
   "source": [
    "### Ejericio 4"
   ]
  },
  {
   "cell_type": "code",
   "execution_count": 58,
   "metadata": {},
   "outputs": [
    {
     "data": {
      "text/plain": [
       "3.14159"
      ]
     },
     "execution_count": 58,
     "metadata": {},
     "output_type": "execute_result"
    }
   ],
   "source": [
    "round(math.pi,5) \n",
    "#round(numero, decimales)"
   ]
  },
  {
   "cell_type": "markdown",
   "metadata": {},
   "source": [
    "### Ejercicio 5"
   ]
  },
  {
   "cell_type": "markdown",
   "metadata": {},
   "source": [
    "Función del tipo de cambio. Escriba una función de conversión para el tipo de cambio USD tal que, a partir de un parámetro con una cantidad dada en una moneda USD dólares o pesos, indicada con un segundo parámetro de texto, 'dólares' o 'pesos' respectivamente, calcule la cantidad en pesos mexicanos o la cantidad en dólares americanos (USD) equivalente.\n",
    "\n",
    "El factor de conversión es el siguiente: 1 USD dólar = $ 22.0362 pesos (23 de agosto, 2020)\n",
    "\n",
    "Aplique la función para calcular el valor equivalente en dólares de las siguientes cantidades en pesos:\n",
    "\n",
    "    $ 20.59 (precio por litro de la gasolina Magna) \n",
    "    \n",
    "    $ 21.69 (precio por litro de la gasolina Premium)\n",
    "    \n",
    "    $ 1,290,000.00 (precio de un autobús usado Volvo 8300 modelo 2007)"
   ]
  },
  {
   "cell_type": "code",
   "execution_count": 24,
   "metadata": {},
   "outputs": [],
   "source": [
    "def convertir(num):\n",
    "    if divisa==\"dólares\":\n",
    "        res=num*22.0362\n",
    "    else:\n",
    "        res=num/22.0362\n",
    "    return res"
   ]
  },
  {
   "cell_type": "code",
   "execution_count": 25,
   "metadata": {},
   "outputs": [
    {
     "name": "stdout",
     "output_type": "stream",
     "text": [
      "¿Qué cantidad deseas converitr (pesos o dólares)? 15000\n",
      "¿De qué divisa es (dólares o pesos)? pesos\n",
      "15000 pesos son 680.6981239959703 dólares\n"
     ]
    }
   ],
   "source": [
    "num=int(input(\"¿Qué cantidad deseas converitr (pesos o dólares)? \"))\n",
    "divisa=input(\"¿De qué divisa es (dólares o pesos)? \")\n",
    "\n",
    "if divisa==\"dólares\":\n",
    "    cDivisa=\"pesos\"\n",
    "else:\n",
    "    cDivisa=\"dólares\"\n",
    "    \n",
    "print(num,divisa,\"son\" ,convertir(num), cDivisa)"
   ]
  },
  {
   "cell_type": "markdown",
   "metadata": {},
   "source": [
    "### Ejercicio 6"
   ]
  },
  {
   "cell_type": "markdown",
   "metadata": {},
   "source": [
    "Perímetro y área de un rectángulo.\n",
    "a. Escriba una función tal que dadas las longitudes de los lados de un rectángulo, ladoA y ladoB,\n",
    "calcule el perímetro con esta fórmula (el punto denota multiplicación): \n",
    "     \n",
    "                           perímetro = 2·ladoA + 2·ladoB\n",
    "\n",
    "b. Escriba una función tal que dadas las longitudes de los lados de un rectángulo, ladoA y ladoB, calcule el área con esta fórmula:\n",
    "\n",
    "                               área = ladoA · ladoB\n",
    "\n",
    "c. Escriba una función tal que, dadas las longitudes de los lados de un rectángulo calcule el\n",
    "perímetro y el área, y entregue estos valores en una pareja ordenada o tupla:\n",
    "\n",
    "d. Determine el perímetro y el área de un rectángulo de lados 4.5 y 6.5 usando la función del inciso\n",
    "a)."
   ]
  },
  {
   "cell_type": "code",
   "execution_count": 1,
   "metadata": {},
   "outputs": [],
   "source": [
    "def perimetro (ladoA, ladoB):\n",
    "    per=2*ladoA+2*ladoB\n",
    "    return per"
   ]
  },
  {
   "cell_type": "code",
   "execution_count": 4,
   "metadata": {},
   "outputs": [
    {
     "data": {
      "text/plain": [
       "46"
      ]
     },
     "execution_count": 4,
     "metadata": {},
     "output_type": "execute_result"
    }
   ],
   "source": [
    "perimetro(8,15)"
   ]
  },
  {
   "cell_type": "code",
   "execution_count": 5,
   "metadata": {},
   "outputs": [],
   "source": [
    "def area (ladoA,ladoB):\n",
    "    ar=ladoA*ladoB\n",
    "    return ar"
   ]
  },
  {
   "cell_type": "code",
   "execution_count": 6,
   "metadata": {},
   "outputs": [
    {
     "data": {
      "text/plain": [
       "120"
      ]
     },
     "execution_count": 6,
     "metadata": {},
     "output_type": "execute_result"
    }
   ],
   "source": [
    "area (8,15)"
   ]
  },
  {
   "cell_type": "code",
   "execution_count": 12,
   "metadata": {},
   "outputs": [
    {
     "name": "stdout",
     "output_type": "stream",
     "text": [
      "Dame la longitud de la base del rectángulo 80\n",
      "Dame la longitud de la altura del rectángulo 100\n",
      "El perímtero del rectángulo es: 360.0\n",
      "El área del rectángulo es: 8000.0\n"
     ]
    }
   ],
   "source": [
    "a=float(input(\"Dame la longitud de la base del rectángulo \"))\n",
    "b=float(input(\"Dame la longitud de la altura del rectángulo \"))\n",
    "print(\"El perímtero del rectángulo es:\",perimetro(a,b))\n",
    "print(\"El área del rectángulo es:\", area(a,b))"
   ]
  },
  {
   "cell_type": "markdown",
   "metadata": {},
   "source": [
    "### Ejercicio 7"
   ]
  },
  {
   "cell_type": "markdown",
   "metadata": {},
   "source": [
    "Escriba una función para calcular el área de un polígono regular (un polígono cuyos lados o aristas tienen la misma longitud y sus ángulos internos son congruentes) tal que, a partir de la cantidad de lados o aristas como un parámetro entero y la longitud de una arista como un parámetro real, calcule el área del polígono. Ejemplos de polígonos regulares son el triángulo equilátero, el cuadrado, el pentágono y el hexágono de lados y ángulos iguales, etc. Para facilitar la escritura de la función, considera lo siguiente:\n",
    "\n",
    "i. Si la cantidad de aristas es igual o menor a dos, el área deberá ser cero\n",
    "\n",
    "ii. Si la cantidad de aristas es mayor a dos, entonces el área del polígono puede calcularse\n",
    "con la siguiente fórmula:\n",
    "lado2·(n/4)·√[-1 + 1/sin(π/n)2] , donde n es la cantidad de lados y lado es la longitud de una arista, y el símbolo √ denota la raíz cuadrada.\n",
    "\n",
    "Verifica el resultado de la función para algunos casos simples que puedan calcularse directamente:\n",
    "    \n",
    "    a. El área de un triángulo equilátero puede calcularse como lado2 ·√(3)/4\n",
    "    b. El área de un cuadrado puede calcularse como lado2"
   ]
  },
  {
   "cell_type": "code",
   "execution_count": 26,
   "metadata": {},
   "outputs": [],
   "source": [
    "def AreaPoligono(n,lado):\n",
    "    if n<=2:\n",
    "        area=0\n",
    "    else:\n",
    "        area=(lado**2)*(n/4)*sqrt(-1+(1/((sin(math.pi/n))**2)))\n",
    "    return area"
   ]
  },
  {
   "cell_type": "code",
   "execution_count": 28,
   "metadata": {},
   "outputs": [
    {
     "data": {
      "text/plain": [
       "4"
      ]
     },
     "execution_count": 28,
     "metadata": {},
     "output_type": "execute_result"
    }
   ],
   "source": [
    "round(AreaPoligono(4,2))"
   ]
  },
  {
   "cell_type": "markdown",
   "metadata": {},
   "source": [
    "### Ejercicio 8"
   ]
  },
  {
   "cell_type": "markdown",
   "metadata": {},
   "source": [
    "Escriba una función para el pago en pesos hecho en un estacionamiento de acuerdo al tiempo de estancia en minutos. Las condiciones del estacionamiento son las siguientes:\n",
    "\n",
    "    i. Pago de la primera hora de $ 30.00, si el tiempo de estancia es menor o igual a 60 minutos;\n",
    "\n",
    "    ii. Pago por un tiempo mayor a una hora calculado según lo siguiente: Si el tiempo de estancia es mayor a 60 minutos, debe pagarse $ 30.00 por la primera hora más $ 8.00 por cada lapso de 15 minutos o fracción."
   ]
  },
  {
   "cell_type": "code",
   "execution_count": 29,
   "metadata": {},
   "outputs": [],
   "source": [
    "def estacionamiento(minutos):\n",
    "    if minutos<=0:\n",
    "        pago=0\n",
    "    elif minutos<=60:\n",
    "        pago=30\n",
    "    else:\n",
    "        pago=30\n",
    "        extra=minutos-60\n",
    "        frac=ceil(extra/15)*8\n",
    "        pago=pago+frac\n",
    "    return pago"
   ]
  },
  {
   "cell_type": "code",
   "execution_count": 31,
   "metadata": {},
   "outputs": [
    {
     "data": {
      "text/plain": [
       "78.0"
      ]
     },
     "execution_count": 31,
     "metadata": {},
     "output_type": "execute_result"
    }
   ],
   "source": [
    "estacionamiento(150)"
   ]
  },
  {
   "cell_type": "code",
   "execution_count": 32,
   "metadata": {},
   "outputs": [
    {
     "name": "stdout",
     "output_type": "stream",
     "text": [
      "¿Cuántos minutos estuviste en el estacionamiento? 160\n",
      "Debes pagar: 86.0\n",
      "¿Cuántos minutos estuviste en el estacionamiento? 2\n",
      "Debes pagar: 30\n",
      "¿Cuántos minutos estuviste en el estacionamiento? 0\n",
      "Debes pagar: 0\n",
      "¿Cuántos minutos estuviste en el estacionamiento? -1\n",
      "Debes pagar: 0\n",
      "¿Cuántos minutos estuviste en el estacionamiento? 3\n",
      "Debes pagar: 30\n",
      "¿Cuántos minutos estuviste en el estacionamiento? 3\n",
      "Debes pagar: 30\n",
      "¿Cuántos minutos estuviste en el estacionamiento? 3\n",
      "Debes pagar: 30\n",
      "¿Cuántos minutos estuviste en el estacionamiento? 3\n",
      "Debes pagar: 30\n",
      "¿Cuántos minutos estuviste en el estacionamiento? 3\n",
      "Debes pagar: 30\n",
      "¿Cuántos minutos estuviste en el estacionamiento? 3\n",
      "Debes pagar: 30\n"
     ]
    }
   ],
   "source": [
    "clientes=10\n",
    "num=1\n",
    "while num<=clientes:\n",
    "    pregunta=float(input(\"¿Cuántos minutos estuviste en el estacionamiento? \"))\n",
    "    print(\"Debes pagar:\",estacionamiento(pregunta))\n",
    "    num+=1\n",
    "    "
   ]
  },
  {
   "cell_type": "code",
   "execution_count": 33,
   "metadata": {},
   "outputs": [
    {
     "name": "stdout",
     "output_type": "stream",
     "text": [
      "¿Cuántos minutos estuviste en el estacionamiento? 1\n",
      "Debes pagar: 30\n",
      "¿Cuántos minutos estuviste en el estacionamiento? 2\n",
      "Debes pagar: 30\n",
      "¿Cuántos minutos estuviste en el estacionamiento? 3\n",
      "Debes pagar: 30\n",
      "¿Cuántos minutos estuviste en el estacionamiento? 4\n",
      "Debes pagar: 30\n",
      "¿Cuántos minutos estuviste en el estacionamiento? 5\n",
      "Debes pagar: 30\n",
      "¿Cuántos minutos estuviste en el estacionamiento? 6\n",
      "Debes pagar: 30\n",
      "¿Cuántos minutos estuviste en el estacionamiento? 0\n",
      "Debes pagar: 0\n",
      "¿Cuántos minutos estuviste en el estacionamiento? -9\n",
      "Debes pagar: 0\n",
      "El total cobrado del día fue: 180\n",
      "El promedio pagado por cliente es de: 25.714285714285715\n"
     ]
    }
   ],
   "source": [
    "cliente=0\n",
    "cobroTotal=0\n",
    "tiempo=0\n",
    "while tiempo>=0:\n",
    "    tiempo=int(input(\"¿Cuántos minutos estuviste en el estacionamiento? \"))\n",
    "    print(\"Debes pagar:\",estacionamiento(tiempo))\n",
    "    cliente=cliente+1\n",
    "    cobroTotal=cobroTotal+estacionamiento(tiempo)\n",
    "\n",
    "print(\"El total cobrado del día fue:\",cobroTotal)    \n",
    "print(\"El promedio pagado por cliente es de:\",cobroTotal/(cliente-1))"
   ]
  },
  {
   "cell_type": "markdown",
   "metadata": {},
   "source": [
    "### Ejercicio 9"
   ]
  },
  {
   "cell_type": "markdown",
   "metadata": {},
   "source": [
    "Elabore una función, f(x), para calcular el valor de y de acuerdo a lo que se especifica a continuación:"
   ]
  },
  {
   "cell_type": "code",
   "execution_count": 6,
   "metadata": {},
   "outputs": [],
   "source": [
    "def función1(ex):\n",
    "    if ex<=11:\n",
    "        res=3*ex+36\n",
    "    elif ex<=33:\n",
    "        res=((ex)**2)-10\n",
    "    elif ex<=64:\n",
    "        res=ex+6\n",
    "    else:\n",
    "        res=0\n",
    "    return(res)"
   ]
  },
  {
   "cell_type": "code",
   "execution_count": 8,
   "metadata": {},
   "outputs": [
    {
     "name": "stdout",
     "output_type": "stream",
     "text": [
      "Dame el valor de x  65\n",
      "para x = 65.0 el resultado de f(x) es: 0\n"
     ]
    }
   ],
   "source": [
    "valor=float(input(\"Dame el valor de x  \"))\n",
    "print(\"para x =\",valor,\"el resultado de f(x) es:\",función1(valor))"
   ]
  },
  {
   "cell_type": "markdown",
   "metadata": {},
   "source": [
    "### Ejercicio 10"
   ]
  },
  {
   "cell_type": "markdown",
   "metadata": {},
   "source": [
    "Elabore una función, f(x), donde x es un número entero, de acuerdo a lo siguiente:"
   ]
  },
  {
   "cell_type": "code",
   "execution_count": 12,
   "metadata": {},
   "outputs": [],
   "source": [
    "def función2(exx):\n",
    "    if exx%4==0:\n",
    "        res1=exx**2\n",
    "    elif exx%4==1:\n",
    "        res1=exx/6\n",
    "    elif exx%4==2:\n",
    "        res1=sqrt(exx)\n",
    "    else:\n",
    "        res1=(exx**3)+5\n",
    "    return res1"
   ]
  },
  {
   "cell_type": "code",
   "execution_count": 13,
   "metadata": {},
   "outputs": [
    {
     "name": "stdout",
     "output_type": "stream",
     "text": [
      "Dame el valor de x = a un número entero  4\n",
      "para x = 4.0 el resultado de f(x) es: 16.0\n"
     ]
    }
   ],
   "source": [
    "valor1=float(input(\"Dame el valor de x = a un número entero  \"))\n",
    "print(\"para x =\",valor1,\"el resultado de f(x) es:\",función2(valor1))"
   ]
  },
  {
   "cell_type": "markdown",
   "metadata": {},
   "source": [
    "### Ejercicio 11"
   ]
  },
  {
   "cell_type": "markdown",
   "metadata": {},
   "source": [
    " Incremento de un sueldo. La compañía ABC & Co. está considerando un aumento de sueldo para sus empleados que favorezca a los empleados con salarios bajos. Escriba una función que tenga como entrada el sueldo del empleado y calcule como salida el nuevo sueldo con el porcentaje de aumento dado por el siguiente criterio:\n",
    " \n",
    "        - si el sueldo es inferior a $5000: 20%;\n",
    "    - si el sueldo está entre $5000 y $20000: 15%; \n",
    "    - si el sueldo es superior a $20000: 13%.\n",
    "    \n",
    "Aplique la función creada a varios sueldos dados por usted."
   ]
  },
  {
   "cell_type": "code",
   "execution_count": 34,
   "metadata": {},
   "outputs": [],
   "source": [
    "def Aumento(sueldo):\n",
    "    if sueldo<5000:\n",
    "        desc=.2\n",
    "    elif sueldo<=20000:\n",
    "        desc=.15\n",
    "    else:\n",
    "        desc=.13\n",
    "    return sueldo*(1+desc)"
   ]
  },
  {
   "cell_type": "code",
   "execution_count": 35,
   "metadata": {},
   "outputs": [
    {
     "name": "stdout",
     "output_type": "stream",
     "text": [
      "¿Cuál es tu sueldo?  50000\n",
      "Para tu sueldo de 50000 tu nuevo sueldo es: 56500\n"
     ]
    }
   ],
   "source": [
    "monto=int(input(\"¿Cuál es tu sueldo?  \"))\n",
    "print(\"Para tu sueldo de\",monto,\"tu nuevo sueldo es:\", round(Aumento(monto)))"
   ]
  },
  {
   "cell_type": "markdown",
   "metadata": {},
   "source": [
    "### Ejercicio 12"
   ]
  },
  {
   "cell_type": "markdown",
   "metadata": {},
   "source": [
    "Elabore una función que calcule el factorial de un número entero no negativo: calculaFactorial(n), donde n es un valor entero y n  0. El factorial de un número es 1, si el número es cero, y para cualquier número n>1, es igual al producto de todos los enteros positivos menores o iguales a n."
   ]
  },
  {
   "cell_type": "code",
   "execution_count": 36,
   "metadata": {},
   "outputs": [],
   "source": [
    "def calculaFactorial(n):\n",
    "    res=1\n",
    "    if n<0:\n",
    "        res=\"No se puede calcular el factorial \"\n",
    "    elif n==0:\n",
    "        res=1\n",
    "    else:\n",
    "        for i in range(1,n+1):\n",
    "            res=res*i\n",
    "    return res"
   ]
  },
  {
   "cell_type": "code",
   "execution_count": 38,
   "metadata": {},
   "outputs": [
    {
     "data": {
      "text/plain": [
       "120"
      ]
     },
     "execution_count": 38,
     "metadata": {},
     "output_type": "execute_result"
    }
   ],
   "source": [
    "calculaFactorial(5)"
   ]
  },
  {
   "cell_type": "code",
   "execution_count": 89,
   "metadata": {},
   "outputs": [
    {
     "data": {
      "text/plain": [
       "120"
      ]
     },
     "execution_count": 89,
     "metadata": {},
     "output_type": "execute_result"
    }
   ],
   "source": [
    "lista=[1,2,3,4,5]\n",
    "lista[0]*lista[1]*lista[2]*lista[3]*lista[4]"
   ]
  },
  {
   "cell_type": "markdown",
   "metadata": {},
   "source": [
    "### Ejercicio 13"
   ]
  },
  {
   "cell_type": "markdown",
   "metadata": {},
   "source": [
    "Elabore una función tal que, dado un número entero no negativo, pero arbitrario, entregue la cantidad de cifras que tiene. Por ejemplo, para el número 33457, la función debe dar por resultado 5. Por otro lado, si el número es cero, la función debe resultar 1, una cifra."
   ]
  },
  {
   "cell_type": "code",
   "execution_count": 39,
   "metadata": {},
   "outputs": [],
   "source": [
    "def cifras(num):\n",
    "    texto=str(num)\n",
    "    tupla=tuple(texto)\n",
    "    return len(tupla)"
   ]
  },
  {
   "cell_type": "code",
   "execution_count": 41,
   "metadata": {},
   "outputs": [
    {
     "data": {
      "text/plain": [
       "2"
      ]
     },
     "execution_count": 41,
     "metadata": {},
     "output_type": "execute_result"
    }
   ],
   "source": [
    "cifras(56)"
   ]
  },
  {
   "cell_type": "markdown",
   "metadata": {},
   "source": [
    "### Ejercicio 14"
   ]
  },
  {
   "cell_type": "code",
   "execution_count": 138,
   "metadata": {},
   "outputs": [],
   "source": [
    "#horrible"
   ]
  },
  {
   "cell_type": "markdown",
   "metadata": {},
   "source": [
    "### Ejercicio 15"
   ]
  },
  {
   "cell_type": "markdown",
   "metadata": {},
   "source": [
    "Escribe una función que calcule la siguiente suma para n  1."
   ]
  },
  {
   "cell_type": "code",
   "execution_count": 144,
   "metadata": {},
   "outputs": [],
   "source": [
    "def función1(n):\n",
    "    if n<1:\n",
    "        res=\"Entrada invalida\"\n",
    "    else:\n",
    "        res=sum([i**i for i in range(1,n+1)])\n",
    "    return res"
   ]
  },
  {
   "cell_type": "code",
   "execution_count": 146,
   "metadata": {},
   "outputs": [
    {
     "data": {
      "text/plain": [
       "3413"
      ]
     },
     "execution_count": 146,
     "metadata": {},
     "output_type": "execute_result"
    }
   ],
   "source": [
    "función1(5)"
   ]
  },
  {
   "cell_type": "markdown",
   "metadata": {},
   "source": [
    "### Ejercicio 16"
   ]
  },
  {
   "cell_type": "markdown",
   "metadata": {},
   "source": [
    "Escribe una función que calcule la siguiente suma para cualquier valor n entero y no negativo, y usa la función factorial predefinida:"
   ]
  },
  {
   "cell_type": "code",
   "execution_count": 4,
   "metadata": {},
   "outputs": [],
   "source": [
    "def función2(n):\n",
    "    if n<0:\n",
    "        res=\"Entrada invalida\"\n",
    "    else:\n",
    "        res= sum([((math.factorial(n-i))/(math.factorial(i))) for i in range(0,n+1)])\n",
    "    return res"
   ]
  },
  {
   "cell_type": "code",
   "execution_count": 6,
   "metadata": {},
   "outputs": [
    {
     "data": {
      "text/plain": [
       "853.0930555555556"
      ]
     },
     "execution_count": 6,
     "metadata": {},
     "output_type": "execute_result"
    }
   ],
   "source": [
    "función2(6)"
   ]
  },
  {
   "cell_type": "markdown",
   "metadata": {},
   "source": [
    "### Ejercicio 17"
   ]
  },
  {
   "cell_type": "markdown",
   "metadata": {},
   "source": [
    "Calcula las funciones trigonométricas a partir de sus series de potencias. Si es necesario utiliza la función de factorial predefinida. La variable x está en radianes. Las series de potencias y las definiciones se escriben a continuación:"
   ]
  },
  {
   "cell_type": "code",
   "execution_count": 4,
   "metadata": {},
   "outputs": [
    {
     "name": "stdout",
     "output_type": "stream",
     "text": [
      "[1, 3, 5, 7, 9, 11, 13, 15, 17, 19, 21, 23, 25, 27, 29, 31, 33, 35, 37, 39, 41, 43, 45, 47, 49, 51, 53, 55, 57, 59, 61, 63, 65, 67, 69, 71, 73, 75, 77, 79, 81, 83, 85, 87, 89, 91, 93, 95, 97, 99, 101, 103, 105, 107, 109, 111, 113, 115, 117, 119, 121, 123, 125, 127, 129]\n"
     ]
    }
   ],
   "source": [
    "impares=[2*i+1for i in range(0,65)]\n",
    "print(impares)"
   ]
  },
  {
   "cell_type": "code",
   "execution_count": 50,
   "metadata": {},
   "outputs": [],
   "source": [
    "def sen(x):\n",
    "    res=sum([((-1)**n)*((x**(2*n+1))/(math.factorial(2*n+1))) for n in range(0,85)])\n",
    "    return res"
   ]
  },
  {
   "cell_type": "code",
   "execution_count": 51,
   "metadata": {},
   "outputs": [
    {
     "data": {
      "text/plain": [
       "3.885780586188048e-16"
      ]
     },
     "execution_count": 51,
     "metadata": {},
     "output_type": "execute_result"
    }
   ],
   "source": [
    "sen(math.pi)"
   ]
  },
  {
   "cell_type": "code",
   "execution_count": 52,
   "metadata": {},
   "outputs": [],
   "source": [
    "def cos(x):\n",
    "    res=sum([((-1)**n)*((x**(2*n))/(math.factorial(2*n))) for n in range(0,85)])\n",
    "    return res"
   ]
  },
  {
   "cell_type": "code",
   "execution_count": 53,
   "metadata": {},
   "outputs": [
    {
     "data": {
      "text/plain": [
       "-1.0000000000000004"
      ]
     },
     "execution_count": 53,
     "metadata": {},
     "output_type": "execute_result"
    }
   ],
   "source": [
    "cos(math.pi)"
   ]
  },
  {
   "cell_type": "code",
   "execution_count": 54,
   "metadata": {},
   "outputs": [],
   "source": [
    "def tan(x):\n",
    "    res=sen(x)/cos(x)\n",
    "    return res"
   ]
  },
  {
   "cell_type": "code",
   "execution_count": 55,
   "metadata": {},
   "outputs": [
    {
     "data": {
      "text/plain": [
       "-1.7320508075688774"
      ]
     },
     "execution_count": 55,
     "metadata": {},
     "output_type": "execute_result"
    }
   ],
   "source": [
    "tan((2*math.pi)/3)"
   ]
  },
  {
   "cell_type": "code",
   "execution_count": 56,
   "metadata": {},
   "outputs": [],
   "source": [
    "def cot(x):\n",
    "    res=cos(x)/sen(x)\n",
    "    return res"
   ]
  },
  {
   "cell_type": "markdown",
   "metadata": {},
   "source": [
    "### Ejercicio 18"
   ]
  },
  {
   "cell_type": "markdown",
   "metadata": {},
   "source": [
    "Escribe una función lógica (False/True) que determine si un número entero positivo arbitrario es divisible entre 11:"
   ]
  },
  {
   "cell_type": "code",
   "execution_count": 138,
   "metadata": {},
   "outputs": [],
   "source": [
    "def divisible11(num):\n",
    "    Lista=list(map(int, str(num)))\n",
    "    impares1=[i for i in range(0,len(Lista),2)]\n",
    "    pares=[i for i in range(1,len(Lista),2)]\n",
    "    sumaImpares=sum([Lista[i] for i in impares1])\n",
    "    sumaPares=sum([Lista[i] for i in pares])\n",
    "    dif=sumaImpares-sumaPares\n",
    "    return dif==11 or dif==0"
   ]
  },
  {
   "cell_type": "code",
   "execution_count": 145,
   "metadata": {},
   "outputs": [
    {
     "data": {
      "text/plain": [
       "True"
      ]
     },
     "execution_count": 145,
     "metadata": {},
     "output_type": "execute_result"
    }
   ],
   "source": [
    "divisible11(11)"
   ]
  },
  {
   "cell_type": "markdown",
   "metadata": {},
   "source": [
    "### Ejercicio 35"
   ]
  },
  {
   "cell_type": "markdown",
   "metadata": {},
   "source": [
    "Considera el conjunto N9 formado por los números positivos que son múltiplos de 9 y menores a 1000, \n",
    "           \n",
    "           N9= {9, 18, 27, ..., 999}\n",
    "\n",
    "Considera el conjunto N11 formado por los números positivos que son múltiplos de 11 y menores a 1000, \n",
    "\n",
    "           N11= {11, 22, 33, 44, ..., 990}\n",
    "           \n",
    "Considera el conjunto N7 formado por los números positivos que son múltiplos de 7 y menores a 1000, \n",
    "\n",
    "           N7= {7, 14, 21, 28, ..., 994}\n",
    "           \n",
    "Genera los elementos de los conjuntos descritos y asigna nombres apropiados que identifique cada conjunto. Y con los conjuntos ya definidos y operaciones apropiadas contesta lo siguiente:\n",
    "\n",
    "a) Determina el conjunto de los números que a la vez son múltiplos de 11 y 9. (Un elemento de este conjunto es el número 99)\n",
    "\n",
    "b) Determina el conjunto de los números que a la vez son múltiplos de 11 y 7 que, además, no son múltiplos del 9. (Un elemento de este conjunto es el número 77)"
   ]
  },
  {
   "cell_type": "code",
   "execution_count": 3,
   "metadata": {},
   "outputs": [
    {
     "name": "stdout",
     "output_type": "stream",
     "text": [
      "{513, 9, 522, 18, 531, 27, 540, 36, 549, 45, 558, 54, 567, 63, 576, 72, 585, 81, 594, 90, 603, 99, 612, 108, 621, 117, 630, 126, 639, 135, 648, 144, 657, 153, 666, 162, 675, 171, 684, 180, 693, 189, 702, 198, 711, 207, 720, 216, 729, 225, 738, 234, 747, 243, 756, 252, 765, 261, 774, 270, 783, 279, 792, 288, 801, 297, 810, 306, 819, 315, 828, 324, 837, 333, 846, 342, 855, 351, 864, 360, 873, 369, 882, 378, 891, 387, 900, 396, 909, 405, 918, 414, 927, 423, 936, 432, 945, 441, 954, 450, 963, 459, 972, 468, 981, 477, 990, 486, 999, 495, 504}\n"
     ]
    }
   ],
   "source": [
    "secN9=range(9,1000,9)\n",
    "N9=set(secN9)\n",
    "print(N9)"
   ]
  },
  {
   "cell_type": "code",
   "execution_count": 5,
   "metadata": {},
   "outputs": [
    {
     "name": "stdout",
     "output_type": "stream",
     "text": [
      "{517, 11, 528, 22, 539, 33, 550, 44, 561, 55, 572, 66, 583, 77, 594, 88, 605, 99, 616, 110, 627, 121, 638, 132, 649, 143, 660, 154, 671, 165, 682, 176, 693, 187, 704, 198, 715, 209, 726, 220, 737, 231, 748, 242, 759, 253, 770, 264, 781, 275, 792, 286, 803, 297, 814, 308, 825, 319, 836, 330, 847, 341, 858, 352, 869, 363, 880, 374, 891, 385, 902, 396, 913, 407, 924, 418, 935, 429, 946, 440, 957, 451, 968, 462, 979, 473, 990, 484, 495, 506}\n"
     ]
    }
   ],
   "source": [
    "secN11=range(11,1000,11)\n",
    "N11=set(secN11)\n",
    "print(N11)"
   ]
  },
  {
   "cell_type": "code",
   "execution_count": 6,
   "metadata": {},
   "outputs": [
    {
     "name": "stdout",
     "output_type": "stream",
     "text": [
      "{518, 7, 525, 14, 532, 21, 539, 28, 546, 35, 553, 42, 560, 49, 567, 56, 574, 63, 581, 70, 588, 77, 595, 84, 602, 91, 609, 98, 616, 105, 623, 112, 630, 119, 637, 126, 644, 133, 651, 140, 658, 147, 665, 154, 672, 161, 679, 168, 686, 175, 693, 182, 700, 189, 707, 196, 714, 203, 721, 210, 728, 217, 735, 224, 742, 231, 749, 238, 756, 245, 763, 252, 770, 259, 777, 266, 784, 273, 791, 280, 798, 287, 805, 294, 812, 301, 819, 308, 826, 315, 833, 322, 840, 329, 847, 336, 854, 343, 861, 350, 868, 357, 875, 364, 882, 371, 889, 378, 896, 385, 903, 392, 910, 399, 917, 406, 924, 413, 931, 420, 938, 427, 945, 434, 952, 441, 959, 448, 966, 455, 973, 462, 980, 469, 987, 476, 994, 483, 490, 497, 504, 511}\n"
     ]
    }
   ],
   "source": [
    "secN7=range(7,1000,7)\n",
    "N7=set(secN7)\n",
    "print(N7)"
   ]
  },
  {
   "cell_type": "code",
   "execution_count": 12,
   "metadata": {},
   "outputs": [
    {
     "name": "stdout",
     "output_type": "stream",
     "text": [
      "{99, 198, 297, 396, 495, 594, 693, 792, 891, 990}\n"
     ]
    }
   ],
   "source": [
    "#Inciso a\n",
    "mult9y11=N9.intersection(N11)\n",
    "print(mult9y11)"
   ]
  },
  {
   "cell_type": "code",
   "execution_count": 14,
   "metadata": {},
   "outputs": [
    {
     "name": "stdout",
     "output_type": "stream",
     "text": [
      "{385, 770, 231, 616, 77, 462, 847, 308, 154, 539, 924}\n"
     ]
    }
   ],
   "source": [
    "#Inciso b\n",
    "mult11y7=N7.intersection(N11)\n",
    "mult11y7Sin9=mult11y7-N9\n",
    "print(mult11y7Sin9)"
   ]
  },
  {
   "cell_type": "markdown",
   "metadata": {},
   "source": [
    "### Ejercicio 59"
   ]
  },
  {
   "cell_type": "markdown",
   "metadata": {},
   "source": [
    "Considera las siguientes ocho palabras:\n",
    "'desenmascaramiento', 'estereocinematografía', 'eurocomunismo', 'estafilococo', 'esternocleidomastoideo' (es un músculo del cuello), 'espectrofotometría', 'extraordinariamente', 'despreocupadamente'\n",
    "\n",
    "a) Elabora una tupla cuyos elementos sean las palabras consideradas.\n",
    "\n",
    "b) Elabora una lista con la cantidad de letras que tienen las palabras consideradas.\n",
    "\n",
    "c) Encuentra la palabra con mayor cantidad de letras del alfabeto.\n",
    "\n",
    "d) Elabora un conjunto cuyos elementos sean las letras del alfabeto usadas para escribir las palabras\n",
    "dadas; considera que las vocales acentuadas y no acentuadas son vocales distintas. Trata de partir\n",
    "de la lista de palabras para elaborar el conjunto requerido.\n",
    "\n",
    "e) ¿Qué letras del alfabeto tienen en común las palabras 'estereocinematografía' y\n",
    "'espectrofotometría'?\n",
    "\n",
    "f) ¿Qué letras del alfabeto tienen en común todas las palabras consideradas?\n",
    "\n",
    "g) ¿Qué letras del alfabeto aparecen en la palabra 'esternocleidomastoideo' pero no aparecen en\n",
    "ninguna de las palabras 'estereocinematografía' y 'espectrofotometría'?\n",
    "\n",
    "h) ¿Qué letras del alfabeto aparecen en la palabra 'esternocleidomastoideo' pero no aparecen en ninguna de las palabras 'estereocinematografía' y 'espectrofotometría'?\n"
   ]
  },
  {
   "cell_type": "code",
   "execution_count": 25,
   "metadata": {},
   "outputs": [],
   "source": [
    "#Inciso a\n",
    "palabras=('desenmascaramiento', 'estereocinematografía', 'eurocomunismo', 'estafilococo', 'esternocleidomastoideo', 'espectrofotometría', 'extraordinariamente', 'despreocupadamente')"
   ]
  },
  {
   "cell_type": "code",
   "execution_count": 33,
   "metadata": {},
   "outputs": [
    {
     "name": "stdout",
     "output_type": "stream",
     "text": [
      "[18, 21, 13, 12, 22, 18, 19, 18]\n"
     ]
    }
   ],
   "source": [
    "#Inciso b\n",
    "letras=[len(palabras[i]) for i in range(0,8)]\n",
    "print(letras)"
   ]
  },
  {
   "cell_type": "code",
   "execution_count": 41,
   "metadata": {},
   "outputs": [
    {
     "name": "stdout",
     "output_type": "stream",
     "text": [
      "esternocleidomastoideo\n"
     ]
    }
   ],
   "source": [
    "#Inciso c\n",
    "palabraLarga=palabras[letras.index(max(letras))]\n",
    "print(palabraLarga)"
   ]
  },
  {
   "cell_type": "code",
   "execution_count": 95,
   "metadata": {},
   "outputs": [
    {
     "name": "stdout",
     "output_type": "stream",
     "text": [
      "{'d', 'a', 'í', 'x', 'n', 'u', 's', 'c', 'i', 'o', 'f', 'l', 't', 'm', 'g', 'p', 'e', 'r'}\n"
     ]
    }
   ],
   "source": [
    "#Inciso d\n",
    "strPalabras=\"\".join(palabras)\n",
    "abc=set(strPalabras)\n",
    "print(abc)"
   ]
  },
  {
   "cell_type": "code",
   "execution_count": 105,
   "metadata": {
    "scrolled": true
   },
   "outputs": [
    {
     "data": {
      "text/plain": [
       "{'a', 'c', 'e', 'f', 'm', 'o', 'r', 's', 't', 'í'}"
      ]
     },
     "execution_count": 105,
     "metadata": {},
     "output_type": "execute_result"
    }
   ],
   "source": [
    "#Inciso e\n",
    "set('estereocinematografía').intersection(set('espectrofotometría'))"
   ]
  },
  {
   "cell_type": "code",
   "execution_count": 115,
   "metadata": {},
   "outputs": [
    {
     "data": {
      "text/plain": [
       "{'e', 'o'}"
      ]
     },
     "execution_count": 115,
     "metadata": {},
     "output_type": "execute_result"
    }
   ],
   "source": [
    "#Inciso f\n",
    "set(palabras[0]).intersection(set(palabras[1])).intersection(set(palabras[2])).intersection(set(palabras[3])).intersection(set(palabras[4])).intersection(set(palabras[5])).intersection(set(palabras[6])).intersection(set(palabras[7]))"
   ]
  },
  {
   "cell_type": "code",
   "execution_count": 110,
   "metadata": {},
   "outputs": [
    {
     "data": {
      "text/plain": [
       "{'d', 'l'}"
      ]
     },
     "execution_count": 110,
     "metadata": {},
     "output_type": "execute_result"
    }
   ],
   "source": [
    "#Inciso g\n",
    "set('esternocleidomastoideo')-(set('estereocinematografía').union(set('espectrofotometría')))"
   ]
  },
  {
   "cell_type": "code",
   "execution_count": 153,
   "metadata": {},
   "outputs": [
    {
     "data": {
      "text/plain": [
       "{'d', 'l'}"
      ]
     },
     "execution_count": 153,
     "metadata": {},
     "output_type": "execute_result"
    }
   ],
   "source": [
    "#Inciso h\n",
    "set('esternocleidomastoideo')-(set('estereocinematografía').union(set('espectrofotometría')))"
   ]
  },
  {
   "cell_type": "code",
   "execution_count": 154,
   "metadata": {},
   "outputs": [
    {
     "ename": "SyntaxError",
     "evalue": "invalid syntax (<ipython-input-154-765ef3b25db4>, line 1)",
     "output_type": "error",
     "traceback": [
      "\u001b[0;36m  File \u001b[0;32m\"<ipython-input-154-765ef3b25db4>\"\u001b[0;36m, line \u001b[0;32m1\u001b[0m\n\u001b[0;31m    .ovitceloc oinomirtap omoc sodidnetne ,senoicidart sus a y serolav sus a ,ocixéM a datlael us odneimusa\u001b[0m\n\u001b[0m    ^\u001b[0m\n\u001b[0;31mSyntaxError\u001b[0m\u001b[0;31m:\u001b[0m invalid syntax\n"
     ]
    }
   ],
   "source": [
    ".ovitceloc oinomirtap omoc sodidnetne ,senoicidart sus a y serolav sus a ,ocixéM a datlael us odneimusa\n",
    ",aútca euq al ne dadinumoc al ed ollorrased le ne ereiuqda euq nóicagilbo al econocer ,omsimisA .oicivres ed dadicapac us ed otneimatnecerca le y aicneicnoc us ed nóicamrof al ,anosrep us ed nóicargetni al ,serolav serojem sus ed otneimiceuqirne le etnaidem onamuh res la rarojem a rednet ebed ,otnat ol rop ,nóicacude adoT .neib le y dadrev al racsub a laicnese nóicacov rop odamall res omoc y onamuh osergorp le y nóicavele al noc oditemorpmoc laicos res omoc ,erbil res omoc onamuh res la edneitne euq otpecnoc nu ne aripsni es MATI lE"
   ]
  },
  {
   "cell_type": "code",
   "execution_count": 166,
   "metadata": {},
   "outputs": [],
   "source": [
    "Texto=\".ovitceloc oinomirtap omoc sodidnetne ,senoicidart sus a y serolav sus a ,ocixéM a datlael us odneimusa,aútca euq al ne dadinumoc al ed ollorrased le ne ereiuqda euq nóicagilbo al econocer ,omsimisA .oicivres ed dadicapac us ed otneimatnecerca le y aicneicnoc us ed nóicamrof al ,anosrep us ed nóicargetni al ,serolav serojem sus ed otneimiceuqirne le etnaidem onamuh res la rarojem a rednet ebed ,otnat ol rop ,nóicacude adoT .neib le y dadrev al racsub a laicnese nóicacov rop odamall res omoc y onamuh osergorp le y nóicavele al noc oditemorpmoc laicos res omoc ,erbil res omoc onamuh res la edneitne euq otpecnoc nu ne aripsni es MATI lE\""
   ]
  },
  {
   "cell_type": "code",
   "execution_count": 168,
   "metadata": {},
   "outputs": [],
   "source": [
    "lista=list(Texto)"
   ]
  },
  {
   "cell_type": "code",
   "execution_count": 169,
   "metadata": {},
   "outputs": [],
   "source": [
    "lista.reverse()"
   ]
  },
  {
   "cell_type": "code",
   "execution_count": 175,
   "metadata": {},
   "outputs": [
    {
     "data": {
      "text/plain": [
       "'El ITAM se inspira en un concepto que entiende al ser humano como ser libre, como ser social comprometido con la elevación y el progreso humano y como ser llamado por vocación esencial a buscar la verdad y el bien. Toda educación, por lo tanto, debe tender a mejorar al ser humano mediante el enriquecimiento de sus mejores valores, la integración de su persona, la formación de su conciencia y el acrecentamiento de su capacidad de servicio. Asimismo, reconoce la obligación que adquiere en el desarrollo de la comunidad en la que actúa,asumiendo su lealtad a México, a sus valores y a sus tradiciones, entendidos como patrimonio colectivo.'"
      ]
     },
     "execution_count": 175,
     "metadata": {},
     "output_type": "execute_result"
    }
   ],
   "source": [
    "\"\".join(lista)"
   ]
  },
  {
   "cell_type": "markdown",
   "metadata": {},
   "source": [
    "### Ejercicio 44"
   ]
  },
  {
   "cell_type": "code",
   "execution_count": 41,
   "metadata": {},
   "outputs": [],
   "source": [
    "def fibo(n):\n",
    "    n1=0 \n",
    "    n2=1\n",
    "    count = 2\n",
    "    lista=[n1,n2]\n",
    "    if n<2:\n",
    "        lista=[]\n",
    "    else:\n",
    "        while count < n:\n",
    "            nth = n1 + n2\n",
    "            n1 = n2\n",
    "            n2 = nth\n",
    "            count += 1\n",
    "            lista.append(nth)\n",
    "    return tuple(lista)"
   ]
  },
  {
   "cell_type": "code",
   "execution_count": 45,
   "metadata": {},
   "outputs": [
    {
     "name": "stdout",
     "output_type": "stream",
     "text": [
      "(0, 1, 1, 2, 3, 5, 8, 13, 21, 34)\n"
     ]
    }
   ],
   "source": [
    "print(fibo(10))"
   ]
  },
  {
   "cell_type": "markdown",
   "metadata": {},
   "source": [
    "# Segundo Parcial"
   ]
  },
  {
   "cell_type": "markdown",
   "metadata": {},
   "source": [
    "### Ejercicio 50"
   ]
  },
  {
   "cell_type": "markdown",
   "metadata": {},
   "source": [
    "Las cantidades dadas en el archivo de texto inflac.txt indican la tasa de inflación mensual*, es decir, una medida de la tasa de cambio mensual de los precios para el periodo de diciembre de 2005 a junio de 2018; nótese que las cantidades están ordenadas según los meses sucesivos de este periodo indicado.\n",
    "\n",
    "\n",
    "Por ejemplo, el porcentaje de incremento del precio del terreno durante el mes de diciembre de 2005 fue 0.59 %, lo cual significa un incremento de valor en este mes de 0.0059; es decir, durante ese mes el terreno cambió su valor en un factor de 1.0059."
   ]
  },
  {
   "cell_type": "markdown",
   "metadata": {},
   "source": [
    "a) Define una sucesión con las tasas dadas,\n",
    "¿Cuáles son los valores máximo y mínimo de las tasas?"
   ]
  },
  {
   "cell_type": "code",
   "execution_count": 23,
   "metadata": {},
   "outputs": [],
   "source": [
    "archInflac=open(\"inflac.txt\",\"r\")\n",
    "inflacDatos=archInflac.read()\n",
    "archInflac.close()\n",
    "inflacTxt=inflacDatos.split(\",\")\n",
    "inflacion=[float(i) for i in inflacTxt]"
   ]
  },
  {
   "cell_type": "code",
   "execution_count": 24,
   "metadata": {},
   "outputs": [
    {
     "name": "stdout",
     "output_type": "stream",
     "text": [
      "1.7\n",
      "-0.74\n"
     ]
    }
   ],
   "source": [
    "print(max(inflacion))\n",
    "print(min(inflacion))"
   ]
  },
  {
   "cell_type": "markdown",
   "metadata": {},
   "source": [
    "b) Define una lista con las tasas ordenadas de manera descendente."
   ]
  },
  {
   "cell_type": "code",
   "execution_count": 26,
   "metadata": {},
   "outputs": [
    {
     "name": "stdout",
     "output_type": "stream",
     "text": [
      "[1.7, 1.14, 1.09, 1.08, 1.03, 1.01, 0.93, 0.89, 0.82, 0.81, 0.8, 0.78, 0.78, 0.73, 0.72, 0.71, 0.71, 0.71, 0.69, 0.68, 0.68, 0.68, 0.67, 0.63, 0.62, 0.61, 0.61, 0.61, 0.59, 0.59, 0.58, 0.58, 0.58, 0.58, 0.58, 0.57, 0.56, 0.56, 0.55, 0.55, 0.54, 0.53, 0.52, 0.52, 0.52, 0.52, 0.51, 0.51, 0.51, 0.5, 0.5, 0.49, 0.49, 0.49, 0.49, 0.48, 0.48, 0.46, 0.46, 0.46, 0.44, 0.44, 0.44, 0.44, 0.42, 0.41, 0.41, 0.41, 0.41, 0.41, 0.41, 0.4, 0.39, 0.39, 0.38, 0.38, 0.38, 0.38, 0.38, 0.37, 0.36, 0.35, 0.32, 0.31, 0.3, 0.3, 0.3, 0.28, 0.28, 0.28, 0.28, 0.28, 0.27, 0.27, 0.27, 0.26, 0.25, 0.25, 0.25, 0.24, 0.23, 0.23, 0.23, 0.22, 0.22, 0.22, 0.21, 0.2, 0.19, 0.19, 0.18, 0.17, 0.17, 0.16, 0.15, 0.15, 0.15, 0.15, 0.13, 0.12, 0.12, 0.11, 0.09, 0.07, 0.06, 0.0, -0.01, -0.03, -0.03, -0.06, -0.06, -0.09, -0.11, -0.12, -0.16, -0.19, -0.26, -0.29, -0.31, -0.32, -0.32, -0.32, -0.32, -0.33, -0.34, -0.45, -0.45, -0.49, -0.5, -0.63, -0.74]\n"
     ]
    }
   ],
   "source": [
    "inflacionOrdenada=inflacion.copy()\n",
    "inflacionOrdenada.sort(reverse=True)\n",
    "print(inflacionOrdenada)"
   ]
  },
  {
   "cell_type": "markdown",
   "metadata": {},
   "source": [
    "c) Si un terreno estaba valuado en $60,000 (sesenta mil pesos M.N.) al final de noviembre de 2005, incrementándose, o disminuyéndose, el valor en cada uno de los meses siguientes durante varios años, según la tasa de cambio y hasta junio de 2018,\n",
    "¿Qué valor tenía el terreno al final de junio de 2018 después de varios años?"
   ]
  },
  {
   "cell_type": "code",
   "execution_count": 37,
   "metadata": {},
   "outputs": [
    {
     "name": "stdout",
     "output_type": "stream",
     "text": [
      "99481.3144144305\n"
     ]
    }
   ],
   "source": [
    "valor=60000\n",
    "n=0\n",
    "inf=[i/100 for i in inflacion]\n",
    "while n < len(inflacion):\n",
    "    valor=valor*(1+inf[n])\n",
    "    n=n+1\n",
    "print(valor)"
   ]
  },
  {
   "cell_type": "markdown",
   "metadata": {},
   "source": [
    "### Ejercicio 51"
   ]
  },
  {
   "cell_type": "markdown",
   "metadata": {},
   "source": [
    "Se tiene un archivo de texto llamado sueldos.txt con los sueldos que paga una empresa. Después de leer el archivo, calcule la suma de los sueldos que paga la empresa.\n"
   ]
  },
  {
   "cell_type": "code",
   "execution_count": 39,
   "metadata": {},
   "outputs": [],
   "source": [
    "archSueldos=open(\"sueldos.txt\",\"r\")\n",
    "sueldosDatos=archSueldos.read()\n",
    "archSueldos.close()\n",
    "sueldosTxt=sueldosDatos.split(\",\")\n",
    "sueldos=[float(i) for i in sueldosTxt]"
   ]
  },
  {
   "cell_type": "code",
   "execution_count": 40,
   "metadata": {},
   "outputs": [
    {
     "data": {
      "text/plain": [
       "1014537.8"
      ]
     },
     "execution_count": 40,
     "metadata": {},
     "output_type": "execute_result"
    }
   ],
   "source": [
    "sum(sueldos)"
   ]
  },
  {
   "cell_type": "markdown",
   "metadata": {},
   "source": [
    "### Ejercicio 52"
   ]
  },
  {
   "cell_type": "markdown",
   "metadata": {},
   "source": [
    "Los precios en pesos mexicanos del tipo de cambio del dólar americano (USD) para solventar obligaciones y publicados del 4 de enero de 2016 al 17 de enero de 2018 en los días hábiles bancarios se listan en el archivo tipoUSD.txt:"
   ]
  },
  {
   "cell_type": "markdown",
   "metadata": {},
   "source": [
    "a. A partir de los n valores listados, calcule el valor promedio del tipo de cambio (calculando la suma y dividiendo entre la cantidad de valores) y llámelo media:\n"
   ]
  },
  {
   "cell_type": "code",
   "execution_count": 2,
   "metadata": {},
   "outputs": [
    {
     "name": "stdout",
     "output_type": "stream",
     "text": [
      "17.2487,17.3529,17.3456,17.4411,17.6568,17.9283,17.9304,17.9119,17.85,17.9121,18.2108,18.2327,18.1947,18.608,18.5084,18.428,18.5352,18.4715,18.453,18.2906,18.1935,18.4902,18.4537,18.1891,18.3748,18.6959,18.7818,18.8089,19.1754,19.0392,18.8471,18.8148,18.3895,18.1439,18.2762,18.0568,18.1948,18.2893,18.168,18.1706,18.102,17.9432,17.8561,17.8971,17.7723,17.7526,17.9044,17.7523,17.8601,17.7002,17.7691,17.926,17.9308,17.4034,17.2995,17.3361,17.5273,17.461,17.4015,17.2509,17.237,17.3338,17.4484,17.7252,17.7286,17.893,17.7391,17.6452,17.5719,17.49,17.388,17.5669,17.4598,17.2825,17.3078,17.4202,17.4359,17.5866,17.4298,17.3993,17.2125,17.1767,17.2279,17.5234,17.7358,17.7866,17.9204,18.1033,18.0205,17.9549,17.9915,18.1562,18.1795,18.3217,18.3761,18.5465,18.3826,18.4444,18.4694,18.452,18.4572,18.4527,18.4777,18.4118,18.5299,18.6097,18.6283,18.5889,18.5067,18.1491,18.2742,18.5046,18.7915,18.9814,18.8672,18.9968,18.8527,18.6559,18.6444,18.5325,18.3207,18.8716,19.1283,18.9113,18.555,18.4646,18.309,18.3858,18.7536,18.8161,18.8607,18.5991,18.4597,18.3006,18.3937,18.3061,18.492,18.4879,18.5719,18.5729,18.6022,18.6089,18.7569,18.8114,18.8602,18.8979,18.7837,18.8504,18.8966,18.9117,18.8612,18.8691,18.5716,18.3842,18.3479,18.2678,18.2455,18.0363,17.9869,18.2598,18.0832,18.2674,18.3023,18.3202,18.4971,18.446,18.283,18.5773,18.7953,18.8611,18.8523,18.6589,18.5581,18.3524,18.3689,18.5427,18.8451,19.0646,19.152,19.2275,19.2514,19.6097,19.777,19.8394,19.5965,19.7211,19.8322,19.5044,19.5002,19.4086,19.3776,19.3211,19.2138,19.2554,19.2433,19.2994,18.8786,18.9531,18.9622,19.0399,19.0046,18.8723,18.6726,18.5894,18.5945,18.6481,18.5658,18.5147,18.6485,18.8443,18.7304,18.8887,19.1306,19.2014,19.0792,18.6192,18.5089,19.925,20.4812,21.0511,20.8729,20.349,20.2884,20.1898,20.4193,20.5205,20.6901,20.7051,20.6475,20.5521,20.6225,20.5155,20.7488,20.6149,20.5927,20.3863,20.2967,20.4162,20.3305,20.2567,20.2226,20.5973,20.428,20.4098,20.43,20.4921,20.7179,20.6271,20.6445,20.7052,20.7314,20.664,20.6194,20.7323,20.852,21.3799,21.3661,21.3144,21.3219,21.6168,21.9076,21.7204\n",
      "['17.2487', '17.3529', '17.3456', '17.4411', '17.6568', '17.9283', '17.9304', '17.9119', '17.85', '17.9121', '18.2108', '18.2327', '18.1947', '18.608', '18.5084', '18.428', '18.5352', '18.4715', '18.453', '18.2906', '18.1935', '18.4902', '18.4537', '18.1891', '18.3748', '18.6959', '18.7818', '18.8089', '19.1754', '19.0392', '18.8471', '18.8148', '18.3895', '18.1439', '18.2762', '18.0568', '18.1948', '18.2893', '18.168', '18.1706', '18.102', '17.9432', '17.8561', '17.8971', '17.7723', '17.7526', '17.9044', '17.7523', '17.8601', '17.7002', '17.7691', '17.926', '17.9308', '17.4034', '17.2995', '17.3361', '17.5273', '17.461', '17.4015', '17.2509', '17.237', '17.3338', '17.4484', '17.7252', '17.7286', '17.893', '17.7391', '17.6452', '17.5719', '17.49', '17.388', '17.5669', '17.4598', '17.2825', '17.3078', '17.4202', '17.4359', '17.5866', '17.4298', '17.3993', '17.2125', '17.1767', '17.2279', '17.5234', '17.7358', '17.7866', '17.9204', '18.1033', '18.0205', '17.9549', '17.9915', '18.1562', '18.1795', '18.3217', '18.3761', '18.5465', '18.3826', '18.4444', '18.4694', '18.452', '18.4572', '18.4527', '18.4777', '18.4118', '18.5299', '18.6097', '18.6283', '18.5889', '18.5067', '18.1491', '18.2742', '18.5046', '18.7915', '18.9814', '18.8672', '18.9968', '18.8527', '18.6559', '18.6444', '18.5325', '18.3207', '18.8716', '19.1283', '18.9113', '18.555', '18.4646', '18.309', '18.3858', '18.7536', '18.8161', '18.8607', '18.5991', '18.4597', '18.3006', '18.3937', '18.3061', '18.492', '18.4879', '18.5719', '18.5729', '18.6022', '18.6089', '18.7569', '18.8114', '18.8602', '18.8979', '18.7837', '18.8504', '18.8966', '18.9117', '18.8612', '18.8691', '18.5716', '18.3842', '18.3479', '18.2678', '18.2455', '18.0363', '17.9869', '18.2598', '18.0832', '18.2674', '18.3023', '18.3202', '18.4971', '18.446', '18.283', '18.5773', '18.7953', '18.8611', '18.8523', '18.6589', '18.5581', '18.3524', '18.3689', '18.5427', '18.8451', '19.0646', '19.152', '19.2275', '19.2514', '19.6097', '19.777', '19.8394', '19.5965', '19.7211', '19.8322', '19.5044', '19.5002', '19.4086', '19.3776', '19.3211', '19.2138', '19.2554', '19.2433', '19.2994', '18.8786', '18.9531', '18.9622', '19.0399', '19.0046', '18.8723', '18.6726', '18.5894', '18.5945', '18.6481', '18.5658', '18.5147', '18.6485', '18.8443', '18.7304', '18.8887', '19.1306', '19.2014', '19.0792', '18.6192', '18.5089', '19.925', '20.4812', '21.0511', '20.8729', '20.349', '20.2884', '20.1898', '20.4193', '20.5205', '20.6901', '20.7051', '20.6475', '20.5521', '20.6225', '20.5155', '20.7488', '20.6149', '20.5927', '20.3863', '20.2967', '20.4162', '20.3305', '20.2567', '20.2226', '20.5973', '20.428', '20.4098', '20.43', '20.4921', '20.7179', '20.6271', '20.6445', '20.7052', '20.7314', '20.664', '20.6194', '20.7323', '20.852', '21.3799', '21.3661', '21.3144', '21.3219', '21.6168', '21.9076', '21.7204']\n",
      "[17.2487, 17.3529, 17.3456, 17.4411, 17.6568, 17.9283, 17.9304, 17.9119, 17.85, 17.9121, 18.2108, 18.2327, 18.1947, 18.608, 18.5084, 18.428, 18.5352, 18.4715, 18.453, 18.2906, 18.1935, 18.4902, 18.4537, 18.1891, 18.3748, 18.6959, 18.7818, 18.8089, 19.1754, 19.0392, 18.8471, 18.8148, 18.3895, 18.1439, 18.2762, 18.0568, 18.1948, 18.2893, 18.168, 18.1706, 18.102, 17.9432, 17.8561, 17.8971, 17.7723, 17.7526, 17.9044, 17.7523, 17.8601, 17.7002, 17.7691, 17.926, 17.9308, 17.4034, 17.2995, 17.3361, 17.5273, 17.461, 17.4015, 17.2509, 17.237, 17.3338, 17.4484, 17.7252, 17.7286, 17.893, 17.7391, 17.6452, 17.5719, 17.49, 17.388, 17.5669, 17.4598, 17.2825, 17.3078, 17.4202, 17.4359, 17.5866, 17.4298, 17.3993, 17.2125, 17.1767, 17.2279, 17.5234, 17.7358, 17.7866, 17.9204, 18.1033, 18.0205, 17.9549, 17.9915, 18.1562, 18.1795, 18.3217, 18.3761, 18.5465, 18.3826, 18.4444, 18.4694, 18.452, 18.4572, 18.4527, 18.4777, 18.4118, 18.5299, 18.6097, 18.6283, 18.5889, 18.5067, 18.1491, 18.2742, 18.5046, 18.7915, 18.9814, 18.8672, 18.9968, 18.8527, 18.6559, 18.6444, 18.5325, 18.3207, 18.8716, 19.1283, 18.9113, 18.555, 18.4646, 18.309, 18.3858, 18.7536, 18.8161, 18.8607, 18.5991, 18.4597, 18.3006, 18.3937, 18.3061, 18.492, 18.4879, 18.5719, 18.5729, 18.6022, 18.6089, 18.7569, 18.8114, 18.8602, 18.8979, 18.7837, 18.8504, 18.8966, 18.9117, 18.8612, 18.8691, 18.5716, 18.3842, 18.3479, 18.2678, 18.2455, 18.0363, 17.9869, 18.2598, 18.0832, 18.2674, 18.3023, 18.3202, 18.4971, 18.446, 18.283, 18.5773, 18.7953, 18.8611, 18.8523, 18.6589, 18.5581, 18.3524, 18.3689, 18.5427, 18.8451, 19.0646, 19.152, 19.2275, 19.2514, 19.6097, 19.777, 19.8394, 19.5965, 19.7211, 19.8322, 19.5044, 19.5002, 19.4086, 19.3776, 19.3211, 19.2138, 19.2554, 19.2433, 19.2994, 18.8786, 18.9531, 18.9622, 19.0399, 19.0046, 18.8723, 18.6726, 18.5894, 18.5945, 18.6481, 18.5658, 18.5147, 18.6485, 18.8443, 18.7304, 18.8887, 19.1306, 19.2014, 19.0792, 18.6192, 18.5089, 19.925, 20.4812, 21.0511, 20.8729, 20.349, 20.2884, 20.1898, 20.4193, 20.5205, 20.6901, 20.7051, 20.6475, 20.5521, 20.6225, 20.5155, 20.7488, 20.6149, 20.5927, 20.3863, 20.2967, 20.4162, 20.3305, 20.2567, 20.2226, 20.5973, 20.428, 20.4098, 20.43, 20.4921, 20.7179, 20.6271, 20.6445, 20.7052, 20.7314, 20.664, 20.6194, 20.7323, 20.852, 21.3799, 21.3661, 21.3144, 21.3219, 21.6168, 21.9076, 21.7204]\n"
     ]
    }
   ],
   "source": [
    "archTipoUSD=open(\"tipoUSD.txt\",\"r\",encoding=\"latin\")\n",
    "tipoDatos=archTipoUSD.read()\n",
    "archTipoUSD.close()\n",
    "print(tipoDatos)\n",
    "tipoUSDTxt=tipoDatos.split(\",\")\n",
    "print(tipoUSDTxt)\n",
    "tipoUSD=[float(i) for i in tipoUSDTxt]\n",
    "print(tipoUSD)"
   ]
  },
  {
   "cell_type": "code",
   "execution_count": 4,
   "metadata": {},
   "outputs": [
    {
     "data": {
      "text/plain": [
       "18.7747786259542"
      ]
     },
     "execution_count": 4,
     "metadata": {},
     "output_type": "execute_result"
    }
   ],
   "source": [
    "media=sum(tipoUSD)/len(tipoUSD)\n",
    "media"
   ]
  },
  {
   "cell_type": "markdown",
   "metadata": {},
   "source": [
    "b. Para conocer la dispersión de los valores, calcule la desviación estándar, σ:\n",
    "\n",
    "    i. Primero, calculando la lista de los cuadrados de las diferencias del valor del tipo de\n",
    "    cambio y su media;\n",
    "    ii. Segundo, calculando la raíz cuadrada del promedio de los cuadrados calculados en i)"
   ]
  },
  {
   "cell_type": "code",
   "execution_count": 8,
   "metadata": {},
   "outputs": [],
   "source": [
    "#inciso i\n",
    "cuadrados=[(i-media)**2 for i in tipoUSD]"
   ]
  },
  {
   "cell_type": "code",
   "execution_count": 9,
   "metadata": {},
   "outputs": [
    {
     "data": {
      "text/plain": [
       "1.0386061094252799"
      ]
     },
     "execution_count": 9,
     "metadata": {},
     "output_type": "execute_result"
    }
   ],
   "source": [
    "#inciso ii\n",
    "desviacion=sqrt((1/len(tipoUSD))*(sum(cuadrados)))\n",
    "desviacion"
   ]
  },
  {
   "cell_type": "markdown",
   "metadata": {},
   "source": [
    "c. Con base en los días hábiles del periodo considerado, calcule la proporción de los días con un precio del dólar americano (USD) dentro de una banda de dos desviaciones estándar y centrada en la media:\n"
   ]
  },
  {
   "cell_type": "code",
   "execution_count": 11,
   "metadata": {},
   "outputs": [
    {
     "ename": "NameError",
     "evalue": "name 'tipoUSD' is not defined",
     "output_type": "error",
     "traceback": [
      "\u001b[0;31m---------------------------------------------------------------------------\u001b[0m",
      "\u001b[0;31mNameError\u001b[0m                                 Traceback (most recent call last)",
      "\u001b[0;32m<ipython-input-11-036dd4a0d466>\u001b[0m in \u001b[0;36m<module>\u001b[0;34m\u001b[0m\n\u001b[1;32m      1\u001b[0m \u001b[0mn\u001b[0m\u001b[0;34m=\u001b[0m\u001b[0;36m0\u001b[0m\u001b[0;34m\u001b[0m\u001b[0;34m\u001b[0m\u001b[0m\n\u001b[0;32m----> 2\u001b[0;31m \u001b[0;32mfor\u001b[0m \u001b[0mi\u001b[0m \u001b[0;32min\u001b[0m \u001b[0mtipoUSD\u001b[0m\u001b[0;34m:\u001b[0m\u001b[0;34m\u001b[0m\u001b[0;34m\u001b[0m\u001b[0m\n\u001b[0m\u001b[1;32m      3\u001b[0m     \u001b[0;32mif\u001b[0m \u001b[0mmedia\u001b[0m\u001b[0;34m-\u001b[0m\u001b[0mdesviacion\u001b[0m \u001b[0;34m<=\u001b[0m \u001b[0mi\u001b[0m \u001b[0;34m<=\u001b[0m \u001b[0mmedia\u001b[0m \u001b[0;34m+\u001b[0m \u001b[0mdesviacion\u001b[0m\u001b[0;34m:\u001b[0m\u001b[0;34m\u001b[0m\u001b[0;34m\u001b[0m\u001b[0m\n\u001b[1;32m      4\u001b[0m         \u001b[0mn\u001b[0m\u001b[0;34m=\u001b[0m\u001b[0mn\u001b[0m\u001b[0;34m+\u001b[0m\u001b[0;36m1\u001b[0m\u001b[0;34m\u001b[0m\u001b[0;34m\u001b[0m\u001b[0m\n\u001b[1;32m      5\u001b[0m \u001b[0mproporcion\u001b[0m\u001b[0;34m=\u001b[0m\u001b[0;34m(\u001b[0m\u001b[0mn\u001b[0m\u001b[0;34m/\u001b[0m\u001b[0mlen\u001b[0m\u001b[0;34m(\u001b[0m\u001b[0mtipoUSD\u001b[0m\u001b[0;34m)\u001b[0m\u001b[0;34m)\u001b[0m\u001b[0;34m*\u001b[0m\u001b[0;36m100\u001b[0m\u001b[0;34m\u001b[0m\u001b[0;34m\u001b[0m\u001b[0m\n",
      "\u001b[0;31mNameError\u001b[0m: name 'tipoUSD' is not defined"
     ]
    }
   ],
   "source": [
    "n=0\n",
    "for i in tipoUSD:\n",
    "    if media-desviacion <= i <= media + desviacion:\n",
    "        n=n+1\n",
    "proporcion=(n/len(tipoUSD))*100\n",
    "proporcion "
   ]
  },
  {
   "cell_type": "markdown",
   "metadata": {},
   "source": [
    "d. A partir de los n valores listados, elabore las siguientes gráficas: \n",
    "\n",
    "    a) Una gráfica de línea;\n",
    "    b) Un histograma de 20 clases"
   ]
  },
  {
   "cell_type": "code",
   "execution_count": 202,
   "metadata": {},
   "outputs": [
    {
     "data": {
      "text/plain": [
       "Text(0.5, 1.0, 'Tipo de Cambio 4 de enero 2016 a 17 de enero 2018')"
      ]
     },
     "execution_count": 202,
     "metadata": {},
     "output_type": "execute_result"
    },
    {
     "data": {
      "image/png": "[encoded data removed]",
      "text/plain": [
       "<Figure size 432x288 with 1 Axes>"
      ]
     },
     "metadata": {
      "needs_background": "light"
     },
     "output_type": "display_data"
    }
   ],
   "source": [
    "#inciso a\n",
    "plot(tipoUSD)\n",
    "xlabel(\"Día\")\n",
    "ylabel(\"Tipo de Cambio\")\n",
    "title(\"Tipo de Cambio 4 de enero 2016 a 17 de enero 2018\")"
   ]
  },
  {
   "cell_type": "code",
   "execution_count": 205,
   "metadata": {},
   "outputs": [
    {
     "data": {
      "text/plain": [
       "Text(0.5, 1.0, 'Tipo de Cambio 4 de enero 2016 a 17 de enero 2018')"
      ]
     },
     "execution_count": 205,
     "metadata": {},
     "output_type": "execute_result"
    },
    {
     "data": {
      "image/png": "[encoded data removed]",
      "text/plain": [
       "<Figure size 432x288 with 1 Axes>"
      ]
     },
     "metadata": {
      "needs_background": "light"
     },
     "output_type": "display_data"
    }
   ],
   "source": [
    "#inciso b\n",
    "hist(tipoUSD,20)\n",
    "xlabel(\"Tipo de Cambio\")\n",
    "ylabel(\"Ocurrencias\")\n",
    "title(\"Tipo de Cambio 4 de enero 2016 a 17 de enero 2018\")"
   ]
  },
  {
   "cell_type": "markdown",
   "metadata": {},
   "source": [
    "### Ejercicio 61"
   ]
  },
  {
   "cell_type": "markdown",
   "metadata": {},
   "source": [
    "En el archivo de texto SorJuana.txt con el poema Sentimientos de Ausente de Sor Juana Inés de la Cruz. Note que se define un identificador con el texto del poema y las triples comillas permiten definir un texto escrito sobre varias líneas. Ejecute la instrucción y lleve a cabo lo que se pide a continuación:"
   ]
  },
  {
   "cell_type": "markdown",
   "metadata": {},
   "source": [
    "a. Obtenga e imprima el conjunto de símbolos cualesquiera y usados para escribir el poema. A este conjunto pertenecen los siguientes símbolos: letras mayúsculas y minúsculas, espacio, cambios de renglón, signos de puntuación, etc., los llamados símbolos tipográficos."
   ]
  },
  {
   "cell_type": "code",
   "execution_count": 64,
   "metadata": {},
   "outputs": [],
   "source": [
    "archSorJuana=open(\"SorJuana.txt\",\"r\",encoding=\"latin\")\n",
    "SorJuanaDatos=archSorJuana.readlinenes()\n",
    "archSorJuana.close()"
   ]
  },
  {
   "cell_type": "code",
   "execution_count": 86,
   "metadata": {},
   "outputs": [
    {
     "name": "stdout",
     "output_type": "stream",
     "text": [
      "{'H', 'l', 'r', 'S', 'p', 'A', 'V', 's', 'z', 'y', 'g', 'i', 'Q', 'q', 'G', '.', 'í', '\\n', 'é', 'D', '¿', 'h', '¡', ',', 'B', 'm', 't', 'd', 'T', 'R', 'Ó', 'a', ' ', 'É', '!', 'v', 'b', 'M', 'F', 'á', 'x', 'C', 'L', 'ó', 'o', 'E', 'n', 'f', 'N', 'j', '?', ';', 'u', 'c', 'ñ', 'Y', 'P', 'e'}\n"
     ]
    }
   ],
   "source": [
    "simbolos=set(SorJuanaDatos)\n",
    "print(simbolos)"
   ]
  },
  {
   "cell_type": "markdown",
   "metadata": {},
   "source": [
    "b. Calcule la cantidad de símbolos del conjunto encontrado."
   ]
  },
  {
   "cell_type": "code",
   "execution_count": 87,
   "metadata": {},
   "outputs": [
    {
     "data": {
      "text/plain": [
       "58"
      ]
     },
     "execution_count": 87,
     "metadata": {},
     "output_type": "execute_result"
    }
   ],
   "source": [
    "len(simbolos)"
   ]
  },
  {
   "cell_type": "markdown",
   "metadata": {},
   "source": [
    "c. Calcule e imprima la cantidad de veces que aparecen las cinco vocales (minúsculas y sin acento)\n",
    "en el poema de Sor Juana."
   ]
  },
  {
   "cell_type": "code",
   "execution_count": 89,
   "metadata": {},
   "outputs": [
    {
     "name": "stdout",
     "output_type": "stream",
     "text": [
      "253\n",
      "285\n",
      "145\n",
      "181\n",
      "94\n"
     ]
    }
   ],
   "source": [
    "print(SorJuanaDatos.count(\"a\"))\n",
    "print(SorJuanaDatos.count(\"e\"))\n",
    "print(SorJuanaDatos.count(\"i\"))\n",
    "print(SorJuanaDatos.count(\"o\"))\n",
    "print(SorJuanaDatos.count(\"u\"))"
   ]
  },
  {
   "cell_type": "markdown",
   "metadata": {},
   "source": [
    "d. Calcule la cantidad de veces que aparecen cada uno de los símbolos del conjunto obtenido en\n",
    "a). Muestre el resultado de dos maneras:"
   ]
  },
  {
   "cell_type": "code",
   "execution_count": 91,
   "metadata": {},
   "outputs": [],
   "source": [
    "simbolosLista=list(simbolos)\n",
    "simbolosFrecuancia=[SorJuanaDatos.count(i) for i in simbolosLista]"
   ]
  },
  {
   "cell_type": "markdown",
   "metadata": {},
   "source": [
    "\n",
    "i. con una tupla de parejas ordenadas de la forma, (símbolo,frecuencia);"
   ]
  },
  {
   "cell_type": "code",
   "execution_count": 93,
   "metadata": {},
   "outputs": [
    {
     "name": "stdout",
     "output_type": "stream",
     "text": [
      "[('H', 1), ('l', 126), ('r', 114), ('S', 14), ('p', 40), ('A', 6), ('V', 3), ('s', 160), ('z', 19), ('y', 22), ('g', 24), ('i', 145), ('Q', 9), ('q', 19), ('G', 1), ('.', 12), ('í', 10), ('\\n', 103), ('é', 9), ('D', 3), ('¿', 7), ('h', 11), ('¡', 1), (',', 54), ('B', 1), ('m', 81), ('t', 94), ('d', 119), ('T', 3), ('R', 1), ('Ó', 2), ('a', 253), (' ', 430), ('É', 1), ('!', 1), ('v', 31), ('b', 19), ('M', 3), ('F', 1), ('á', 17), ('x', 1), ('C', 6), ('L', 3), ('ó', 2), ('o', 181), ('E', 5), ('n', 134), ('f', 13), ('N', 2), ('j', 15), ('?', 7), (';', 5), ('u', 94), ('c', 70), ('ñ', 3), ('Y', 9), ('P', 2), ('e', 285)]\n"
     ]
    }
   ],
   "source": [
    "simbolosParejas=[(m,n) for (m,n) in zip(simbolosLista,simbolosFrecuancia)]\n",
    "print(simbolosParejas)"
   ]
  },
  {
   "cell_type": "markdown",
   "metadata": {},
   "source": [
    "ii. con un diccionario cuyas llaves sean los símbolos y cuyos valores sean las\n",
    "frecuencias."
   ]
  },
  {
   "cell_type": "code",
   "execution_count": 103,
   "metadata": {},
   "outputs": [],
   "source": [
    "simbolosDiccionario={i:(SorJuanaDatos.count(i)) for i in simbolosLista}"
   ]
  },
  {
   "cell_type": "code",
   "execution_count": 106,
   "metadata": {},
   "outputs": [
    {
     "name": "stdout",
     "output_type": "stream",
     "text": [
      "{'H': 1, 'l': 126, 'r': 114, 'S': 14, 'p': 40, 'A': 6, 'V': 3, 's': 160, 'z': 19, 'y': 22, 'g': 24, 'i': 145, 'Q': 9, 'q': 19, 'G': 1, '.': 12, 'í': 10, '\\n': 103, 'é': 9, 'D': 3, '¿': 7, 'h': 11, '¡': 1, ',': 54, 'B': 1, 'm': 81, 't': 94, 'd': 119, 'T': 3, 'R': 1, 'Ó': 2, 'a': 253, ' ': 430, 'É': 1, '!': 1, 'v': 31, 'b': 19, 'M': 3, 'F': 1, 'á': 17, 'x': 1, 'C': 6, 'L': 3, 'ó': 2, 'o': 181, 'E': 5, 'n': 134, 'f': 13, 'N': 2, 'j': 15, '?': 7, ';': 5, 'u': 94, 'c': 70, 'ñ': 3, 'Y': 9, 'P': 2, 'e': 285}\n"
     ]
    }
   ],
   "source": [
    "print(simbolosDiccionario)"
   ]
  },
  {
   "cell_type": "markdown",
   "metadata": {},
   "source": [
    "e. Elabore un histograma con los resultados del inciso d."
   ]
  },
  {
   "cell_type": "code",
   "execution_count": 132,
   "metadata": {},
   "outputs": [
    {
     "data": {
      "text/plain": [
       "Text(0.5, 0, 'Frecuencia')"
      ]
     },
     "execution_count": 132,
     "metadata": {},
     "output_type": "execute_result"
    },
    {
     "data": {
      "image/png": "[encoded data removed]",
      "text/plain": [
       "<Figure size 432x288 with 1 Axes>"
      ]
     },
     "metadata": {
      "needs_background": "light"
     },
     "output_type": "display_data"
    }
   ],
   "source": [
    "barh(simbolosLista,simbolosFrecuancia,align=\"center\")\n",
    "ylabel(\"Símbolos\")\n",
    "xlabel(\"Frecuencia\")"
   ]
  },
  {
   "cell_type": "markdown",
   "metadata": {},
   "source": [
    "### Ejercicio 66"
   ]
  },
  {
   "cell_type": "markdown",
   "metadata": {},
   "source": [
    "elabore las siguientes gráficas\n",
    "\n",
    "    a. Una gráfica de barras horizontales con los valores de la superficie de cada continente\n",
    "    b. Una gráfica circular con las proporciones correspondientes a cada continente sobre la superficie\n",
    "    total de La Tierra"
   ]
  },
  {
   "cell_type": "code",
   "execution_count": 133,
   "metadata": {},
   "outputs": [
    {
     "data": {
      "text/plain": [
       "Text(0, 0.5, 'Continente')"
      ]
     },
     "execution_count": 133,
     "metadata": {},
     "output_type": "execute_result"
    },
    {
     "data": {
      "image/png": "[encoded data removed]",
      "text/plain": [
       "<Figure size 432x288 with 1 Axes>"
      ]
     },
     "metadata": {
      "needs_background": "light"
     },
     "output_type": "display_data"
    }
   ],
   "source": [
    "#Inciso a\n",
    "continente=['Asia', 'África', 'América del Norte', 'América del Sur', 'Antártida', 'Europa', 'Oceanía']\n",
    "superficie=[44579000,30065000,24256000,17819000,13209000,9938000,7687000]\n",
    "marcas=range(len(continente))\n",
    "barh(marcas,superficie,align=\"center\")\n",
    "yticks(marcas,continente)\n",
    "title(\"Superficie de cada Continente\")\n",
    "xlabel(\"Superficie\")\n",
    "ylabel(\"Continente\")"
   ]
  },
  {
   "cell_type": "code",
   "execution_count": 135,
   "metadata": {},
   "outputs": [
    {
     "data": {
      "text/plain": [
       "Text(0.5, 1.0, 'Distribución de la superficie terrestre de cada Continente')"
      ]
     },
     "execution_count": 135,
     "metadata": {},
     "output_type": "execute_result"
    },
    {
     "data": {
      "image/png": "[encoded data removed]",
      "text/plain": [
       "<Figure size 432x288 with 1 Axes>"
      ]
     },
     "metadata": {},
     "output_type": "display_data"
    }
   ],
   "source": [
    "#Inciso b\n",
    "separa=[0.1 for n in range(len(continente))]\n",
    "colores=[\"red\",\"yellow\",\"orange\",\"lightgreen\",\"lightblue\",\"lightcoral\",\"beige\"]\n",
    "pie(superficie,explode=separa,labels=continente, autopct=\"%1.2f %%\",colors=colores)\n",
    "title(\"Distribución de la superficie terrestre de cada Continente\")"
   ]
  },
  {
   "cell_type": "markdown",
   "metadata": {},
   "source": [
    "### Ejercicio 67"
   ]
  },
  {
   "cell_type": "markdown",
   "metadata": {},
   "source": [
    " Elabore una función que calcule la densidad de población de una ciudad a partir de la cantidad de habitantes y la superficie en kilómetros cuadrados. Aplique la función definida a los datos de las tuplas dadas a continuación mediante dos métodos:\n"
   ]
  },
  {
   "cell_type": "markdown",
   "metadata": {},
   "source": [
    "a. Creando una lista de densidades de población con la operación de comprehension."
   ]
  },
  {
   "cell_type": "code",
   "execution_count": 171,
   "metadata": {},
   "outputs": [
    {
     "name": "stdout",
     "output_type": "stream",
     "text": [
      "[366.0728371539871, 3814.099834397918, 1322.7103771860338, 24229.362072578955, 3944.537566137566, 42658.64786395686, 5256.869772998805, 1759.6179714823782, 6289.307228915663, 28426.06520298828, 11135.470144766663, 24195.216684609375, 943.7080536912752, 22139.090637747486, 23893.110018838102, 16060.468631897204, 4315.040650406504, 16201.569599339116, 2443.7713984724783, 14789.709564745848, 629.6813862493013, 3328.5928143712576, 14615.789993741972, 5613.868320610687, 15142.911884068068, 10966.168129212769, 11909.273624823696, 624.5124036979969, 945.9618554273604, 18593.844860598703, 774.8075381281816, 25122.349286092016, 16382.275132275132, 6608.476770822958, 1103.0082041932544, 2175.575274477365, 595.9994923428378, 8268.396742004865, 10729.976217874952, 16001.224883989355, 15772.197603807648, 16288.293549407499, 8676.674119024805, 613.7148495313271, 704.8774740810557, 7560.838465863769, 9302.364164247201, 15861.122974858348, 9338.527934977918, 2611.400780848858, 11554.490293882662, 8625.938044309876, 15905.240227520271, 8708.141962421712, 11433.786156547454, 2248.7022180273716, 2007.2282608695652, 24306.454054054055, 2339.6060536286186, 13297.014880952382, 811.8101808689166, 14667.178635671788, 4058.5304137211274, 3275.793549450097, 1926.8180865938798, 1529.6817547863575, 8517.147820521612, 4116.6246145220075, 10331.232553454776, 2078.4855797527957, 1958.2203966005666, 1502.3549847030738, 12414.90909090909, 14607.904347826086, 3997.6100748938607, 1540.6474207288215, 5294.496260957129, 14971.242990654206, 1609.09933124421, 4516.288674629443, 1749.917305331143, 6912.580709578646, 5889.4343346173555, 6336.80412371134, 15045.812807881774, 2558.7087921338853, 9139.080809618019]\n"
     ]
    }
   ],
   "source": [
    "s=dfCiudades[\"Poblaciones\"]\n",
    "t=dfCiudades[\"Superficies\"]\n",
    "densidades=[m/n for (m,n) in zip(s,t)]\n",
    "print(densidades)"
   ]
  },
  {
   "cell_type": "markdown",
   "metadata": {},
   "source": [
    "b. Creando una lista de densidades de población aplicando la función map() con una función lambda"
   ]
  },
  {
   "cell_type": "code",
   "execution_count": 163,
   "metadata": {},
   "outputs": [],
   "source": [
    "s=dfCiudades[\"Poblaciones\"]\n",
    "t=dfCiudades[\"Superficies\"]\n",
    "f=lambda s,t: s/t"
   ]
  },
  {
   "cell_type": "code",
   "execution_count": 158,
   "metadata": {},
   "outputs": [
    {
     "name": "stdout",
     "output_type": "stream",
     "text": [
      "0       366.072837\n",
      "1      3814.099834\n",
      "2      1322.710377\n",
      "3     24229.362073\n",
      "4      3944.537566\n",
      "          ...     \n",
      "82     5889.434335\n",
      "83     6336.804124\n",
      "84    15045.812808\n",
      "85     2558.708792\n",
      "86     9139.080810\n",
      "Length: 87, dtype: float64\n"
     ]
    }
   ],
   "source": [
    "print(f(s,t))"
   ]
  },
  {
   "cell_type": "code",
   "execution_count": 159,
   "metadata": {},
   "outputs": [
    {
     "data": {
      "text/html": [
       "<div>\n",
       "<style scoped>\n",
       "    .dataframe tbody tr th:only-of-type {\n",
       "        vertical-align: middle;\n",
       "    }\n",
       "\n",
       "    .dataframe tbody tr th {\n",
       "        vertical-align: top;\n",
       "    }\n",
       "\n",
       "    .dataframe thead th {\n",
       "        text-align: right;\n",
       "    }\n",
       "</style>\n",
       "<table border=\"1\" class=\"dataframe\">\n",
       "  <thead>\n",
       "    <tr style=\"text-align: right;\">\n",
       "      <th></th>\n",
       "      <th>Ciudades</th>\n",
       "      <th>Poblaciones</th>\n",
       "      <th>Superficies</th>\n",
       "    </tr>\n",
       "  </thead>\n",
       "  <tbody>\n",
       "    <tr>\n",
       "      <th>0</th>\n",
       "      <td>Chongqing</td>\n",
       "      <td>30165500</td>\n",
       "      <td>82403.00</td>\n",
       "    </tr>\n",
       "    <tr>\n",
       "      <th>1</th>\n",
       "      <td>Shanghai</td>\n",
       "      <td>24183300</td>\n",
       "      <td>6340.50</td>\n",
       "    </tr>\n",
       "    <tr>\n",
       "      <th>2</th>\n",
       "      <td>Beijing</td>\n",
       "      <td>21707000</td>\n",
       "      <td>16411.00</td>\n",
       "    </tr>\n",
       "    <tr>\n",
       "      <th>3</th>\n",
       "      <td>Istanbul</td>\n",
       "      <td>15029231</td>\n",
       "      <td>620.29</td>\n",
       "    </tr>\n",
       "    <tr>\n",
       "      <th>4</th>\n",
       "      <td>Karachi</td>\n",
       "      <td>14910352</td>\n",
       "      <td>3780.00</td>\n",
       "    </tr>\n",
       "    <tr>\n",
       "      <th>...</th>\n",
       "      <td>...</td>\n",
       "      <td>...</td>\n",
       "      <td>...</td>\n",
       "    </tr>\n",
       "    <tr>\n",
       "      <th>82</th>\n",
       "      <td>AddisAbaba</td>\n",
       "      <td>3103673</td>\n",
       "      <td>526.99</td>\n",
       "    </tr>\n",
       "    <tr>\n",
       "      <th>83</th>\n",
       "      <td>Jaipur</td>\n",
       "      <td>3073350</td>\n",
       "      <td>485.00</td>\n",
       "    </tr>\n",
       "    <tr>\n",
       "      <th>84</th>\n",
       "      <td>BuenosAires</td>\n",
       "      <td>3054300</td>\n",
       "      <td>203.00</td>\n",
       "    </tr>\n",
       "    <tr>\n",
       "      <th>85</th>\n",
       "      <td>Wenzhou</td>\n",
       "      <td>3039439</td>\n",
       "      <td>1187.88</td>\n",
       "    </tr>\n",
       "    <tr>\n",
       "      <th>86</th>\n",
       "      <td>Incheon</td>\n",
       "      <td>3002645</td>\n",
       "      <td>328.55</td>\n",
       "    </tr>\n",
       "  </tbody>\n",
       "</table>\n",
       "<p>87 rows × 3 columns</p>\n",
       "</div>"
      ],
      "text/plain": [
       "       Ciudades  Poblaciones  Superficies\n",
       "0     Chongqing     30165500     82403.00\n",
       "1      Shanghai     24183300      6340.50\n",
       "2       Beijing     21707000     16411.00\n",
       "3      Istanbul     15029231       620.29\n",
       "4       Karachi     14910352      3780.00\n",
       "..          ...          ...          ...\n",
       "82   AddisAbaba      3103673       526.99\n",
       "83       Jaipur      3073350       485.00\n",
       "84  BuenosAires      3054300       203.00\n",
       "85      Wenzhou      3039439      1187.88\n",
       "86      Incheon      3002645       328.55\n",
       "\n",
       "[87 rows x 3 columns]"
      ]
     },
     "execution_count": 159,
     "metadata": {},
     "output_type": "execute_result"
    }
   ],
   "source": [
    "dfCiudades"
   ]
  },
  {
   "cell_type": "code",
   "execution_count": 8,
   "metadata": {},
   "outputs": [],
   "source": [
    "def pregunta_1(lista_valores):\n",
    "    n=int((len(lista_valores))**(1/2))\n",
    "    print(n)\n",
    "    if(0<n<=10):\n",
    "        suma=0\n",
    "        i=0\n",
    "        for j in range(n,len(lista_valores)+1,n):\n",
    "            sublista_i=lista_valores[i:j]\n",
    "            print(sublista_i)\n",
    "            for l in range(0,n):\n",
    "                suma+=sublista_i[l]*(l+1)\n",
    "            i=j\n",
    "    return suma"
   ]
  },
  {
   "cell_type": "code",
   "execution_count": 4,
   "metadata": {},
   "outputs": [],
   "source": [
    "x=[3,-4,5,1,0,3,2,2,7]"
   ]
  },
  {
   "cell_type": "code",
   "execution_count": 10,
   "metadata": {},
   "outputs": [
    {
     "name": "stdout",
     "output_type": "stream",
     "text": [
      "3\n",
      "[3, -4, 5]\n",
      "[1, 0, 3]\n",
      "[2, 2, 7]\n"
     ]
    },
    {
     "data": {
      "text/plain": [
       "47"
      ]
     },
     "execution_count": 10,
     "metadata": {},
     "output_type": "execute_result"
    }
   ],
   "source": [
    "pregunta_1(x)"
   ]
  },
  {
   "cell_type": "code",
   "execution_count": 19,
   "metadata": {},
   "outputs": [
    {
     "data": {
      "text/plain": [
       "[3, 6, 9]"
      ]
     },
     "execution_count": 19,
     "metadata": {},
     "output_type": "execute_result"
    }
   ],
   "source": [
    "list(range(3,len(x)+1,3))"
   ]
  },
  {
   "cell_type": "code",
   "execution_count": 16,
   "metadata": {},
   "outputs": [],
   "source": [
    "def pregunta_1(lista_valores):\n",
    "    n=int((len(lista_valores))**(1/2))\n",
    "    print(n)\n",
    "    if(0<n<=10):\n",
    "        suma=0\n",
    "        i=0\n",
    "        j=n\n",
    "        while i<=n:\n",
    "            sublista_i=lista_valores[i:j]\n",
    "            print(sublista_i)\n",
    "            for l in range(0,n):\n",
    "                suma+=sublista_i[l]*(l+1)\n",
    "            i=j\n",
    "            j=j+n\n",
    "    return suma"
   ]
  },
  {
   "cell_type": "code",
   "execution_count": 17,
   "metadata": {},
   "outputs": [
    {
     "name": "stdout",
     "output_type": "stream",
     "text": [
      "3\n",
      "[3, -4, 5]\n"
     ]
    },
    {
     "data": {
      "text/plain": [
       "10"
      ]
     },
     "execution_count": 17,
     "metadata": {},
     "output_type": "execute_result"
    }
   ],
   "source": [
    "pregunta_1(x)"
   ]
  },
  {
   "cell_type": "code",
   "execution_count": 9,
   "metadata": {},
   "outputs": [],
   "source": [
    "def divisores(n):\n",
    "    for i in range(1,n+1):\n",
    "        if(n%i == 0):\n",
    "            print(i)"
   ]
  },
  {
   "cell_type": "code",
   "execution_count": 10,
   "metadata": {},
   "outputs": [
    {
     "name": "stdout",
     "output_type": "stream",
     "text": [
      "1\n",
      "2\n",
      "3\n",
      "4\n",
      "6\n"
     ]
    }
   ],
   "source": [
    "divisores(12)"
   ]
  },
  {
   "cell_type": "code",
   "execution_count": 3,
   "metadata": {},
   "outputs": [],
   "source": [
    "def Ullman(n):\n",
    "    if(n>1):\n",
    "        print(n)\n",
    "        while (n>1):\n",
    "            if(n%2==0):\n",
    "                n=n//2\n",
    "            else:\n",
    "                n=3*n+1\n",
    "            print(n)\n",
    "                "
   ]
  },
  {
   "cell_type": "code",
   "execution_count": 4,
   "metadata": {},
   "outputs": [
    {
     "name": "stdout",
     "output_type": "stream",
     "text": [
      "26\n",
      "13\n",
      "40\n",
      "20\n",
      "10\n",
      "5\n",
      "16\n",
      "8\n",
      "4\n",
      "2\n",
      "1\n"
     ]
    }
   ],
   "source": [
    "Ullman(26)"
   ]
  },
  {
   "cell_type": "code",
   "execution_count": 34,
   "metadata": {},
   "outputs": [],
   "source": [
    "numeros=\"2 3 4 5\""
   ]
  },
  {
   "cell_type": "code",
   "execution_count": 35,
   "metadata": {},
   "outputs": [],
   "source": [
    "lista=numeros.split(\" \")"
   ]
  },
  {
   "cell_type": "code",
   "execution_count": 36,
   "metadata": {},
   "outputs": [],
   "source": [
    "listaNum=[int(i) for i in lista]"
   ]
  },
  {
   "cell_type": "code",
   "execution_count": 37,
   "metadata": {},
   "outputs": [
    {
     "data": {
      "text/plain": [
       "[2, 3, 4, 5]"
      ]
     },
     "execution_count": 37,
     "metadata": {},
     "output_type": "execute_result"
    }
   ],
   "source": [
    "listaNum"
   ]
  },
  {
   "cell_type": "code",
   "execution_count": 4,
   "metadata": {},
   "outputs": [],
   "source": [
    "def area(radio):\n",
    "    res=math.pi*radio**2\n",
    "    return res"
   ]
  },
  {
   "cell_type": "code",
   "execution_count": 6,
   "metadata": {},
   "outputs": [
    {
     "name": "stdout",
     "output_type": "stream",
     "text": [
      "Dame el radio 309\n",
      "El radio del circulo es  299962.408157407\n"
     ]
    }
   ],
   "source": [
    "radio=int(input(\"Dame el radio \"))\n",
    "print(\"El radio del circulo es \",area(radio))"
   ]
  },
  {
   "cell_type": "code",
   "execution_count": 1,
   "metadata": {},
   "outputs": [
    {
     "name": "stdout",
     "output_type": "stream",
     "text": [
      "{'ACTPI': 14, '1SSEMYM': 6, 'AA1CK': 9, 'ACCELSA': 20, 'BLKPEPI': 6, 'ACTINVR': 8, 'BMRPREV': 11, 'AA2CPI': 7, 'AC': 9, 'ACONCK': 9, 'ACOP000': 3, 'ADMEXCK': 2, 'AEROMEX': 1, 'AGCCK': 2, 'AINDACK': 1, 'ALEATIC': 1, 'ALFA': 8, 'INFRACK': 1}\n"
     ]
    }
   ],
   "source": [
    "arch56=open(\"Compras.Txt\",\"r\", encoding=\"latin\")\n",
    "compras=arch56.readlines()\n",
    "arch56.close\n",
    "lista=[i.split(\" \") for i in compras]\n",
    "lista2=[]\n",
    "for i in range(0, len(lista)):\n",
    "    lista2.append([lista[i][0],int(lista[i][1])])\n",
    "lista3=[]\n",
    "for i in lista2:\n",
    "    totVent=0\n",
    "    for j in lista2:\n",
    "        if i[0]==j[0]:\n",
    "            totVent+=j[1]\n",
    "    lista3.append((i[0],totVent)) \n",
    "diccionario=dict(lista3)\n",
    "print(diccionario)"
   ]
  },
  {
   "cell_type": "code",
   "execution_count": 2,
   "metadata": {},
   "outputs": [
    {
     "name": "stdout",
     "output_type": "stream",
     "text": [
      "[['ACTPI', '3', 'CIBANCO,S.A.', 'INSTITUCION', 'DE', 'BANCA', 'MULTIPLE\\n'], ['1SSEMYM', '1', 'MULTIFONDO', 'DE', 'PREVISION', '3', 'BANORTE', 'GENERALI', 'SIEFORE,', 'S.A.', 'DE', 'C.V.\\n'], ['AA1CK', '2', 'BANCO', 'INVEX,', 'S.A.,', 'INSTITUCION', 'DE', 'BANCA', 'MULTIPLE,', 'INVEX', 'GRUPO', 'FINANCIERO\\n'], ['ACCELSA', '7', 'ACCEL,', 'S.A.B.', 'DE', 'C.V.\\n'], ['BLKPEPI', '1', 'CIBANCO,S.A.', 'INSTITUCION', 'DE', 'BANCA', 'MULTIPLE\\n'], ['ACCELSA', '2', 'ACCEL,', 'S.A.B.', 'DE', 'C.V.\\n'], ['AA1CK', '3', 'BANCO', 'INVEX,', 'S.A.,', 'INSTITUCION', 'DE', 'BANCA', 'MULTIPLE,', 'INVEX', 'GRUPO', 'FINANCIERO\\n'], ['ACTINVR', '1', 'CORPORACION', 'ACTINVER,', 'S.A.B.', 'DE', 'C.V.\\n'], ['ACTPI', '3', 'CIBANCO,S.A.', 'INSTITUCION', 'DE', 'BANCA', 'MULTIPLE\\n'], ['BMRPREV', '4', 'BANCOMER', 'PREVISIONAL', 'SIEFORE,', 'S.A.', 'DE', 'C.V.\\n'], ['AA2CPI', '2', 'BANCO', 'INVEX,', 'S.A.,', 'INSTITUCION', 'DE', 'BANCA', 'MULTIPLE,', 'INVEX', 'GRUPO', 'FINANCIERO\\n'], ['AC', '3', 'ARCA', 'CONTINENTAL,', 'S.A.B.', 'DE', 'C.V.\\n'], ['ACCELSA', '4', 'ACCEL,', 'S.A.B.', 'DE', 'C.V.\\n'], ['BLKPEPI', '1', 'CIBANCO,S.A.', 'INSTITUCION', 'DE', 'BANCA', 'MULTIPLE\\n'], ['BMRPREV', '1', 'BANCOMER', 'PREVISIONAL', 'SIEFORE,', 'S.A.', 'DE', 'C.V.\\n'], ['ACONCK', '2', 'BANCO', 'NACIONAL', 'DE', 'MEXICO,', 'S.A.,', 'INTEGRANTE', 'DEL', 'GRUPO', 'FINANCIERO', 'BANAMEX\\n'], ['ACOP000', '2', 'SIEFORE', 'COPPEL', 'BASICA', '0,', 'S.A.', 'DE', 'C.V.\\n'], ['1SSEMYM', '4', 'MULTIFONDO', 'DE', 'PREVISION', '3', 'BANORTE', 'GENERALI', 'SIEFORE,', 'S.A.', 'DE', 'C.V.\\n'], ['AA1CK', '2', 'BANCO', 'INVEX,', 'S.A.,', 'INSTITUCION', 'DE', 'BANCA', 'MULTIPLE,', 'INVEX', 'GRUPO', 'FINANCIERO\\n'], ['BLKPEPI', '3', 'CIBANCO,S.A.', 'INSTITUCION', 'DE', 'BANCA', 'MULTIPLE\\n'], ['BMRPREV', '4', 'BANCOMER', 'PREVISIONAL', 'SIEFORE,', 'S.A.', 'DE', 'C.V.\\n'], ['AA2CPI', '5', 'BANCO', 'INVEX,', 'S.A.,', 'INSTITUCION', 'DE', 'BANCA', 'MULTIPLE,', 'INVEX', 'GRUPO', 'FINANCIERO\\n'], ['AC', '6', 'ARCA', 'CONTINENTAL,', 'S.A.B.', 'DE', 'C.V.\\n'], ['ACONCK', '7', 'BANCO', 'NACIONAL', 'DE', 'MEXICO,', 'S.A.,', 'INTEGRANTE', 'DEL', 'GRUPO', 'FINANCIERO', 'BANAMEX\\n'], ['ACOP000', '1', 'SIEFORE', 'COPPEL', 'BASICA', '0,', 'S.A.', 'DE', 'C.V.\\n'], ['1SSEMYM', '1', '', 'MULTIFONDO', 'DE', 'PREVISION', '3', 'BANORTE', 'GENERALI', 'SIEFORE,', 'S.A.', 'DE', 'C.V.\\n'], ['AA1CK', '2', 'BANCO', 'INVEX,', 'S.A.,', 'INSTITUCION', 'DE', 'BANCA', 'MULTIPLE,', 'INVEX', 'GRUPO', 'FINANCIERO\\n'], ['ACCELSA', '3', 'ACCEL,', 'S.A.B.', 'DE', 'C.V.\\n'], ['ACTINVR', '4', 'CORPORACION', 'ACTINVER,', 'S.A.B.', 'DE', 'C.V.\\n'], ['ACTPI', '5', 'CIBANCO,S.A.', 'INSTITUCION', 'DE', 'BANCA', 'MULTIPLE\\n'], ['ACCELSA', '1', 'ACCEL,', 'S.A.B.', 'DE', 'C.V.\\n'], ['ACTINVR', '2', 'CORPORACION', 'ACTINVER,', 'S.A.B.', 'DE', 'C.V.\\n'], ['ACTPI', '1', 'CIBANCO,S.A.', 'INSTITUCION', 'DE', 'BANCA', 'MULTIPLE\\n'], ['ADMEXCK', '1', 'BANCO', 'INVEX,', 'S.A.,', 'INSTITUCION', 'DE', 'BANCA', 'MULTIPLE,', 'INVEX', 'GRUPO', 'FINANCIERO\\n'], ['AEROMEX', '1', 'GRUPO', 'AEROMEXICO,', 'S.A.B.', 'DE', 'C.V.\\n'], ['AGCCK', '2', 'HSBC', 'MEXICO,', 'S.A.,', 'INSTITUCION', 'DE', 'BANCA', 'MULTIPLE,', 'GRUPO', 'FINANCIERO', 'HSBC\\n'], ['ACCELSA', '3', 'ACCEL,', 'S.A.B.', 'DE', 'C.V.\\n'], ['ACTINVR', '1', 'CORPORACION', 'ACTINVER,', 'S.A.B.', 'DE', 'C.V.\\n'], ['ACTPI', '2', 'CIBANCO,S.A.', 'INSTITUCION', 'DE', 'BANCA', 'MULTIPLE\\n'], ['ADMEXCK', '1', 'BANCO', 'INVEX,', 'S.A.,', 'INSTITUCION', 'DE', 'BANCA', 'MULTIPLE,', 'INVEX', 'GRUPO', 'FINANCIERO\\n'], ['AINDACK', '1', 'BANCO', 'INVEX,', 'S.A.,', 'INSTITUCION', 'DE', 'BANCA', 'MULTIPLE,', 'INVEX', 'GRUPO', 'FINANCIERO\\n'], ['ALEATIC', '1', 'ALEATICA,', 'S.A.B.', 'DE', 'C.V.\\n'], ['ALFA', '8', 'ALFA,', 'S.A.B.', 'DE', 'C.V.\\n'], ['BLKPEPI', '1', 'CIBANCO,S.A.', 'INSTITUCION', 'DE', 'BANCA', 'MULTIPLE\\n'], ['BMRPREV', '2', 'BANCOMER', 'PREVISIONAL', 'SIEFORE,', 'S.A.', 'DE', 'C.V.\\n'], ['INFRACK', '1', 'BANCO', 'INVEX,', 'S.A.,', 'INSTITUCION', 'DE', 'BANCA', 'MULTIPLE,', 'INVEX', 'GRUPO', 'FINANCIERO']]\n"
     ]
    }
   ],
   "source": [
    "print(lista)"
   ]
  },
  {
   "cell_type": "code",
   "execution_count": 3,
   "metadata": {},
   "outputs": [
    {
     "name": "stdout",
     "output_type": "stream",
     "text": [
      "[['ACTPI', 3], ['1SSEMYM', 1], ['AA1CK', 2], ['ACCELSA', 7], ['BLKPEPI', 1], ['ACCELSA', 2], ['AA1CK', 3], ['ACTINVR', 1], ['ACTPI', 3], ['BMRPREV', 4], ['AA2CPI', 2], ['AC', 3], ['ACCELSA', 4], ['BLKPEPI', 1], ['BMRPREV', 1], ['ACONCK', 2], ['ACOP000', 2], ['1SSEMYM', 4], ['AA1CK', 2], ['BLKPEPI', 3], ['BMRPREV', 4], ['AA2CPI', 5], ['AC', 6], ['ACONCK', 7], ['ACOP000', 1], ['1SSEMYM', 1], ['AA1CK', 2], ['ACCELSA', 3], ['ACTINVR', 4], ['ACTPI', 5], ['ACCELSA', 1], ['ACTINVR', 2], ['ACTPI', 1], ['ADMEXCK', 1], ['AEROMEX', 1], ['AGCCK', 2], ['ACCELSA', 3], ['ACTINVR', 1], ['ACTPI', 2], ['ADMEXCK', 1], ['AINDACK', 1], ['ALEATIC', 1], ['ALFA', 8], ['BLKPEPI', 1], ['BMRPREV', 2], ['INFRACK', 1]]\n"
     ]
    }
   ],
   "source": [
    "print(lista2)"
   ]
  },
  {
   "cell_type": "code",
   "execution_count": 52,
   "metadata": {},
   "outputs": [],
   "source": [
    "    "
   ]
  },
  {
   "cell_type": "code",
   "execution_count": 53,
   "metadata": {},
   "outputs": [],
   "source": []
  },
  {
   "cell_type": "code",
   "execution_count": 54,
   "metadata": {},
   "outputs": [
    {
     "name": "stdout",
     "output_type": "stream",
     "text": [
      "{'ACTPI': 14, '1SSEMYM': 6, 'AA1CK': 9, 'ACCELSA': 20, 'BLKPEPI': 6, 'ACTINVR': 8, 'BMRPREV': 11, 'AA2CPI': 7, 'AC': 9, 'ACONCK': 9, 'ACOP000': 3, 'ADMEXCK': 2, 'AEROMEX': 1, 'AGCCK': 2, 'AINDACK': 1, 'ALEATIC': 1, 'ALFA': 8, 'INFRACK': 1}\n"
     ]
    }
   ],
   "source": []
  },
  {
   "cell_type": "code",
   "execution_count": null,
   "metadata": {},
   "outputs": [],
   "source": []
  }
 ],
 "metadata": {
  "kernelspec": {
   "display_name": "Python 3",
   "language": "python",
   "name": "python3"
  },
  "language_info": {
   "codemirror_mode": {
    "name": "ipython",
    "version": 3
   },
   "file_extension": ".py",
   "mimetype": "text/x-python",
   "name": "python",
   "nbconvert_exporter": "python",
   "pygments_lexer": "ipython3",
   "version": "3.8.5"
  }
 },
 "nbformat": 4,
 "nbformat_minor": 4
}
