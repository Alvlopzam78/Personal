{
 "cells": [
  {
   "cell_type": "code",
   "execution_count": 1,
   "metadata": {},
   "outputs": [
    {
     "name": "stdout",
     "output_type": "stream",
     "text": [
      "Using matplotlib backend: MacOSX\n",
      "Populating the interactive namespace from numpy and matplotlib\n"
     ]
    }
   ],
   "source": [
    "import numpy as np\n",
    "import scipy as sp\n",
    "from numpy import math\n",
    "%pylab"
   ]
  },
  {
   "cell_type": "code",
   "execution_count": 2,
   "metadata": {},
   "outputs": [
    {
     "data": {
      "text/plain": [
       "'/Users/Alvlopzam/Desktop/ITAM/Semestre 2/HCA/ALZ'"
      ]
     },
     "execution_count": 2,
     "metadata": {},
     "output_type": "execute_result"
    }
   ],
   "source": [
    "pwd"
   ]
  },
  {
   "cell_type": "code",
   "execution_count": 3,
   "metadata": {},
   "outputs": [
    {
     "name": "stdout",
     "output_type": "stream",
     "text": [
      "23-03-2021 (DataFrame).ipynb\r\n",
      "Cuaderno 02-02-2021.ipynb\r\n",
      "Cuaderno 04-03-2021 (lectura de archivos).ipynb\r\n",
      "Cuaderno 09-02-2021.ipynb\r\n",
      "Cuaderno 09-04-2021.ipynb\r\n",
      "Cuaderno 11-02-2021.ipynb\r\n",
      "Cuaderno 14-01.ipynb\r\n",
      "Cuaderno 16-02-2021.ipynb\r\n",
      "Cuaderno 16-03-2021 (gráficas).ipynb\r\n",
      "Cuaderno 18-02-2021.ipynb\r\n",
      "Cuaderno 18-03-2021 (Arreglos).ipynb\r\n",
      "Cuaderno 19-01-21.ipynb\r\n",
      "Cuaderno 21-01-21.ipynb\r\n",
      "Cuaderno 25-03-2021 (DataFrame - Excel).ipynb\r\n",
      "Cuaderno 26-01-21.ipynb\r\n",
      "Cuaderno 28-01-2021.ipynb\r\n",
      "Cuaderno 4-02-2021.ipynb\r\n",
      "DatosEmpleo2021.xlsx\r\n",
      "Edades.txt\r\n",
      "EjemploExcel.xlsx\r\n",
      "Ejercicio 16.ipynb\r\n",
      "Ejercicio 21.ipynb\r\n",
      "Ejercicio 52.ipynb\r\n",
      "Ejercicios y Problemas (4).ipynb\r\n",
      "\u001b[34mExámenes\u001b[m\u001b[m/\r\n",
      "\u001b[34mExcel\u001b[m\u001b[m/\r\n",
      "Problema Diccionarios.ipynb\r\n",
      "Prueba.ipynb\r\n",
      "Sistema de Ecuaciones 2.ipynb\r\n",
      "SorJuana.txt\r\n",
      "Tarea 2 manejo de texto (str).ipynb\r\n",
      "Tarea 3 Listas.ipynb\r\n",
      "Tarea 6 Ejercicio 66.ipynb\r\n",
      "Tarea_1_LópezZamora.ipynb\r\n",
      "ciudades.csv\r\n",
      "cuaderno 9-03-2021 (repaso).ipynb\r\n",
      "datos.txt\r\n",
      "datosEmpleo.csv\r\n",
      "inflac.txt\r\n",
      "listado.txt\r\n",
      "nombres.txt\r\n",
      "sueldos.txt\r\n",
      "tipoUSD.txt\r\n"
     ]
    }
   ],
   "source": [
    "ls"
   ]
  },
  {
   "cell_type": "code",
   "execution_count": 4,
   "metadata": {},
   "outputs": [
    {
     "name": "stdout",
     "output_type": "stream",
     "text": [
      "<_io.TextIOWrapper name='nombres.txt' mode='r' encoding='latin'>\n",
      "el contenido del texto es:  Olontetl,Ollin,Azcatl,Acatl,Chimalma,Tecpatl,Necucyaotl,Tonatiuh,Tepochtli,Ixualxochiotl,Quetzalxilotl,Xiuhcóatl,Omecatl,Huitzilihuitl,Mazatzin,Yaotl,Ixtlixóchitl,Tlexochitl,Mixtle,Tlanextli,Cuicacani,Tlecuauhtli,Tepiltzin,Topiltzin,Tlacaelel,Ohtonqui,Tlazohtzin,Cihuateopixqui,Xocoyotzin,Nicté,Cuauhtli,Xalaquia,Opochtli,Nelli,Quetzalzin,Aztlan,Nezahualcóyotl,Tzilmiztli,Iztli,Noxochicoztli,Yohualticitl,Atototzin,Cuauhcihuatl,Cuauhtémoc,Anáhuac,Xochiyotl,Xihuitl,Ehécatl,Cihuacoatl,Citlalinicue,Chalchiuhtlicue,Zipactonal,Hiuhtonal,Tezcatlipoca,Ueman,Alotl,Ilhuitemoc,Quecholli,Tlayolohtli,Zyanya,Nahui,Imacatlezohtzin,Huitzillin,Cozcaapa,Yolyamanitzin,Teotl,Papalotl,Atlanxochitl,Yaocihuatl,Tonahuac,Cihuaxochitl,Tlahcuilo,Ameyal,Iztapapalotl,Tlazohtlaloni,Ilhuicamina,Matlalcóatl,Cihuatl,Malinaltzin,Coatlicue,Ixcatzin,Chicomecoatl,Xochiquiahuitl,Quetzalli,Tochtli,Ayauhtli,Tonalna,Ahuizotl,Xilonen,Pelaxilla,Xochicotzin,Xochiltlanezi\n"
     ]
    }
   ],
   "source": [
    "arch=open(\"nombres.txt\",\"r\",encoding=\"latin\")\n",
    "print(arch)\n",
    "texto=arch.read() #guerda el archivo que leyó en una variable\n",
    "arch.close()\n",
    "print(\"el contenido del texto es: \", texto)"
   ]
  },
  {
   "cell_type": "code",
   "execution_count": 5,
   "metadata": {},
   "outputs": [],
   "source": [
    "listaNoms=texto.split(\",\")"
   ]
  },
  {
   "cell_type": "code",
   "execution_count": 6,
   "metadata": {},
   "outputs": [
    {
     "name": "stdout",
     "output_type": "stream",
     "text": [
      "['Olontetl', 'Ollin', 'Azcatl', 'Acatl', 'Chimalma', 'Tecpatl', 'Necucyaotl', 'Tonatiuh', 'Tepochtli', 'Ixualxochiotl', 'Quetzalxilotl', 'Xiuhcóatl', 'Omecatl', 'Huitzilihuitl', 'Mazatzin', 'Yaotl', 'Ixtlixóchitl', 'Tlexochitl', 'Mixtle', 'Tlanextli', 'Cuicacani', 'Tlecuauhtli', 'Tepiltzin', 'Topiltzin', 'Tlacaelel', 'Ohtonqui', 'Tlazohtzin', 'Cihuateopixqui', 'Xocoyotzin', 'Nicté', 'Cuauhtli', 'Xalaquia', 'Opochtli', 'Nelli', 'Quetzalzin', 'Aztlan', 'Nezahualcóyotl', 'Tzilmiztli', 'Iztli', 'Noxochicoztli', 'Yohualticitl', 'Atototzin', 'Cuauhcihuatl', 'Cuauhtémoc', 'Anáhuac', 'Xochiyotl', 'Xihuitl', 'Ehécatl', 'Cihuacoatl', 'Citlalinicue', 'Chalchiuhtlicue', 'Zipactonal', 'Hiuhtonal', 'Tezcatlipoca', 'Ueman', 'Alotl', 'Ilhuitemoc', 'Quecholli', 'Tlayolohtli', 'Zyanya', 'Nahui', 'Imacatlezohtzin', 'Huitzillin', 'Cozcaapa', 'Yolyamanitzin', 'Teotl', 'Papalotl', 'Atlanxochitl', 'Yaocihuatl', 'Tonahuac', 'Cihuaxochitl', 'Tlahcuilo', 'Ameyal', 'Iztapapalotl', 'Tlazohtlaloni', 'Ilhuicamina', 'Matlalcóatl', 'Cihuatl', 'Malinaltzin', 'Coatlicue', 'Ixcatzin', 'Chicomecoatl', 'Xochiquiahuitl', 'Quetzalli', 'Tochtli', 'Ayauhtli', 'Tonalna', 'Ahuizotl', 'Xilonen', 'Pelaxilla', 'Xochicotzin', 'Xochiltlanezi']\n"
     ]
    }
   ],
   "source": [
    "print(listaNoms)"
   ]
  },
  {
   "cell_type": "code",
   "execution_count": 7,
   "metadata": {},
   "outputs": [
    {
     "name": "stdout",
     "output_type": "stream",
     "text": [
      "<_io.TextIOWrapper name='tipoUSD.txt' mode='r' encoding='UTF-8'>\n",
      "17.2487,17.3529,17.3456,17.4411,17.6568,17.9283,17.9304,17.9119,17.85,17.9121,18.2108,18.2327,18.1947,18.608,18.5084,18.428,18.5352,18.4715,18.453,18.2906,18.1935,18.4902,18.4537,18.1891,18.3748,18.6959,18.7818,18.8089,19.1754,19.0392,18.8471,18.8148,18.3895,18.1439,18.2762,18.0568,18.1948,18.2893,18.168,18.1706,18.102,17.9432,17.8561,17.8971,17.7723,17.7526,17.9044,17.7523,17.8601,17.7002,17.7691,17.926,17.9308,17.4034,17.2995,17.3361,17.5273,17.461,17.4015,17.2509,17.237,17.3338,17.4484,17.7252,17.7286,17.893,17.7391,17.6452,17.5719,17.49,17.388,17.5669,17.4598,17.2825,17.3078,17.4202,17.4359,17.5866,17.4298,17.3993,17.2125,17.1767,17.2279,17.5234,17.7358,17.7866,17.9204,18.1033,18.0205,17.9549,17.9915,18.1562,18.1795,18.3217,18.3761,18.5465,18.3826,18.4444,18.4694,18.452,18.4572,18.4527,18.4777,18.4118,18.5299,18.6097,18.6283,18.5889,18.5067,18.1491,18.2742,18.5046,18.7915,18.9814,18.8672,18.9968,18.8527,18.6559,18.6444,18.5325,18.3207,18.8716,19.1283,18.9113,18.555,18.4646,18.309,18.3858,18.7536,18.8161,18.8607,18.5991,18.4597,18.3006,18.3937,18.3061,18.492,18.4879,18.5719,18.5729,18.6022,18.6089,18.7569,18.8114,18.8602,18.8979,18.7837,18.8504,18.8966,18.9117,18.8612,18.8691,18.5716,18.3842,18.3479,18.2678,18.2455,18.0363,17.9869,18.2598,18.0832,18.2674,18.3023,18.3202,18.4971,18.446,18.283,18.5773,18.7953,18.8611,18.8523,18.6589,18.5581,18.3524,18.3689,18.5427,18.8451,19.0646,19.152,19.2275,19.2514,19.6097,19.777,19.8394,19.5965,19.7211,19.8322,19.5044,19.5002,19.4086,19.3776,19.3211,19.2138,19.2554,19.2433,19.2994,18.8786,18.9531,18.9622,19.0399,19.0046,18.8723,18.6726,18.5894,18.5945,18.6481,18.5658,18.5147,18.6485,18.8443,18.7304,18.8887,19.1306,19.2014,19.0792,18.6192,18.5089,19.925,20.4812,21.0511,20.8729,20.349,20.2884,20.1898,20.4193,20.5205,20.6901,20.7051,20.6475,20.5521,20.6225,20.5155,20.7488,20.6149,20.5927,20.3863,20.2967,20.4162,20.3305,20.2567,20.2226,20.5973,20.428,20.4098,20.43,20.4921,20.7179,20.6271,20.6445,20.7052,20.7314,20.664,20.6194,20.7323,20.852,21.3799,21.3661,21.3144,21.3219,21.6168,21.9076,21.7204\n"
     ]
    }
   ],
   "source": [
    "arch2=open(\"tipoUSD.txt\",\"r\") #abre el archivo\n",
    "print(arch2) #verifico que no haya error en la lectura\n",
    "numeros=arch2.read() #leo la información del archivo y la guardo en una variable string\n",
    "arch2.close #cerramos el archivo para no tener problemas futuros\n",
    "print(numeros) #pido que imprima todos los valores de TEXTO leidos"
   ]
  },
  {
   "cell_type": "code",
   "execution_count": 8,
   "metadata": {},
   "outputs": [
    {
     "name": "stdout",
     "output_type": "stream",
     "text": [
      "['17.2487', '17.3529', '17.3456', '17.4411', '17.6568', '17.9283', '17.9304', '17.9119', '17.85', '17.9121', '18.2108', '18.2327', '18.1947', '18.608', '18.5084', '18.428', '18.5352', '18.4715', '18.453', '18.2906', '18.1935', '18.4902', '18.4537', '18.1891', '18.3748', '18.6959', '18.7818', '18.8089', '19.1754', '19.0392', '18.8471', '18.8148', '18.3895', '18.1439', '18.2762', '18.0568', '18.1948', '18.2893', '18.168', '18.1706', '18.102', '17.9432', '17.8561', '17.8971', '17.7723', '17.7526', '17.9044', '17.7523', '17.8601', '17.7002', '17.7691', '17.926', '17.9308', '17.4034', '17.2995', '17.3361', '17.5273', '17.461', '17.4015', '17.2509', '17.237', '17.3338', '17.4484', '17.7252', '17.7286', '17.893', '17.7391', '17.6452', '17.5719', '17.49', '17.388', '17.5669', '17.4598', '17.2825', '17.3078', '17.4202', '17.4359', '17.5866', '17.4298', '17.3993', '17.2125', '17.1767', '17.2279', '17.5234', '17.7358', '17.7866', '17.9204', '18.1033', '18.0205', '17.9549', '17.9915', '18.1562', '18.1795', '18.3217', '18.3761', '18.5465', '18.3826', '18.4444', '18.4694', '18.452', '18.4572', '18.4527', '18.4777', '18.4118', '18.5299', '18.6097', '18.6283', '18.5889', '18.5067', '18.1491', '18.2742', '18.5046', '18.7915', '18.9814', '18.8672', '18.9968', '18.8527', '18.6559', '18.6444', '18.5325', '18.3207', '18.8716', '19.1283', '18.9113', '18.555', '18.4646', '18.309', '18.3858', '18.7536', '18.8161', '18.8607', '18.5991', '18.4597', '18.3006', '18.3937', '18.3061', '18.492', '18.4879', '18.5719', '18.5729', '18.6022', '18.6089', '18.7569', '18.8114', '18.8602', '18.8979', '18.7837', '18.8504', '18.8966', '18.9117', '18.8612', '18.8691', '18.5716', '18.3842', '18.3479', '18.2678', '18.2455', '18.0363', '17.9869', '18.2598', '18.0832', '18.2674', '18.3023', '18.3202', '18.4971', '18.446', '18.283', '18.5773', '18.7953', '18.8611', '18.8523', '18.6589', '18.5581', '18.3524', '18.3689', '18.5427', '18.8451', '19.0646', '19.152', '19.2275', '19.2514', '19.6097', '19.777', '19.8394', '19.5965', '19.7211', '19.8322', '19.5044', '19.5002', '19.4086', '19.3776', '19.3211', '19.2138', '19.2554', '19.2433', '19.2994', '18.8786', '18.9531', '18.9622', '19.0399', '19.0046', '18.8723', '18.6726', '18.5894', '18.5945', '18.6481', '18.5658', '18.5147', '18.6485', '18.8443', '18.7304', '18.8887', '19.1306', '19.2014', '19.0792', '18.6192', '18.5089', '19.925', '20.4812', '21.0511', '20.8729', '20.349', '20.2884', '20.1898', '20.4193', '20.5205', '20.6901', '20.7051', '20.6475', '20.5521', '20.6225', '20.5155', '20.7488', '20.6149', '20.5927', '20.3863', '20.2967', '20.4162', '20.3305', '20.2567', '20.2226', '20.5973', '20.428', '20.4098', '20.43', '20.4921', '20.7179', '20.6271', '20.6445', '20.7052', '20.7314', '20.664', '20.6194', '20.7323', '20.852', '21.3799', '21.3661', '21.3144', '21.3219', '21.6168', '21.9076', '21.7204']\n",
      "[17.2487, 17.3529, 17.3456, 17.4411, 17.6568, 17.9283, 17.9304, 17.9119, 17.85, 17.9121, 18.2108, 18.2327, 18.1947, 18.608, 18.5084, 18.428, 18.5352, 18.4715, 18.453, 18.2906, 18.1935, 18.4902, 18.4537, 18.1891, 18.3748, 18.6959, 18.7818, 18.8089, 19.1754, 19.0392, 18.8471, 18.8148, 18.3895, 18.1439, 18.2762, 18.0568, 18.1948, 18.2893, 18.168, 18.1706, 18.102, 17.9432, 17.8561, 17.8971, 17.7723, 17.7526, 17.9044, 17.7523, 17.8601, 17.7002, 17.7691, 17.926, 17.9308, 17.4034, 17.2995, 17.3361, 17.5273, 17.461, 17.4015, 17.2509, 17.237, 17.3338, 17.4484, 17.7252, 17.7286, 17.893, 17.7391, 17.6452, 17.5719, 17.49, 17.388, 17.5669, 17.4598, 17.2825, 17.3078, 17.4202, 17.4359, 17.5866, 17.4298, 17.3993, 17.2125, 17.1767, 17.2279, 17.5234, 17.7358, 17.7866, 17.9204, 18.1033, 18.0205, 17.9549, 17.9915, 18.1562, 18.1795, 18.3217, 18.3761, 18.5465, 18.3826, 18.4444, 18.4694, 18.452, 18.4572, 18.4527, 18.4777, 18.4118, 18.5299, 18.6097, 18.6283, 18.5889, 18.5067, 18.1491, 18.2742, 18.5046, 18.7915, 18.9814, 18.8672, 18.9968, 18.8527, 18.6559, 18.6444, 18.5325, 18.3207, 18.8716, 19.1283, 18.9113, 18.555, 18.4646, 18.309, 18.3858, 18.7536, 18.8161, 18.8607, 18.5991, 18.4597, 18.3006, 18.3937, 18.3061, 18.492, 18.4879, 18.5719, 18.5729, 18.6022, 18.6089, 18.7569, 18.8114, 18.8602, 18.8979, 18.7837, 18.8504, 18.8966, 18.9117, 18.8612, 18.8691, 18.5716, 18.3842, 18.3479, 18.2678, 18.2455, 18.0363, 17.9869, 18.2598, 18.0832, 18.2674, 18.3023, 18.3202, 18.4971, 18.446, 18.283, 18.5773, 18.7953, 18.8611, 18.8523, 18.6589, 18.5581, 18.3524, 18.3689, 18.5427, 18.8451, 19.0646, 19.152, 19.2275, 19.2514, 19.6097, 19.777, 19.8394, 19.5965, 19.7211, 19.8322, 19.5044, 19.5002, 19.4086, 19.3776, 19.3211, 19.2138, 19.2554, 19.2433, 19.2994, 18.8786, 18.9531, 18.9622, 19.0399, 19.0046, 18.8723, 18.6726, 18.5894, 18.5945, 18.6481, 18.5658, 18.5147, 18.6485, 18.8443, 18.7304, 18.8887, 19.1306, 19.2014, 19.0792, 18.6192, 18.5089, 19.925, 20.4812, 21.0511, 20.8729, 20.349, 20.2884, 20.1898, 20.4193, 20.5205, 20.6901, 20.7051, 20.6475, 20.5521, 20.6225, 20.5155, 20.7488, 20.6149, 20.5927, 20.3863, 20.2967, 20.4162, 20.3305, 20.2567, 20.2226, 20.5973, 20.428, 20.4098, 20.43, 20.4921, 20.7179, 20.6271, 20.6445, 20.7052, 20.7314, 20.664, 20.6194, 20.7323, 20.852, 21.3799, 21.3661, 21.3144, 21.3219, 21.6168, 21.9076, 21.7204]\n"
     ]
    }
   ],
   "source": [
    "listaNum=numeros.split(\",\") #separo cada dato donde encuentre una coma\n",
    "print(listaNum) #muestra la nueva lista de los textos\n",
    "tipoUSD=[float(val) for val in listaNum] #convertir cada dato string en numero decimal\n",
    "print(tipoUSD) #muestra la lista de valores decimales separados por coma"
   ]
  },
  {
   "cell_type": "code",
   "execution_count": 12,
   "metadata": {},
   "outputs": [
    {
     "name": "stdout",
     "output_type": "stream",
     "text": [
      "<_io.TextIOWrapper name='Edades.txt' mode='r' encoding='latin'>\n"
     ]
    },
    {
     "data": {
      "text/plain": [
       "'18\\n24\\n35\\n12\\n43\\n56\\n4\\n13\\n12\\n26\\n50\\n80\\n12\\n7'"
      ]
     },
     "execution_count": 12,
     "metadata": {},
     "output_type": "execute_result"
    }
   ],
   "source": [
    "arch3=open(\"Edades.txt\", \"r\", encoding=\"latin\")\n",
    "print(arch3)\n",
    "Edades=arch3.read()\n",
    "arch3.close\n",
    "edades"
   ]
  },
  {
   "cell_type": "code",
   "execution_count": 13,
   "metadata": {},
   "outputs": [
    {
     "name": "stdout",
     "output_type": "stream",
     "text": [
      "['18', '24', '35', '12', '43', '56', '4', '13', '12', '26', '50', '80', '12', '7']\n"
     ]
    }
   ],
   "source": [
    "edadesTexto=Edades.split(\"\\n\")\n",
    "print(edadesTexto)"
   ]
  },
  {
   "cell_type": "code",
   "execution_count": 14,
   "metadata": {},
   "outputs": [
    {
     "name": "stdout",
     "output_type": "stream",
     "text": [
      "[18, 24, 35, 12, 43, 56, 4, 13, 12, 26, 50, 80, 12, 7]\n"
     ]
    }
   ],
   "source": [
    "edadesNumero=[int(x) for x in edadesTexto]\n",
    "print(edadesNumero)"
   ]
  },
  {
   "cell_type": "code",
   "execution_count": 15,
   "metadata": {},
   "outputs": [],
   "source": [
    "#Escritura y creación de archivos\n",
    "arch4=open(\"listado.txt\", \"w\") #abrir un archivo en modo escritura\n",
    "arch4.write(\"Las edades de los encuestados son: \\n\")\n",
    "for i in edadesNumero:\n",
    "    arch4.write(str(i)+\"-\") #dato + el caracter que va entre cada dato \",\" o \"\\n\" o ,\"-\"\n",
    "arch4.close()"
   ]
  },
  {
   "cell_type": "code",
   "execution_count": 16,
   "metadata": {},
   "outputs": [],
   "source": [
    "#Crear una función que clasifique de acuerdo a la edad si es mayor de edad o no\n",
    "def clasificacionEdades(edad):\n",
    "    if edad<18:\n",
    "        res=\"es menor de edad\"\n",
    "    else:\n",
    "        res=\"es mayor de edad\"\n",
    "    return res"
   ]
  },
  {
   "cell_type": "code",
   "execution_count": 17,
   "metadata": {},
   "outputs": [
    {
     "data": {
      "text/plain": [
       "'es mayor de edad'"
      ]
     },
     "execution_count": 17,
     "metadata": {},
     "output_type": "execute_result"
    }
   ],
   "source": [
    "clasificacionEdades(38)"
   ]
  },
  {
   "cell_type": "code",
   "execution_count": 22,
   "metadata": {},
   "outputs": [],
   "source": [
    "arch4=open(\"listado.txt\", \"w\") \n",
    "arch4.write(\"Las edades de los encuestados son: \\n\")\n",
    "cuantos=0\n",
    "for i in edadesNumero: #aplicar la función de calsificacion a cada dato en la lista de edades\n",
    "    r=clasificacionEdades(i)\n",
    "    arch4.write(str(i)+\"-\"+r+\"\\n\")\n",
    "    if r==\"es mayor de edad\":\n",
    "        cuantos=cuantos+1\n",
    "arch4.write(\"\\n\" + \"Hay un total de \" + str(cuantos) +\" encuestados mayores de edad\")\n",
    "arch4.close()"
   ]
  },
  {
   "cell_type": "code",
   "execution_count": 26,
   "metadata": {},
   "outputs": [],
   "source": [
    "prueba=open(\"listado.txt\", \"a\")\n",
    "prueba.write(\"\\nPrueba\")\n",
    "prueba.close()"
   ]
  },
  {
   "cell_type": "code",
   "execution_count": null,
   "metadata": {},
   "outputs": [],
   "source": []
  }
 ],
 "metadata": {
  "kernelspec": {
   "display_name": "Python 3",
   "language": "python",
   "name": "python3"
  },
  "language_info": {
   "codemirror_mode": {
    "name": "ipython",
    "version": 3
   },
   "file_extension": ".py",
   "mimetype": "text/x-python",
   "name": "python",
   "nbconvert_exporter": "python",
   "pygments_lexer": "ipython3",
   "version": "3.8.5"
  }
 },
 "nbformat": 4,
 "nbformat_minor": 4
}
