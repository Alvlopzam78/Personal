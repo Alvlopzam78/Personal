{
 "cells": [
  {
   "cell_type": "code",
   "execution_count": 1,
   "metadata": {},
   "outputs": [
    {
     "name": "stdout",
     "output_type": "stream",
     "text": [
      "Using matplotlib backend: MacOSX\n",
      "Populating the interactive namespace from numpy and matplotlib\n"
     ]
    }
   ],
   "source": [
    "import numpy as np\n",
    "import scipy as sp\n",
    "from numpy import math\n",
    "%pylab"
   ]
  },
  {
   "cell_type": "markdown",
   "metadata": {},
   "source": [
    "# Definición de Funciuones en Python"
   ]
  },
  {
   "cell_type": "code",
   "execution_count": 2,
   "metadata": {},
   "outputs": [],
   "source": [
    "def SalarioNeto (salario):\n",
    "    tasaImpuesto=0.15\n",
    "    impuesto=salario*tasaImpuesto\n",
    "    return salario-impuesto"
   ]
  },
  {
   "cell_type": "code",
   "execution_count": 4,
   "metadata": {},
   "outputs": [
    {
     "data": {
      "text/plain": [
       "850.0"
      ]
     },
     "execution_count": 4,
     "metadata": {},
     "output_type": "execute_result"
    }
   ],
   "source": [
    "SalarioNeto(1000)"
   ]
  },
  {
   "cell_type": "code",
   "execution_count": 6,
   "metadata": {},
   "outputs": [
    {
     "data": {
      "text/plain": [
       "4250.0"
      ]
     },
     "execution_count": 6,
     "metadata": {},
     "output_type": "execute_result"
    }
   ],
   "source": [
    "SalarioNeto(5000)"
   ]
  },
  {
   "cell_type": "code",
   "execution_count": 9,
   "metadata": {},
   "outputs": [
    {
     "name": "stdout",
     "output_type": "stream",
     "text": [
      "para una persona con sueldo bruto de $ 35000 le corresponde un salario neto de $ 29750.0\n"
     ]
    }
   ],
   "source": [
    "sueldo=35000\n",
    "print(\"para una persona con sueldo bruto de $\",sueldo,\"le corresponde un salario neto de $\",SalarioNeto(sueldo))"
   ]
  },
  {
   "cell_type": "code",
   "execution_count": 19,
   "metadata": {},
   "outputs": [],
   "source": [
    "def Area (radio):\n",
    "    pi=math.pi\n",
    "    return pi*radio**2"
   ]
  },
  {
   "cell_type": "code",
   "execution_count": 20,
   "metadata": {},
   "outputs": [
    {
     "data": {
      "text/plain": [
       "201.06192982974676"
      ]
     },
     "execution_count": 20,
     "metadata": {},
     "output_type": "execute_result"
    }
   ],
   "source": [
    "Area(8)"
   ]
  },
  {
   "cell_type": "code",
   "execution_count": 28,
   "metadata": {},
   "outputs": [
    {
     "name": "stdout",
     "output_type": "stream",
     "text": [
      "El área del círculo con radio de 125 es 49087.39\n",
      "\n"
     ]
    }
   ],
   "source": [
    "r=125\n",
    "print(\"El área del círculo con radio de\",r,\"es %1.2f\\n\" %Area(r))"
   ]
  },
  {
   "cell_type": "code",
   "execution_count": 29,
   "metadata": {},
   "outputs": [],
   "source": [
    "def fDescuento (pCompra,tasa,pMin):\n",
    "    if pCompra>=pMin:\n",
    "        descuento=pCompra*tasa\n",
    "    else:\n",
    "        descuento=0\n",
    "    return descuento "
   ]
  },
  {
   "cell_type": "code",
   "execution_count": 32,
   "metadata": {},
   "outputs": [
    {
     "data": {
      "text/plain": [
       "1550.0"
      ]
     },
     "execution_count": 32,
     "metadata": {},
     "output_type": "execute_result"
    }
   ],
   "source": [
    "fDescuento(6200,.25,1500)"
   ]
  },
  {
   "cell_type": "code",
   "execution_count": 37,
   "metadata": {},
   "outputs": [
    {
     "name": "stdout",
     "output_type": "stream",
     "text": [
      "El descuento para un compra de $ 600 es de $ 0\n"
     ]
    }
   ],
   "source": [
    "compra=600\n",
    "tasa=.15\n",
    "mínimo=3000\n",
    "print(\"El descuento para un compra de $\",compra,\"es de $\",fDescuento(compra,tasa,mínimo))"
   ]
  },
  {
   "cell_type": "code",
   "execution_count": 38,
   "metadata": {},
   "outputs": [],
   "source": [
    "#Establecer la comisión para los vendedores tomando en cuento lo siguiene: vendieron más de 30,000\n",
    "#Tendrán una comisión del 5%, en caso contrario del 3%\n",
    "\n",
    "def fComisión (venta):\n",
    "    if venta>30000: #Si se cumple esta comparación, entonces ejecuta lo que viene a continuación. \n",
    "        comisión=venta*.05\n",
    "    else: # Si NO se cumplió la condición, entonces ejecuta lo viene abajo del \"else\". \n",
    "        comisión=venta*.03\n",
    "    return comisión"
   ]
  },
  {
   "cell_type": "code",
   "execution_count": 43,
   "metadata": {},
   "outputs": [
    {
     "data": {
      "text/plain": [
       "10000.0"
      ]
     },
     "execution_count": 43,
     "metadata": {},
     "output_type": "execute_result"
    }
   ],
   "source": [
    "fComisión(200000)"
   ]
  },
  {
   "cell_type": "markdown",
   "metadata": {},
   "source": [
    "# Tarea, ejercicios 1, 2 y 3"
   ]
  },
  {
   "cell_type": "markdown",
   "metadata": {},
   "source": [
    "Problemas de funciones con instrucciones..."
   ]
  },
  {
   "cell_type": "code",
   "execution_count": null,
   "metadata": {},
   "outputs": [],
   "source": []
  }
 ],
 "metadata": {
  "kernelspec": {
   "display_name": "Python 3",
   "language": "python",
   "name": "python3"
  },
  "language_info": {
   "codemirror_mode": {
    "name": "ipython",
    "version": 3
   },
   "file_extension": ".py",
   "mimetype": "text/x-python",
   "name": "python",
   "nbconvert_exporter": "python",
   "pygments_lexer": "ipython3",
   "version": "3.8.5"
  }
 },
 "nbformat": 4,
 "nbformat_minor": 4
}
