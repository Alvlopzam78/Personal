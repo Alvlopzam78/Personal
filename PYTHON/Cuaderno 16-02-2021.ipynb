{
 "cells": [
  {
   "cell_type": "code",
   "execution_count": 38,
   "metadata": {},
   "outputs": [
    {
     "name": "stdout",
     "output_type": "stream",
     "text": [
      "Using matplotlib backend: MacOSX\n",
      "Populating the interactive namespace from numpy and matplotlib\n"
     ]
    }
   ],
   "source": [
    "import numpy as np\n",
    "import scipy as sp\n",
    "from numpy import math\n",
    "%pylab"
   ]
  },
  {
   "cell_type": "markdown",
   "metadata": {},
   "source": [
    "# Ejercicios"
   ]
  },
  {
   "cell_type": "markdown",
   "metadata": {},
   "source": [
    "Preguntas sobre divisibilidad:\n",
    "¿Cómo sabemos si un número es par o impar?\n",
    "¿Cuántas fracciones de 15 minutos se tienen en un tiempo de 2:38 horas? ¿Cuántos minutos se cubren de la última fracción de 15 minutos?"
   ]
  },
  {
   "cell_type": "code",
   "execution_count": 10,
   "metadata": {},
   "outputs": [
    {
     "data": {
      "text/plain": [
       "False"
      ]
     },
     "execution_count": 10,
     "metadata": {},
     "output_type": "execute_result"
    }
   ],
   "source": [
    "def parImpar (numero):\n",
    "    valor=numero%2\n",
    "    return valor==0\n",
    "parImpar(5)"
   ]
  },
  {
   "cell_type": "code",
   "execution_count": 16,
   "metadata": {},
   "outputs": [
    {
     "name": "stdout",
     "output_type": "stream",
     "text": [
      "158\n",
      "10\n",
      "8\n"
     ]
    }
   ],
   "source": [
    "minutos=(2*60)+38\n",
    "fracciones=minutos//15 #Cuantas fracciones de 15 min hay\n",
    "excedente=minutos%15\n",
    "print(minutos)\n",
    "print(fracciones)\n",
    "print(excedente)"
   ]
  },
  {
   "cell_type": "markdown",
   "metadata": {},
   "source": [
    "Función del tipo de cambio. Escriba una función de conversión para el tipo de cambio USD tal que, a partir de un parámetro con una cantidad dada en una moneda USD dólares o $ pesos, indicada con un segundo parámetro de texto, 'dólares' o 'pesos' respectivamente, calcule la cantidad en pesos mexicanos ($) o la cantidad en dólares americanos (USD) equivalente. El factor de conversión es el siguiente:\n",
    "1 USD dólar = $ 22.0362 pesos (23 de agosto, 2020*)"
   ]
  },
  {
   "cell_type": "code",
   "execution_count": 30,
   "metadata": {},
   "outputs": [],
   "source": [
    "def cambio(n,moneda):\n",
    "    if (moneda==\"dolares\"):\n",
    "        res=n*22.0462\n",
    "    else: \n",
    "        res=n/22.0362\n",
    "    return res"
   ]
  },
  {
   "cell_type": "code",
   "execution_count": 31,
   "metadata": {},
   "outputs": [
    {
     "data": {
      "text/plain": [
       "0.9343716248718018"
      ]
     },
     "execution_count": 31,
     "metadata": {},
     "output_type": "execute_result"
    }
   ],
   "source": [
    "cambio(20.59,\"pesos\")"
   ]
  },
  {
   "cell_type": "code",
   "execution_count": 32,
   "metadata": {},
   "outputs": [
    {
     "data": {
      "text/plain": [
       "0.984289487298173"
      ]
     },
     "execution_count": 32,
     "metadata": {},
     "output_type": "execute_result"
    }
   ],
   "source": [
    "cambio(21.69,\"pesos\")"
   ]
  },
  {
   "cell_type": "code",
   "execution_count": 33,
   "metadata": {},
   "outputs": [
    {
     "data": {
      "text/plain": [
       "2204.62"
      ]
     },
     "execution_count": 33,
     "metadata": {},
     "output_type": "execute_result"
    }
   ],
   "source": [
    "cambio(100,\"dolares\")"
   ]
  },
  {
   "cell_type": "markdown",
   "metadata": {},
   "source": [
    "Escriba una función para calcular el área de un polígono regular (un polígono cuyos lados o aristas tienen la misma longitud y sus ángulos internos son congruentes) tal que, a partir de la cantidad de lados o aristas como un parámetro entero y la longitud de una arista como un parámetro real, calcule el área del polígono. Ejemplos de polígonos regulares son el triángulo equilátero, el cuadrado, el pentágono y el hexágono de lados y ángulos iguales, etc. Para facilitar la escritura de la función, considera lo siguiente:\n",
    "i. Si la cantidad de aristas es igual o menor a dos, el área deberá ser cero\n",
    "ii. Si la cantidad de aristas es mayor a dos, entonces el área del polígono puede calcularse\n",
    "con la siguiente fórmula:\n",
    "lado2·(n/4)·√[-1 + 1/sin(π/n)2] , donde n es la cantidad de lados y lado es la longitud de una arista, y el símbolo √ denota la raíz cuadrada.\n",
    "Verifica el resultado de la función para algunos casos simples que puedan calcularse directamente:\n",
    "a. El área de un triángulo equilátero puede calcularse como lado2 ·√(3)/4\n",
    "b. El área de un cuadrado puede calcularse como lado2"
   ]
  },
  {
   "cell_type": "code",
   "execution_count": 4,
   "metadata": {},
   "outputs": [],
   "source": [
    "def AreaPoligono(n,lado):\n",
    "    if n<=2:\n",
    "        area=0\n",
    "    else:\n",
    "        area=(lado**2)*(n/4)*sqrt(-1+(1/((sin(math.pi/n))**2)))\n",
    "    return area"
   ]
  },
  {
   "cell_type": "code",
   "execution_count": 5,
   "metadata": {},
   "outputs": [
    {
     "ename": "NameError",
     "evalue": "name 'sqrt' is not defined",
     "output_type": "error",
     "traceback": [
      "\u001b[0;31m---------------------------------------------------------------------------\u001b[0m",
      "\u001b[0;31mNameError\u001b[0m                                 Traceback (most recent call last)",
      "\u001b[0;32m<ipython-input-5-f1d7a6cf596d>\u001b[0m in \u001b[0;36m<module>\u001b[0;34m\u001b[0m\n\u001b[0;32m----> 1\u001b[0;31m \u001b[0mround\u001b[0m\u001b[0;34m(\u001b[0m\u001b[0mAreaPoligono\u001b[0m\u001b[0;34m(\u001b[0m\u001b[0;36m4\u001b[0m\u001b[0;34m,\u001b[0m\u001b[0;36m10\u001b[0m\u001b[0;34m)\u001b[0m\u001b[0;34m)\u001b[0m\u001b[0;34m\u001b[0m\u001b[0;34m\u001b[0m\u001b[0m\n\u001b[0m",
      "\u001b[0;32m<ipython-input-4-73eccbca2125>\u001b[0m in \u001b[0;36mAreaPoligono\u001b[0;34m(n, lado)\u001b[0m\n\u001b[1;32m      3\u001b[0m         \u001b[0marea\u001b[0m\u001b[0;34m=\u001b[0m\u001b[0;36m0\u001b[0m\u001b[0;34m\u001b[0m\u001b[0;34m\u001b[0m\u001b[0m\n\u001b[1;32m      4\u001b[0m     \u001b[0;32melse\u001b[0m\u001b[0;34m:\u001b[0m\u001b[0;34m\u001b[0m\u001b[0;34m\u001b[0m\u001b[0m\n\u001b[0;32m----> 5\u001b[0;31m         \u001b[0marea\u001b[0m\u001b[0;34m=\u001b[0m\u001b[0;34m(\u001b[0m\u001b[0mlado\u001b[0m\u001b[0;34m**\u001b[0m\u001b[0;36m2\u001b[0m\u001b[0;34m)\u001b[0m\u001b[0;34m*\u001b[0m\u001b[0;34m(\u001b[0m\u001b[0mn\u001b[0m\u001b[0;34m/\u001b[0m\u001b[0;36m4\u001b[0m\u001b[0;34m)\u001b[0m\u001b[0;34m*\u001b[0m\u001b[0msqrt\u001b[0m\u001b[0;34m(\u001b[0m\u001b[0;34m-\u001b[0m\u001b[0;36m1\u001b[0m\u001b[0;34m+\u001b[0m\u001b[0;34m(\u001b[0m\u001b[0;36m1\u001b[0m\u001b[0;34m/\u001b[0m\u001b[0;34m(\u001b[0m\u001b[0;34m(\u001b[0m\u001b[0msin\u001b[0m\u001b[0;34m(\u001b[0m\u001b[0mmath\u001b[0m\u001b[0;34m.\u001b[0m\u001b[0mpi\u001b[0m\u001b[0;34m/\u001b[0m\u001b[0mn\u001b[0m\u001b[0;34m)\u001b[0m\u001b[0;34m)\u001b[0m\u001b[0;34m**\u001b[0m\u001b[0;36m2\u001b[0m\u001b[0;34m)\u001b[0m\u001b[0;34m)\u001b[0m\u001b[0;34m)\u001b[0m\u001b[0;34m\u001b[0m\u001b[0;34m\u001b[0m\u001b[0m\n\u001b[0m\u001b[1;32m      6\u001b[0m     \u001b[0;32mreturn\u001b[0m \u001b[0marea\u001b[0m\u001b[0;34m\u001b[0m\u001b[0;34m\u001b[0m\u001b[0m\n",
      "\u001b[0;31mNameError\u001b[0m: name 'sqrt' is not defined"
     ]
    }
   ],
   "source": [
    "round(AreaPoligono(4,10))"
   ]
  },
  {
   "cell_type": "markdown",
   "metadata": {},
   "source": [
    "pag. 16 problema 5"
   ]
  },
  {
   "cell_type": "code",
   "execution_count": 1,
   "metadata": {},
   "outputs": [],
   "source": [
    "def suma (n):\n",
    "    if n>=1:\n",
    "        res=sum([i**i for i in range(1,n+1)])\n",
    "    else:\n",
    "        res=\"entrada no permitida\"\n",
    "    return res"
   ]
  },
  {
   "cell_type": "code",
   "execution_count": 5,
   "metadata": {},
   "outputs": [
    {
     "data": {
      "text/plain": [
       "3413"
      ]
     },
     "execution_count": 5,
     "metadata": {},
     "output_type": "execute_result"
    }
   ],
   "source": [
    "suma(5)"
   ]
  },
  {
   "cell_type": "code",
   "execution_count": 3,
   "metadata": {},
   "outputs": [],
   "source": [
    "#otra forma\n",
    "def suma2(n):\n",
    "    suma=0\n",
    "    i=1\n",
    "    while i<=n:\n",
    "        suma=suma+i**i\n",
    "        i=i+1\n",
    "    return suma"
   ]
  },
  {
   "cell_type": "code",
   "execution_count": 4,
   "metadata": {},
   "outputs": [
    {
     "data": {
      "text/plain": [
       "3413"
      ]
     },
     "execution_count": 4,
     "metadata": {},
     "output_type": "execute_result"
    }
   ],
   "source": [
    "suma2(5)"
   ]
  },
  {
   "cell_type": "markdown",
   "metadata": {},
   "source": [
    "pag.7 problema 19"
   ]
  },
  {
   "cell_type": "code",
   "execution_count": 7,
   "metadata": {},
   "outputs": [],
   "source": [
    "def Precio (cantidad):\n",
    "    if cantidad<800:\n",
    "        precio=cantidad-(cantidad*0.05)\n",
    "        res=precio+precio*0.16\n",
    "    elif cantidad<1500:\n",
    "        precio=cantidad-(cantidad*0.15)\n",
    "        res=precio+precio*0.16\n",
    "    else:\n",
    "        precio=cantidad-(cantidad*0.25)\n",
    "        res=precio+precio*0.16\n",
    "    return res\n",
    "    \n",
    "    "
   ]
  },
  {
   "cell_type": "code",
   "execution_count": 18,
   "metadata": {},
   "outputs": [],
   "source": [
    "valores=[1500.00, 224.50, 525.00, 2000.00, 1250.00, 825.00]\n",
    "resultados=[Precio(i) for i in valores]"
   ]
  },
  {
   "cell_type": "code",
   "execution_count": 19,
   "metadata": {},
   "outputs": [
    {
     "data": {
      "text/plain": [
       "[1305.0, 247.399, 578.55, 1740.0, 1232.5, 813.45]"
      ]
     },
     "execution_count": 19,
     "metadata": {},
     "output_type": "execute_result"
    }
   ],
   "source": [
    "resultados"
   ]
  },
  {
   "cell_type": "markdown",
   "metadata": {},
   "source": [
    "Equipo morado:\n",
    "pag 10 probelmas 35 y paf 17 59\n",
    "TAREA"
   ]
  },
  {
   "cell_type": "code",
   "execution_count": null,
   "metadata": {},
   "outputs": [],
   "source": []
  }
 ],
 "metadata": {
  "kernelspec": {
   "display_name": "Python 3",
   "language": "python",
   "name": "python3"
  },
  "language_info": {
   "codemirror_mode": {
    "name": "ipython",
    "version": 3
   },
   "file_extension": ".py",
   "mimetype": "text/x-python",
   "name": "python",
   "nbconvert_exporter": "python",
   "pygments_lexer": "ipython3",
   "version": "3.8.5"
  }
 },
 "nbformat": 4,
 "nbformat_minor": 4
}
