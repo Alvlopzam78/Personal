{
 "cells": [
  {
   "cell_type": "code",
   "execution_count": 1,
   "metadata": {},
   "outputs": [
    {
     "name": "stdout",
     "output_type": "stream",
     "text": [
      "Using matplotlib backend: MacOSX\n",
      "Populating the interactive namespace from numpy and matplotlib\n"
     ]
    }
   ],
   "source": [
    "import numpy as np\n",
    "import scipy as sp\n",
    "from numpy import math\n",
    "%pylab"
   ]
  },
  {
   "cell_type": "markdown",
   "metadata": {},
   "source": [
    "# Rangos (cont.) y Conjuntos"
   ]
  },
  {
   "cell_type": "code",
   "execution_count": 8,
   "metadata": {},
   "outputs": [],
   "source": [
    "mult8=list(range(0,501,8)) #Lista de los míltiplos del 8 de 0 a 500\n",
    "#range(inicio,fin,incremetno)"
   ]
  },
  {
   "cell_type": "code",
   "execution_count": 9,
   "metadata": {},
   "outputs": [
    {
     "name": "stdout",
     "output_type": "stream",
     "text": [
      "[0, 8, 16, 24, 32, 40, 48, 56, 64, 72, 80, 88, 96, 104, 112, 120, 128, 136, 144, 152, 160, 168, 176, 184, 192, 200, 208, 216, 224, 232, 240, 248, 256, 264, 272, 280, 288, 296, 304, 312, 320, 328, 336, 344, 352, 360, 368, 376, 384, 392, 400, 408, 416, 424, 432, 440, 448, 456, 464, 472, 480, 488, 496]\n"
     ]
    }
   ],
   "source": [
    "print(mult8)"
   ]
  },
  {
   "cell_type": "code",
   "execution_count": 10,
   "metadata": {},
   "outputs": [
    {
     "data": {
      "text/plain": [
       "63"
      ]
     },
     "execution_count": 10,
     "metadata": {},
     "output_type": "execute_result"
    }
   ],
   "source": [
    "len(mult8)"
   ]
  },
  {
   "cell_type": "code",
   "execution_count": 11,
   "metadata": {},
   "outputs": [
    {
     "data": {
      "text/plain": [
       "range(0, 501, 8)"
      ]
     },
     "execution_count": 11,
     "metadata": {},
     "output_type": "execute_result"
    }
   ],
   "source": [
    "sec1=range(0,501,8)\n",
    "sec1"
   ]
  },
  {
   "cell_type": "code",
   "execution_count": 14,
   "metadata": {},
   "outputs": [
    {
     "name": "stdout",
     "output_type": "stream",
     "text": [
      "{0, 128, 256, 384, 8, 136, 264, 392, 16, 144, 272, 400, 24, 152, 280, 408, 32, 160, 288, 416, 40, 168, 296, 424, 48, 176, 304, 432, 56, 184, 312, 440, 64, 192, 320, 448, 72, 200, 328, 456, 80, 208, 336, 464, 88, 216, 344, 472, 96, 224, 248, 352, 376, 480, 104, 232, 360, 488, 112, 240, 368, 496, 120}\n"
     ]
    }
   ],
   "source": [
    "conjunto=set(sec1)\n",
    "print(conjunto)"
   ]
  },
  {
   "cell_type": "code",
   "execution_count": 16,
   "metadata": {},
   "outputs": [
    {
     "name": "stdout",
     "output_type": "stream",
     "text": [
      "{0, 5, 10, 15, 20, 25, 30, 35, 40, 45, 50, 55, 60, 65, 70, 75, 80, 85, 90, 95, 100, 105, 110, 115, 120, 125, 130, 135, 140, 145, 150, 155, 160, 165, 170, 175, 180, 185, 190, 195, 200, 205, 210, 215, 220, 225, 230, 235, 240, 245, 250, 255, 260, 265, 270, 275, 280, 285, 290, 295, 300, 305, 310, 315, 320, 325, 330, 335, 340, 345, 350, 355, 360, 365, 370, 375, 380, 385, 390, 395, 400, 405, 410, 415, 420, 425, 430, 435, 440, 445, 450, 455, 460, 465, 470, 475, 480, 485, 490, 495, 500}\n"
     ]
    }
   ],
   "source": [
    "#el conjunto puede hacer diferentesoperaciones a las que sehacen con las listas\n",
    "conjunto2=set(range(0,501,5))\n",
    "print(conjunto2)"
   ]
  },
  {
   "cell_type": "code",
   "execution_count": 19,
   "metadata": {},
   "outputs": [
    {
     "name": "stdout",
     "output_type": "stream",
     "text": [
      "{0, 160, 320, 480, 440, 40, 200, 360, 400, 80, 240, 280, 120}\n"
     ]
    }
   ],
   "source": [
    "#quiero saber cuales son los números que son al mismo tiempo múltiplos de 8 y de 5\n",
    "conjunto3=conjunto.intersection(conjunto2)\n",
    "print(conjunto3)"
   ]
  },
  {
   "cell_type": "code",
   "execution_count": 22,
   "metadata": {},
   "outputs": [],
   "source": [
    "#los multiplos de 8 que no son multiplos de 5\n",
    "conjunto4=conjunto.difference(conjunto2)"
   ]
  },
  {
   "cell_type": "code",
   "execution_count": 23,
   "metadata": {},
   "outputs": [
    {
     "name": "stdout",
     "output_type": "stream",
     "text": [
      "{128, 256, 384, 136, 8, 264, 392, 16, 144, 272, 408, 24, 152, 32, 288, 416, 168, 296, 424, 48, 176, 304, 432, 56, 184, 312, 64, 192, 448, 72, 328, 456, 208, 336, 464, 88, 216, 344, 472, 96, 224, 352, 376, 104, 232, 488, 112, 368, 496, 248}\n"
     ]
    }
   ],
   "source": [
    "print(conjunto4)"
   ]
  },
  {
   "cell_type": "code",
   "execution_count": 26,
   "metadata": {},
   "outputs": [
    {
     "data": {
      "text/plain": [
       "set()"
      ]
     },
     "execution_count": 26,
     "metadata": {},
     "output_type": "execute_result"
    }
   ],
   "source": [
    "#interseccion entre conjunto 3 y 4\n",
    "conjunto3.intersection(conjunto4)\n",
    "#muestra un conjunto vacio NO HAY NINGUN ELEMENTO COMUN ENTRE AMBOS CONJUNTOS"
   ]
  },
  {
   "cell_type": "code",
   "execution_count": 28,
   "metadata": {},
   "outputs": [],
   "source": [
    "#TODOS los numeros múltiplos de 5 y 8 de 0 a 500\n",
    "conjunto5=conjunto.union(conjunto2)"
   ]
  },
  {
   "cell_type": "code",
   "execution_count": 29,
   "metadata": {},
   "outputs": [
    {
     "name": "stdout",
     "output_type": "stream",
     "text": [
      "{0, 5, 8, 10, 15, 16, 20, 24, 25, 30, 32, 35, 40, 45, 48, 50, 55, 56, 60, 64, 65, 70, 72, 75, 80, 85, 88, 90, 95, 96, 100, 104, 105, 110, 112, 115, 120, 125, 128, 130, 135, 136, 140, 144, 145, 150, 152, 155, 160, 165, 168, 170, 175, 176, 180, 184, 185, 190, 192, 195, 200, 205, 208, 210, 215, 216, 220, 224, 225, 230, 232, 235, 240, 245, 248, 250, 255, 256, 260, 264, 265, 270, 272, 275, 280, 285, 288, 290, 295, 296, 300, 304, 305, 310, 312, 315, 320, 325, 328, 330, 335, 336, 340, 344, 345, 350, 352, 355, 360, 365, 368, 370, 375, 376, 380, 384, 385, 390, 392, 395, 400, 405, 408, 410, 415, 416, 420, 424, 425, 430, 432, 435, 440, 445, 448, 450, 455, 456, 460, 464, 465, 470, 472, 475, 480, 485, 488, 490, 495, 496, 500}\n"
     ]
    }
   ],
   "source": [
    "print(conjunto5)"
   ]
  },
  {
   "cell_type": "code",
   "execution_count": 31,
   "metadata": {},
   "outputs": [
    {
     "name": "stdout",
     "output_type": "stream",
     "text": [
      "conjunto 1  63\n",
      "conjunto 2 101\n",
      "conjunto 5 151\n"
     ]
    }
   ],
   "source": [
    "print(\"conjunto 1 \",len(conjunto))\n",
    "print(\"conjunto 2\", len(conjunto2))\n",
    "print(\"conjunto 5\", len(conjunto5))\n",
    "\n",
    "#En un conjunto NO hay repetidos\n",
    "#En un conjutno NO hay orden"
   ]
  },
  {
   "cell_type": "code",
   "execution_count": 33,
   "metadata": {},
   "outputs": [
    {
     "data": {
      "text/plain": [
       "7"
      ]
     },
     "execution_count": 33,
     "metadata": {},
     "output_type": "execute_result"
    }
   ],
   "source": [
    "#En una lista, si quiero saber el indice de un elemento utilizo index\n",
    "mult8.index(56)"
   ]
  },
  {
   "cell_type": "code",
   "execution_count": 35,
   "metadata": {},
   "outputs": [],
   "source": [
    "conjunto.remove(128) #Quita un elemento específico del conjunto"
   ]
  },
  {
   "cell_type": "code",
   "execution_count": 36,
   "metadata": {},
   "outputs": [
    {
     "name": "stdout",
     "output_type": "stream",
     "text": [
      "{0, 256, 384, 8, 136, 264, 392, 16, 144, 272, 400, 24, 152, 280, 408, 32, 160, 288, 416, 40, 168, 296, 424, 48, 176, 304, 432, 56, 184, 312, 440, 64, 192, 320, 448, 72, 200, 328, 456, 80, 208, 336, 464, 88, 216, 344, 472, 96, 224, 248, 352, 376, 480, 104, 232, 360, 488, 112, 240, 368, 496, 120}\n"
     ]
    }
   ],
   "source": [
    "print(conjunto)"
   ]
  },
  {
   "cell_type": "code",
   "execution_count": 40,
   "metadata": {},
   "outputs": [
    {
     "data": {
      "text/plain": [
       "256"
      ]
     },
     "execution_count": 40,
     "metadata": {},
     "output_type": "execute_result"
    }
   ],
   "source": [
    "conjunto.pop() #Quita un elemento arbitrario del conjunto"
   ]
  },
  {
   "cell_type": "code",
   "execution_count": 41,
   "metadata": {},
   "outputs": [
    {
     "name": "stdout",
     "output_type": "stream",
     "text": [
      "{384, 8, 136, 264, 392, 16, 144, 272, 400, 24, 152, 280, 408, 32, 160, 288, 416, 40, 168, 296, 424, 48, 176, 304, 432, 56, 184, 312, 440, 64, 192, 320, 448, 72, 200, 328, 456, 80, 208, 336, 464, 88, 216, 344, 472, 96, 224, 248, 352, 376, 480, 104, 232, 360, 488, 112, 240, 368, 496, 120}\n"
     ]
    }
   ],
   "source": [
    "print(conjunto)"
   ]
  },
  {
   "cell_type": "code",
   "execution_count": 47,
   "metadata": {},
   "outputs": [],
   "source": [
    "vocales={\"a\",\"e\",\"i\",\"o\",\"u\"} #Asignacion directa de los elemetnos del conjunto\n",
    "nombre=\"alvaro lopez zamora\" #Asignar un string a una variable \n",
    "cnombre=set(nombre) #la palabra set crea un conjunto con las letras del string"
   ]
  },
  {
   "cell_type": "code",
   "execution_count": 48,
   "metadata": {},
   "outputs": [
    {
     "name": "stdout",
     "output_type": "stream",
     "text": [
      "{'r', 'a', 'e', 'l', 'z', 'p', ' ', 'o', 'm', 'v'}\n"
     ]
    }
   ],
   "source": [
    "print(cnombre) #parece incompleto pero un conjunto NO tiene elementos repetidos"
   ]
  },
  {
   "cell_type": "code",
   "execution_count": 49,
   "metadata": {},
   "outputs": [
    {
     "data": {
      "text/plain": [
       "{'a', 'e', 'o'}"
      ]
     },
     "execution_count": 49,
     "metadata": {},
     "output_type": "execute_result"
    }
   ],
   "source": [
    "#¿Cuáles son las vocales que tiene mi nombre?\n",
    "vocales.intersection(cnombre)"
   ]
  },
  {
   "cell_type": "code",
   "execution_count": 50,
   "metadata": {},
   "outputs": [
    {
     "data": {
      "text/plain": [
       "{'a', 'e', 'o'}"
      ]
     },
     "execution_count": 50,
     "metadata": {},
     "output_type": "execute_result"
    }
   ],
   "source": [
    "vocales&cnombre #otra forma de hacer la intersección"
   ]
  },
  {
   "cell_type": "markdown",
   "metadata": {},
   "source": [
    "# Cálculos con la función comprehension"
   ]
  },
  {
   "cell_type": "code",
   "execution_count": 51,
   "metadata": {},
   "outputs": [
    {
     "data": {
      "text/plain": [
       "[8, 16, 32, 64, 128, 256]"
      ]
     },
     "execution_count": 51,
     "metadata": {},
     "output_type": "execute_result"
    }
   ],
   "source": [
    "[2**n for n in range(3,9)] #mismo resultado que el ejemplo del libro"
   ]
  },
  {
   "cell_type": "code",
   "execution_count": 66,
   "metadata": {},
   "outputs": [
    {
     "name": "stdout",
     "output_type": "stream",
     "text": [
      "[500, 501, 504, 509, 516, 525, 536, 549]\n"
     ]
    }
   ],
   "source": [
    "#las listas comprehension pueden tener una parte fija y una parte variable\n",
    "\n",
    "z=500\n",
    "lista=[w**2+z for w in range(8)] #la w cambia del 0 al7 pero la z permanece fija en 500\n",
    "print(lista)"
   ]
  },
  {
   "cell_type": "code",
   "execution_count": 79,
   "metadata": {},
   "outputs": [],
   "source": [
    "precioFrutas=[5,7.5,10,25]\n",
    "compraClienteKg=[1,2,3,4]\n",
    "precioAPagarPorFruta=[p*c for (p,c) in zip(precioFrutas,compraClienteKg)]\n",
    "totalAPagar=sum(precioAPagarPorFruta)"
   ]
  },
  {
   "cell_type": "code",
   "execution_count": 81,
   "metadata": {},
   "outputs": [
    {
     "name": "stdout",
     "output_type": "stream",
     "text": [
      "[5, 15.0, 30, 100]\n",
      "150.0\n"
     ]
    }
   ],
   "source": [
    "print(precioAPagarPorFruta)\n",
    "print(totalAPagar)"
   ]
  },
  {
   "cell_type": "code",
   "execution_count": 89,
   "metadata": {},
   "outputs": [
    {
     "name": "stdout",
     "output_type": "stream",
     "text": [
      "[0.25, 0.5, 0.75, 1.0, 1.25, 1.5, 1.75, 2.0, 2.25, 2.5, 2.75, 3.0, 3.25, 3.5, 3.75, 4.0, 4.25, 4.5, 4.75, 5.0, 5.25, 5.5, 5.75, 6.0, 6.25, 6.5, 6.75, 7.0, 7.25, 7.5]\n"
     ]
    }
   ],
   "source": [
    "sec1=[i/4 for i in range(1,31)]\n",
    "print(sec1)"
   ]
  },
  {
   "cell_type": "code",
   "execution_count": 90,
   "metadata": {},
   "outputs": [
    {
     "name": "stdout",
     "output_type": "stream",
     "text": [
      "[1.0, 0.5, 0.3333333333333333, 0.25, 0.2, 0.16666666666666666, 0.14285714285714285, 0.125, 0.1111111111111111, 0.1, 0.09090909090909091, 0.08333333333333333, 0.07692307692307693, 0.07142857142857142, 0.06666666666666667, 0.0625, 0.058823529411764705, 0.05555555555555555, 0.05263157894736842, 0.05, 0.047619047619047616, 0.045454545454545456, 0.043478260869565216, 0.041666666666666664, 0.04, 0.038461538461538464, 0.037037037037037035, 0.03571428571428571, 0.034482758620689655, 0.03333333333333333]\n"
     ]
    }
   ],
   "source": [
    "sec2=[1/i for i in range(1,31)]\n",
    "print(sec2)"
   ]
  },
  {
   "cell_type": "code",
   "execution_count": 106,
   "metadata": {},
   "outputs": [
    {
     "name": "stdout",
     "output_type": "stream",
     "text": [
      "[3, 5, 7, 9, 11, 13, 15, 17, 19, 21, 23, 25, 27, 29, 31, 33, 35, 37, 39, 41, 43, 45, 47, 49, 51, 53, 55, 57, 59, 61]\n"
     ]
    }
   ],
   "source": [
    "sec3=[2*i+1 for i in range (1,31)]\n",
    "print(sec3)"
   ]
  },
  {
   "cell_type": "markdown",
   "metadata": {},
   "source": [
    "# Tarea leer diccionarios y hacer el ejericio 21 en equipos "
   ]
  }
 ],
 "metadata": {
  "kernelspec": {
   "display_name": "Python 3",
   "language": "python",
   "name": "python3"
  },
  "language_info": {
   "codemirror_mode": {
    "name": "ipython",
    "version": 3
   },
   "file_extension": ".py",
   "mimetype": "text/x-python",
   "name": "python",
   "nbconvert_exporter": "python",
   "pygments_lexer": "ipython3",
   "version": "3.8.5"
  }
 },
 "nbformat": 4,
 "nbformat_minor": 4
}
