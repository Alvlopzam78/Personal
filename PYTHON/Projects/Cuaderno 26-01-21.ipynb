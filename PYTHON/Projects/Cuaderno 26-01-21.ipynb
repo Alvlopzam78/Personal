{
 "cells": [
  {
   "cell_type": "code",
   "execution_count": 1,
   "metadata": {},
   "outputs": [
    {
     "name": "stdout",
     "output_type": "stream",
     "text": [
      "Using matplotlib backend: MacOSX\n",
      "Populating the interactive namespace from numpy and matplotlib\n"
     ]
    }
   ],
   "source": [
    "import numpy as np\n",
    "import scipy as sp\n",
    "from numpy import math\n",
    "%pylab"
   ]
  },
  {
   "cell_type": "markdown",
   "metadata": {},
   "source": [
    "Clasifica a los encuestados de acuerdo a su edad tomando en cuenta el siguiente criterio:\n",
    "\n",
    "    - Menor de 2 años es bebé\n",
    "    - Entre 2 y 12 años es un niño\n",
    "    - Entre los 13 y 17 es un adolescente\n",
    "    - Entre 18 y 60 es un adulto\n",
    "    - Mayor de 60 es adulto mayor"
   ]
  },
  {
   "cell_type": "code",
   "execution_count": 6,
   "metadata": {},
   "outputs": [],
   "source": [
    "def Clasificación (edad):\n",
    "    if edad<2:\n",
    "        resp=\"bebé\"\n",
    "    elif edad<13:\n",
    "        resp=\"niño\"\n",
    "    elif edad<18:\n",
    "        resp=\"adolescente\"\n",
    "    elif edad<60:\n",
    "        resp=\"adulto\"\n",
    "    else:\n",
    "        resp=\"adulto mayor\"\n",
    "    return resp\n",
    "        "
   ]
  },
  {
   "cell_type": "code",
   "execution_count": 13,
   "metadata": {},
   "outputs": [
    {
     "name": "stdout",
     "output_type": "stream",
     "text": [
      "¿Cuál es la edad del encuestado?  1\n",
      "La clasificación de acuerdo a la edad es de: bebé\n"
     ]
    }
   ],
   "source": [
    "e=int(input(\"¿Cuál es la edad del encuestado?  \"))\n",
    "print(\"La clasificación de acuerdo a la edad es de:\",Clasificación(e))"
   ]
  },
  {
   "cell_type": "markdown",
   "metadata": {},
   "source": [
    "# Instrucciones Cíclicas"
   ]
  },
  {
   "cell_type": "markdown",
   "metadata": {},
   "source": [
    "## While"
   ]
  },
  {
   "cell_type": "code",
   "execution_count": 16,
   "metadata": {},
   "outputs": [],
   "source": [
    "#Se ejecuta HASTA que se deje de cumplir la condición"
   ]
  },
  {
   "cell_type": "code",
   "execution_count": 21,
   "metadata": {},
   "outputs": [
    {
     "name": "stdout",
     "output_type": "stream",
     "text": [
      "Voy en la vuelta número 1\n",
      "Voy en la vuelta número 2\n",
      "Voy en la vuelta número 3\n",
      "Voy en la vuelta número 4\n",
      "Voy en la vuelta número 5\n"
     ]
    }
   ],
   "source": [
    "ejemplo=1\n",
    "limite=5\n",
    "while ejemplo<=limite:\n",
    "    print(\"Voy en la vuelta número\",ejemplo) #SIEMPRE EN EL BLOQUE DE INSTRUCCIONES DEBO MODIFICAR ALGUNA DE LAS VARIABLES DE LA CONDICIÓN\n",
    "    ejemplo=ejemplo+1"
   ]
  },
  {
   "cell_type": "code",
   "execution_count": 12,
   "metadata": {},
   "outputs": [
    {
     "name": "stdout",
     "output_type": "stream",
     "text": [
      "El múltiplo es: 4\n",
      "El múltiplo es: 8\n",
      "El múltiplo es: 12\n",
      "El múltiplo es: 16\n",
      "El múltiplo es: 20\n",
      "El múltiplo es: 24\n",
      "El múltiplo es: 28\n",
      "El múltiplo es: 32\n",
      "El múltiplo es: 36\n",
      "El múltiplo es: 40\n",
      "El múltiplo es: 44\n",
      "El múltiplo es: 48\n",
      "El múltiplo es: 52\n",
      "El múltiplo es: 56\n",
      "El múltiplo es: 60\n"
     ]
    }
   ],
   "source": [
    "#Escribe la tabla del 4 hasta llegar a 60\n",
    "\n",
    "múltiplo=4\n",
    "limite=60\n",
    "número=1\n",
    "while número*múltiplo<=limite:\n",
    "    print(\"El múltiplo es:\",número*múltiplo)\n",
    "    número=número+1\n",
    "    "
   ]
  },
  {
   "cell_type": "code",
   "execution_count": 23,
   "metadata": {},
   "outputs": [],
   "source": [
    "\n",
    "def tabla(múltiplo, límite):\n",
    "    número=1\n",
    "    while múltiplo*número<=límite:\n",
    "        print(\"El resultado es:\",múltiplo*número)\n",
    "        número=número+1"
   ]
  },
  {
   "cell_type": "code",
   "execution_count": 32,
   "metadata": {},
   "outputs": [
    {
     "name": "stdout",
     "output_type": "stream",
     "text": [
      "Dame el múltiplo 4\n",
      "Dame el límite 60\n",
      "El resultado es: 4\n",
      "El resultado es: 8\n",
      "El resultado es: 12\n",
      "El resultado es: 16\n",
      "El resultado es: 20\n",
      "El resultado es: 24\n",
      "El resultado es: 28\n",
      "El resultado es: 32\n",
      "El resultado es: 36\n",
      "El resultado es: 40\n",
      "El resultado es: 44\n",
      "El resultado es: 48\n",
      "El resultado es: 52\n",
      "El resultado es: 56\n",
      "El resultado es: 60\n"
     ]
    }
   ],
   "source": [
    "mul=int(input(\"Dame el múltiplo \"))\n",
    "lim=int(input(\"Dame el límite \"))\n",
    "tabla(mul,lim)"
   ]
  },
  {
   "cell_type": "markdown",
   "metadata": {},
   "source": [
    "# Tarea por correo"
   ]
  },
  {
   "cell_type": "code",
   "execution_count": null,
   "metadata": {},
   "outputs": [],
   "source": []
  }
 ],
 "metadata": {
  "kernelspec": {
   "display_name": "Python 3",
   "language": "python",
   "name": "python3"
  },
  "language_info": {
   "codemirror_mode": {
    "name": "ipython",
    "version": 3
   },
   "file_extension": ".py",
   "mimetype": "text/x-python",
   "name": "python",
   "nbconvert_exporter": "python",
   "pygments_lexer": "ipython3",
   "version": "3.8.5"
  }
 },
 "nbformat": 4,
 "nbformat_minor": 4
}
