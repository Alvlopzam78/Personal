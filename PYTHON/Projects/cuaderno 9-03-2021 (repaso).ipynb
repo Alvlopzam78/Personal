{
 "cells": [
  {
   "cell_type": "code",
   "execution_count": 1,
   "metadata": {},
   "outputs": [
    {
     "name": "stdout",
     "output_type": "stream",
     "text": [
      "Using matplotlib backend: MacOSX\n",
      "Populating the interactive namespace from numpy and matplotlib\n"
     ]
    }
   ],
   "source": [
    "import numpy as np\n",
    "import scipy as sp\n",
    "from numpy import math\n",
    "%pylab"
   ]
  },
  {
   "cell_type": "markdown",
   "metadata": {},
   "source": [
    "# Ejercicio 42"
   ]
  },
  {
   "cell_type": "code",
   "execution_count": 4,
   "metadata": {},
   "outputs": [
    {
     "data": {
      "text/plain": [
       "14"
      ]
     },
     "execution_count": 4,
     "metadata": {},
     "output_type": "execute_result"
    }
   ],
   "source": [
    "#Inciso a\n",
    "#Calcule la cantidad de valores n de la sucesión\n",
    "suces1=[12.5, 14.3, 56.7, 28.1, 18.0, 25.6, 33.0, 11.0, 2.5, 39.7, 3.0, 28.1, 14.2, 11.3]\n",
    "n=len(suces1)\n",
    "n"
   ]
  },
  {
   "cell_type": "code",
   "execution_count": 54,
   "metadata": {},
   "outputs": [
    {
     "name": "stdout",
     "output_type": "stream",
     "text": [
      "21.285714285714285\n",
      "15.86426505582965\n"
     ]
    }
   ],
   "source": [
    "#Inciso b\n",
    "#Calcule los promedios, aritmético (promedio simple) y geométrico, con las fórmulas\n",
    "promSimple=sum(suces1)/n\n",
    "promGeometrico=pow(prod(suces1),1/n)\n",
    "print(promSimple)\n",
    "print(promGeometrico)"
   ]
  },
  {
   "cell_type": "code",
   "execution_count": 55,
   "metadata": {},
   "outputs": [],
   "source": [
    "#Inciso c\n",
    "#Elabore una función tal que, a partir de una sucesión cualquiera de valores, calcule los promedios aritmético y geométrico en una tupla de dos elementos.\n",
    "def promedios(*suces):\n",
    "    simple=sum(suces)/len(suces)\n",
    "    geometrico=pow(prod(suces),1/len(suces))\n",
    "    return (simple,geometrico)"
   ]
  },
  {
   "cell_type": "code",
   "execution_count": 56,
   "metadata": {},
   "outputs": [
    {
     "data": {
      "text/plain": [
       "(21.285714285714285, 15.86426505582965)"
      ]
     },
     "execution_count": 56,
     "metadata": {},
     "output_type": "execute_result"
    }
   ],
   "source": [
    "promedios(12.5, 14.3, 56.7, 28.1, 18.0, 25.6, 33.0, 11.0, 2.5, 39.7, 3.0, 28.1, 14.2, 11.3)"
   ]
  },
  {
   "cell_type": "markdown",
   "metadata": {},
   "source": [
    "# Ejercicio 43"
   ]
  },
  {
   "cell_type": "code",
   "execution_count": 61,
   "metadata": {},
   "outputs": [],
   "source": [
    "def conjetura (num):\n",
    "    res=[]\n",
    "    if num>1:\n",
    "        res.append(num)\n",
    "        while num>1:\n",
    "            if num%2==0:\n",
    "                par=int(num/2)\n",
    "                res.append(par)\n",
    "                num=par\n",
    "            else:\n",
    "                impar=int((num*3)+1)\n",
    "                res.append(impar)\n",
    "                num=impar\n",
    "    return res"
   ]
  },
  {
   "cell_type": "code",
   "execution_count": 75,
   "metadata": {},
   "outputs": [
    {
     "name": "stdout",
     "output_type": "stream",
     "text": [
      "[57, 172, 86, 43, 130, 65, 196, 98, 49, 148, 74, 37, 112, 56, 28, 14, 7, 22, 11, 34, 17, 52, 26, 13, 40, 20, 10, 5, 16, 8, 4, 2, 1]\n"
     ]
    }
   ],
   "source": [
    "print(conjetura(57))"
   ]
  },
  {
   "cell_type": "code",
   "execution_count": null,
   "metadata": {},
   "outputs": [],
   "source": []
  }
 ],
 "metadata": {
  "kernelspec": {
   "display_name": "Python 3",
   "language": "python",
   "name": "python3"
  },
  "language_info": {
   "codemirror_mode": {
    "name": "ipython",
    "version": 3
   },
   "file_extension": ".py",
   "mimetype": "text/x-python",
   "name": "python",
   "nbconvert_exporter": "python",
   "pygments_lexer": "ipython3",
   "version": "3.8.5"
  }
 },
 "nbformat": 4,
 "nbformat_minor": 4
}
