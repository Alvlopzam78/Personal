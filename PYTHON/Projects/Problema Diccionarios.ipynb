{
 "cells": [
  {
   "cell_type": "markdown",
   "metadata": {},
   "source": [
    "# Problema diccionarios"
   ]
  },
  {
   "cell_type": "markdown",
   "metadata": {},
   "source": [
    "### Equipo morado\n",
    "\n",
    "Integrantes:\n",
    "\n",
    "         Arleth Ximena Martinez Jimenez \n",
    "         Sara Olivares Velazquez \n",
    "         Alvaro Lopez Zamora \n",
    "         Luis Juan Pablo Fernández Cuellar"
   ]
  },
  {
   "cell_type": "markdown",
   "metadata": {},
   "source": [
    "Dados los siguientes vuelos y nombres de pasajeros: \n",
    "\n",
    "    Juan Rodiguez, destino Tokio, numero de vuelo 34637\n",
    "\n",
    "    Pedro Hernandez, destino Sao Paulo, numero de vuelo 28430\n",
    "\n",
    "    Emilio Cardenas, destino Ciudad de Mexico, numero de vuelo 43234\n",
    "\n",
    "    Alexa Garcia, destino Nueva York, numero de vuelo 85320\n",
    "\n",
    "a) Crea un diccionario cuyas llaves sean los numeros de vuelos\n",
    "\n",
    "b) Crea una entrada de texto para que al darle el numero de vuelo te diga el nombre y el destino del pasajero"
   ]
  },
  {
   "cell_type": "markdown",
   "metadata": {},
   "source": [
    "# a)"
   ]
  },
  {
   "cell_type": "code",
   "execution_count": 14,
   "metadata": {},
   "outputs": [
    {
     "name": "stdout",
     "output_type": "stream",
     "text": [
      "{34637: ('Juan Rodriguez', 'Tokio'), 28430: ('Pedro Hernandez', 'Sao Paulo'), 43234: ('Emilio Cardenas', 'Ciudad de Mexico'), 56829: ('Vicente Martinez', 'Paris'), 85320: ('Alexa Garcia', 'Nueva York')}\n"
     ]
    }
   ],
   "source": [
    "vuelos={34637:(\"Juan Rodriguez\",\"Tokio\"),28430:(\"Pedro Hernandez\",\"Sao Paulo\"),43234:(\"Emilio Cardenas\",\"Ciudad de Mexico\"),\n",
    "       56829:(\"Vicente Martinez\",\"Paris\"),85320:(\"Alexa Garcia\",\"Nueva York\")}\n",
    "print(vuelos)"
   ]
  },
  {
   "cell_type": "markdown",
   "metadata": {},
   "source": [
    "# b)"
   ]
  },
  {
   "cell_type": "code",
   "execution_count": 15,
   "metadata": {},
   "outputs": [
    {
     "name": "stdout",
     "output_type": "stream",
     "text": [
      "Escribe tu numero de vuelo de 5 digitos: 85320\n",
      "Hola Alexa Garcia tu destino es Nueva York\n"
     ]
    }
   ],
   "source": [
    "peticion=int(input(\"Escribe tu numero de vuelo de 5 digitos: \"))\n",
    "if peticion in vuelos:\n",
    "    print (\"Hola {} tu destino es {}\".format(vuelos[peticion][0],vuelos[peticion][1]))\n",
    "else:\n",
    "    print(\"El número de vuelo es incorrecto\")"
   ]
  },
  {
   "cell_type": "code",
   "execution_count": 17,
   "metadata": {},
   "outputs": [
    {
     "data": {
      "text/plain": [
       "('Juan Rodriguez', 'Tokio')"
      ]
     },
     "execution_count": 17,
     "metadata": {},
     "output_type": "execute_result"
    }
   ],
   "source": [
    "vuelos.get(34637)"
   ]
  },
  {
   "cell_type": "code",
   "execution_count": null,
   "metadata": {},
   "outputs": [],
   "source": []
  }
 ],
 "metadata": {
  "kernelspec": {
   "display_name": "Python 3",
   "language": "python",
   "name": "python3"
  },
  "language_info": {
   "codemirror_mode": {
    "name": "ipython",
    "version": 3
   },
   "file_extension": ".py",
   "mimetype": "text/x-python",
   "name": "python",
   "nbconvert_exporter": "python",
   "pygments_lexer": "ipython3",
   "version": "3.8.5"
  }
 },
 "nbformat": 4,
 "nbformat_minor": 4
}
