{
 "cells": [
  {
   "cell_type": "code",
   "execution_count": 1,
   "metadata": {},
   "outputs": [
    {
     "name": "stdout",
     "output_type": "stream",
     "text": [
      "Using matplotlib backend: MacOSX\n",
      "Populating the interactive namespace from numpy and matplotlib\n"
     ]
    }
   ],
   "source": [
    "import numpy as np\n",
    "import scipy as sp\n",
    "from numpy import math\n",
    "%pylab"
   ]
  },
  {
   "cell_type": "markdown",
   "metadata": {},
   "source": [
    "# For"
   ]
  },
  {
   "cell_type": "code",
   "execution_count": 33,
   "metadata": {},
   "outputs": [],
   "source": [
    "def estacionamiento(minutos):\n",
    "    if minutos<=0:\n",
    "        pago=0\n",
    "    elif minutos<=60:\n",
    "        pago=30\n",
    "    else:\n",
    "        pago=30*(minutos//60)\n",
    "        extra=minutos%60\n",
    "        frac=ceil(extra/15)*8\n",
    "        pago=pago+frac\n",
    "    return pago"
   ]
  },
  {
   "cell_type": "code",
   "execution_count": 34,
   "metadata": {},
   "outputs": [
    {
     "name": "stdout",
     "output_type": "stream",
     "text": [
      "¿Cuántos minutos estuviste en el estacionamiento? 89\n",
      "Debes pagar: $ 46.0\n",
      "¿Cuántos minutos estuviste en el estacionamiento? 67\n",
      "Debes pagar: $ 38.0\n",
      "¿Cuántos minutos estuviste en el estacionamiento? -5\n",
      "Debes pagar: $ 0\n",
      "El total cobrado del día fue: $ 84.0\n",
      "El promedio pagado por cliente es de: $ 42.0\n"
     ]
    }
   ],
   "source": [
    "cliente=0\n",
    "cobroTotal=0\n",
    "tiempo=0\n",
    "while tiempo>=0:\n",
    "    tiempo=int(input(\"¿Cuántos minutos estuviste en el estacionamiento? \"))\n",
    "    print(\"Debes pagar: $\",estacionamiento(tiempo))\n",
    "    cliente=cliente+1\n",
    "    cobroTotal=cobroTotal+estacionamiento(tiempo)\n",
    "\n",
    "print(\"El total cobrado del día fue: $\",cobroTotal)    \n",
    "print(\"El promedio pagado por cliente es de: $\",cobroTotal/(cliente-1))"
   ]
  },
  {
   "cell_type": "code",
   "execution_count": 10,
   "metadata": {},
   "outputs": [
    {
     "name": "stdout",
     "output_type": "stream",
     "text": [
      "Debes pagar: $ 76.0\n",
      "Debes pagar: $ 46.0\n",
      "Debes pagar: $ 30\n",
      "Debes pagar: $ 180.0\n",
      "Debes pagar: $ 30\n",
      "Debes pagar: $ 234.0\n",
      "Debes pagar: $ 30\n",
      "Debes pagar: $ 38.0\n",
      "Debes pagar: $ 38.0\n",
      "Debes pagar: $ 30\n",
      "Debes pagar: $ 30\n"
     ]
    }
   ],
   "source": [
    "datos=[150,80,25,360,4,456,5,68,75,30,27]\n",
    "for tiempo in datos:\n",
    "    print(\"Debes pagar: $\",estacionamiento(tiempo))"
   ]
  },
  {
   "cell_type": "code",
   "execution_count": 25,
   "metadata": {},
   "outputs": [],
   "source": [
    "def adivinar(num):\n",
    "      while num != 8:\n",
    "        num=int(input(\"Dame un número entre 1 y 10 \"))\n",
    "        print(\"Intentalo de nuevo\")\n",
    "      print(\"felicidades, le atinaste\")"
   ]
  },
  {
   "cell_type": "code",
   "execution_count": null,
   "metadata": {},
   "outputs": [],
   "source": [
    "num=0\n",
    "adivinar(num)\n"
   ]
  },
  {
   "cell_type": "code",
   "execution_count": 14,
   "metadata": {},
   "outputs": [],
   "source": [
    "def adivina():\n",
    "    intentos=1\n",
    "    suerte=6 #es el número que tiene que adivinar\n",
    "    n=int(input(\"Dame un número entre 1 y 10 \"))\n",
    "    while n!=suerte:\n",
    "        print(\"Vuelve a intentarlo\")\n",
    "        n=int(input(\"Dame un número entre 1 y 10 \"))\n",
    "        intentos=intentos+1\n",
    "    print(\"Felicidades, le atinaste\")\n",
    "    print(\"te tomó\", intentos, \"intentos\")"
   ]
  },
  {
   "cell_type": "code",
   "execution_count": 15,
   "metadata": {},
   "outputs": [
    {
     "name": "stdout",
     "output_type": "stream",
     "text": [
      "Dame un número entre 1 y 10 1\n",
      "Vuelve a intentarlo\n",
      "Dame un número entre 1 y 10 2\n",
      "Vuelve a intentarlo\n",
      "Dame un número entre 1 y 10 3\n",
      "Vuelve a intentarlo\n",
      "Dame un número entre 1 y 10 4\n",
      "Vuelve a intentarlo\n",
      "Dame un número entre 1 y 10 5\n",
      "Vuelve a intentarlo\n",
      "Dame un número entre 1 y 10 6\n",
      "Felicidades, le atinaste\n",
      "te tomó 5 intentos\n"
     ]
    }
   ],
   "source": [
    "adivina()"
   ]
  },
  {
   "cell_type": "code",
   "execution_count": null,
   "metadata": {},
   "outputs": [],
   "source": []
  }
 ],
 "metadata": {
  "kernelspec": {
   "display_name": "Python 3",
   "language": "python",
   "name": "python3"
  },
  "language_info": {
   "codemirror_mode": {
    "name": "ipython",
    "version": 3
   },
   "file_extension": ".py",
   "mimetype": "text/x-python",
   "name": "python",
   "nbconvert_exporter": "python",
   "pygments_lexer": "ipython3",
   "version": "3.8.5"
  }
 },
 "nbformat": 4,
 "nbformat_minor": 4
}
