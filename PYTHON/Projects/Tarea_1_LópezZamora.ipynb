{
 "cells": [
  {
   "cell_type": "code",
   "execution_count": 1,
   "metadata": {},
   "outputs": [
    {
     "name": "stdout",
     "output_type": "stream",
     "text": [
      "Using matplotlib backend: MacOSX\n",
      "Populating the interactive namespace from numpy and matplotlib\n"
     ]
    }
   ],
   "source": [
    "import numpy as np\n",
    "import scipy as sp\n",
    "from numpy import math\n",
    "%pylab"
   ]
  },
  {
   "cell_type": "markdown",
   "metadata": {},
   "source": [
    "# Tarea 1"
   ]
  },
  {
   "cell_type": "markdown",
   "metadata": {},
   "source": [
    "Escriba una funcion que imprima una tabla de conversión de Farenheit a Celsius en cierto intervalo de temperaturas, minimas y maximas que se le pediran al usuario"
   ]
  },
  {
   "cell_type": "code",
   "execution_count": 1,
   "metadata": {},
   "outputs": [],
   "source": [
    "def conversion (inicio,fin):\n",
    "    while inicio <= fin:\n",
    "        print(inicio, \"Farenheit equivale a:\",round((inicio-32)*(5/9),4),\"Celsius\")\n",
    "        inicio=inicio+1"
   ]
  },
  {
   "cell_type": "code",
   "execution_count": 2,
   "metadata": {},
   "outputs": [
    {
     "name": "stdout",
     "output_type": "stream",
     "text": [
      "Dame el valor mínimo en Farenheit 5\n",
      "Dame el valor máximo Farenheit 23\n",
      "5.0 Farenheit equivale a: -15.0 Celsius\n",
      "6.0 Farenheit equivale a: -14.4444 Celsius\n",
      "7.0 Farenheit equivale a: -13.8889 Celsius\n",
      "8.0 Farenheit equivale a: -13.3333 Celsius\n",
      "9.0 Farenheit equivale a: -12.7778 Celsius\n",
      "10.0 Farenheit equivale a: -12.2222 Celsius\n",
      "11.0 Farenheit equivale a: -11.6667 Celsius\n",
      "12.0 Farenheit equivale a: -11.1111 Celsius\n",
      "13.0 Farenheit equivale a: -10.5556 Celsius\n",
      "14.0 Farenheit equivale a: -10.0 Celsius\n",
      "15.0 Farenheit equivale a: -9.4444 Celsius\n",
      "16.0 Farenheit equivale a: -8.8889 Celsius\n",
      "17.0 Farenheit equivale a: -8.3333 Celsius\n",
      "18.0 Farenheit equivale a: -7.7778 Celsius\n",
      "19.0 Farenheit equivale a: -7.2222 Celsius\n",
      "20.0 Farenheit equivale a: -6.6667 Celsius\n",
      "21.0 Farenheit equivale a: -6.1111 Celsius\n",
      "22.0 Farenheit equivale a: -5.5556 Celsius\n",
      "23.0 Farenheit equivale a: -5.0 Celsius\n"
     ]
    }
   ],
   "source": [
    "ini=float(input(\"Dame el valor mínimo en Farenheit \"))\n",
    "fin=float(input(\"Dame el valor máximo Farenheit \"))\n",
    "conversion (ini,fin)"
   ]
  },
  {
   "cell_type": "code",
   "execution_count": null,
   "metadata": {},
   "outputs": [],
   "source": []
  }
 ],
 "metadata": {
  "kernelspec": {
   "display_name": "Python 3",
   "language": "python",
   "name": "python3"
  },
  "language_info": {
   "codemirror_mode": {
    "name": "ipython",
    "version": 3
   },
   "file_extension": ".py",
   "mimetype": "text/x-python",
   "name": "python",
   "nbconvert_exporter": "python",
   "pygments_lexer": "ipython3",
   "version": "3.8.5"
  }
 },
 "nbformat": 4,
 "nbformat_minor": 4
}
