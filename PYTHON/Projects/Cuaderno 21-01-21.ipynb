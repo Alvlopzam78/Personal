{
 "cells": [
  {
   "cell_type": "code",
   "execution_count": 1,
   "metadata": {},
   "outputs": [
    {
     "name": "stdout",
     "output_type": "stream",
     "text": [
      "Using matplotlib backend: MacOSX\n",
      "Populating the interactive namespace from numpy and matplotlib\n"
     ]
    }
   ],
   "source": [
    "import numpy as np\n",
    "import scipy as sp\n",
    "from numpy import math\n",
    "%pylab"
   ]
  },
  {
   "cell_type": "code",
   "execution_count": 2,
   "metadata": {},
   "outputs": [],
   "source": [
    "#La instrucción de input siempre considera las esntradas como de text"
   ]
  },
  {
   "cell_type": "code",
   "execution_count": 2,
   "metadata": {},
   "outputs": [
    {
     "name": "stdout",
     "output_type": "stream",
     "text": [
      "¿Cuántos años tienes?19\n",
      "Tienes 19 años cumplidos\n",
      "Dentro de 10 años tendrás 29 años\n"
     ]
    }
   ],
   "source": [
    "var=int(input(\"¿Cuántos años tienes?\")) #int(input) convierte a entero el valor que se teclee en el input\n",
    "print(\"Tienes\",var, \"años cumplidos\")\n",
    "print(\"Dentro de 10 años tendrás\",(var+10), \"años\")"
   ]
  },
  {
   "cell_type": "code",
   "execution_count": 1,
   "metadata": {},
   "outputs": [],
   "source": [
    "def Descuento(monto):\n",
    "    if monto<1500:\n",
    "        desc=0\n",
    "    elif monto<10000:\n",
    "        desc=20\n",
    "    else:\n",
    "        desc=25\n",
    "    return desc"
   ]
  },
  {
   "cell_type": "code",
   "execution_count": 8,
   "metadata": {},
   "outputs": [
    {
     "name": "stdout",
     "output_type": "stream",
     "text": [
      "¿Cuánto compraste?30000\n",
      "Para la compra de 30000.0 corresponde un 25 de descuento\n"
     ]
    }
   ],
   "source": [
    "compra=float(input(\"¿Cuánto compraste?\"))\n",
    "print(\"Para la compra de\",compra,\"corresponde un\",Descuento(compra),\"de descuento\")"
   ]
  },
  {
   "cell_type": "code",
   "execution_count": 22,
   "metadata": {},
   "outputs": [
    {
     "name": "stdout",
     "output_type": "stream",
     "text": [
      "¿Cuántos años tienes?25\n",
      "Eres mayor de edad\n"
     ]
    }
   ],
   "source": [
    "#Tomando en cuenta la edad, que me diga si es menor de edad o ya es mayor de edad\n",
    "def menorOmayor(edad):\n",
    "    if edad<18:\n",
    "        status=\"Eres menor de edad\"\n",
    "    else:\n",
    "        status=\"Eres mayor de edad\"\n",
    "    return status\n",
    "        \n",
    "edad=int(input(\"¿Cuántos años tienes?\"))\n",
    "print(menorOmayor(edad))"
   ]
  },
  {
   "cell_type": "markdown",
   "metadata": {},
   "source": [
    "# Tarea ejercicio 9, 10,11"
   ]
  },
  {
   "cell_type": "markdown",
   "metadata": {},
   "source": [
    "azul, 9\n",
    "rojo, 10\n",
    "amarillo y morado, 11"
   ]
  }
 ],
 "metadata": {
  "kernelspec": {
   "display_name": "Python 3",
   "language": "python",
   "name": "python3"
  },
  "language_info": {
   "codemirror_mode": {
    "name": "ipython",
    "version": 3
   },
   "file_extension": ".py",
   "mimetype": "text/x-python",
   "name": "python",
   "nbconvert_exporter": "python",
   "pygments_lexer": "ipython3",
   "version": "3.8.5"
  }
 },
 "nbformat": 4,
 "nbformat_minor": 4
}
